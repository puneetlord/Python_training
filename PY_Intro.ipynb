{
  "nbformat": 4,
  "nbformat_minor": 0,
  "metadata": {
    "kernelspec": {
      "display_name": "Python 3",
      "language": "python",
      "name": "python3"
    },
    "language_info": {
      "codemirror_mode": {
        "name": "ipython",
        "version": 3
      },
      "file_extension": ".py",
      "mimetype": "text/x-python",
      "name": "python",
      "nbconvert_exporter": "python",
      "pygments_lexer": "ipython3",
      "version": "3.7.4"
    },
    "nbclean": true,
    "colab": {
      "name": "PY_Intro.ipynb",
      "provenance": [],
      "include_colab_link": true
    }
  },
  "cells": [
    {
      "cell_type": "markdown",
      "metadata": {
        "id": "view-in-github",
        "colab_type": "text"
      },
      "source": [
        "<a href=\"https://colab.research.google.com/github/puneetlord/Python_training/blob/master/PY_Intro.ipynb\" target=\"_parent\"><img src=\"https://colab.research.google.com/assets/colab-badge.svg\" alt=\"Open In Colab\"/></a>"
      ]
    },
    {
      "cell_type": "code",
      "metadata": {
        "id": "i1fOkhoEJuM5",
        "outputId": "8aa3e602-1c43-4337-a4cf-113dc0534b41"
      },
      "source": [
        "%matplotlib inline\n",
        "import matplotlib\n",
        "import seaborn as sns\n",
        "matplotlib.rcParams['savefig.dpi'] = 144"
      ],
      "execution_count": null,
      "outputs": [
        {
          "output_type": "error",
          "ename": "ModuleNotFoundError",
          "evalue": "No module named 'seaborn'",
          "traceback": [
            "\u001b[0;31m---------------------------------------------------------------------------\u001b[0m",
            "\u001b[0;31mModuleNotFoundError\u001b[0m                       Traceback (most recent call last)",
            "\u001b[0;32m<ipython-input-1-c1be7880f457>\u001b[0m in \u001b[0;36m<module>\u001b[0;34m\u001b[0m\n\u001b[1;32m      1\u001b[0m \u001b[0mget_ipython\u001b[0m\u001b[0;34m(\u001b[0m\u001b[0;34m)\u001b[0m\u001b[0;34m.\u001b[0m\u001b[0mrun_line_magic\u001b[0m\u001b[0;34m(\u001b[0m\u001b[0;34m'matplotlib'\u001b[0m\u001b[0;34m,\u001b[0m \u001b[0;34m'inline'\u001b[0m\u001b[0;34m)\u001b[0m\u001b[0;34m\u001b[0m\u001b[0;34m\u001b[0m\u001b[0m\n\u001b[1;32m      2\u001b[0m \u001b[0;32mimport\u001b[0m \u001b[0mmatplotlib\u001b[0m\u001b[0;34m\u001b[0m\u001b[0;34m\u001b[0m\u001b[0m\n\u001b[0;32m----> 3\u001b[0;31m \u001b[0;32mimport\u001b[0m \u001b[0mseaborn\u001b[0m \u001b[0;32mas\u001b[0m \u001b[0msns\u001b[0m\u001b[0;34m\u001b[0m\u001b[0;34m\u001b[0m\u001b[0m\n\u001b[0m\u001b[1;32m      4\u001b[0m \u001b[0mmatplotlib\u001b[0m\u001b[0;34m.\u001b[0m\u001b[0mrcParams\u001b[0m\u001b[0;34m[\u001b[0m\u001b[0;34m'savefig.dpi'\u001b[0m\u001b[0;34m]\u001b[0m \u001b[0;34m=\u001b[0m \u001b[0;36m144\u001b[0m\u001b[0;34m\u001b[0m\u001b[0;34m\u001b[0m\u001b[0m\n",
            "\u001b[0;31mModuleNotFoundError\u001b[0m: No module named 'seaborn'"
          ]
        }
      ]
    },
    {
      "cell_type": "markdown",
      "metadata": {
        "id": "R3fyN8wzJuNE"
      },
      "source": [
        "# Introduction to Data Science"
      ]
    },
    {
      "cell_type": "markdown",
      "metadata": {
        "id": "EpQWVvy8JuNF"
      },
      "source": [
        "Welcome!  We will be taking a deep dive into Data Science over the next few months.  This course will be divided into two parts, the first component will cover basic Python and programming while the second component will cover material in Data Science ranging from basic programming to data cleaning and aggregation.  The basic syllabus is as follows\n",
        "\n",
        "|Week|Material|\n",
        "|---|---|\n",
        "|1| Programming and Python fundamentals|\n",
        "|2| Data structures|\n",
        "|3| Algorithms, object-oriented programming, & Pythonic style|\n",
        "|4| Reading and writing data|\n",
        "|5| Python data science packages|\n",
        "|6| SQL|\n",
        "|7| Data munging|\n",
        "|8| Object-relation mapping|\n",
        "\n",
        "The second component is a series of miniprojects which will test your mastery of the lecture subjects.  Data Science is not a spectator sport, so its important to practice, the miniprojects are a great way to do that.  There will be a series of five miniprojects which will need to be completed by the end of the course.\n",
        "\n",
        "There is an online discussion board where we can help each other learn, share code snippets, and ask questions.  The instructor will be monitoring the board and watching for questions, but it is also important that you interact with your peers.  Remember the best learning often happens when you need to explain something to someone else."
      ]
    },
    {
      "cell_type": "markdown",
      "metadata": {
        "id": "pd5NKjBXJuNG"
      },
      "source": [
        "## Learning Platform\n",
        "\n",
        "We will be using the Jupyter notebook interface for all of our work.  The Jupyter notebook is a great tool for Data Science, especially for exploratory Data Science.  Lets go over a few things about the notebook.\n",
        "\n",
        "The notebook is divided into cells, some of which are markdown."
      ]
    },
    {
      "cell_type": "code",
      "metadata": {
        "id": "9_BngMe-JuNH",
        "outputId": "7212b079-9bbf-481d-e288-b74a4ceaf172"
      },
      "source": [
        "print('some of which are code')"
      ],
      "execution_count": null,
      "outputs": [
        {
          "output_type": "stream",
          "text": [
            "some of which are code\n"
          ],
          "name": "stdout"
        }
      ]
    },
    {
      "cell_type": "markdown",
      "metadata": {
        "id": "N0W4gPi2JuNH"
      },
      "source": [
        "The code you are writing in your web browser gets sent to a Python \"kernel\" living on a cloud server which will execute your code and return the result back to the notebook.  To run a cell we can either click the run button at the top of the screen, or use `shift+enter`.  \n",
        "\n",
        "If I define a variable in one cell"
      ]
    },
    {
      "cell_type": "code",
      "metadata": {
        "id": "GTLcAuwZJuNI"
      },
      "source": [
        "a = 5"
      ],
      "execution_count": null,
      "outputs": []
    },
    {
      "cell_type": "markdown",
      "metadata": {
        "id": "xoRlPgk4JuNI"
      },
      "source": [
        "The value is still accessible in another cell:"
      ]
    },
    {
      "cell_type": "code",
      "metadata": {
        "id": "B2LwKePvJuNJ",
        "outputId": "3ce883a7-f6e1-4651-901b-89778b6887bb"
      },
      "source": [
        "print(a)"
      ],
      "execution_count": null,
      "outputs": [
        {
          "output_type": "stream",
          "text": [
            "5\n"
          ],
          "name": "stdout"
        }
      ]
    },
    {
      "cell_type": "markdown",
      "metadata": {
        "id": "jo86DUWiJuNK"
      },
      "source": [
        "Jupyter notebooks do have some autosave functionality, but please remember to save your notebooks manually often to make sure you don't use any work.  If you are familiar with a version control too like `git`, it is not a bad idea to version control the notebooks, although we do ask you don't push the material to a public repository."
      ]
    },
    {
      "cell_type": "markdown",
      "metadata": {
        "id": "RRNdSdxoJuNL"
      },
      "source": [
        "## Exercises\n",
        "\n",
        "These notebooks contain many small exercises which help practice the material being discussed.  Some of the exercises will be writing a bit of code, others will be written.  Some of the exercises will be covered in the lecture and some will be left as practice.  Exercises are a great topic to discuss on the forum and please feel free to help each other solve them.\n",
        "\n",
        "Now a few exercises for the introduction:\n",
        "\n",
        "1. Make a few cells in the Jupyter notebook and execute them\n",
        "2. Save your Jupyter notebook"
      ]
    },
    {
      "cell_type": "markdown",
      "metadata": {
        "id": "RqpJ0CqEJuNM"
      },
      "source": [
        "*Copyright &copy; 2018 The Data Incubator.  All rights reserved.*"
      ]
    }
  ]
}