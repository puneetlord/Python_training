{
  "nbformat": 4,
  "nbformat_minor": 0,
  "metadata": {
    "kernelspec": {
      "display_name": "Python 3",
      "language": "python",
      "name": "python3"
    },
    "language_info": {
      "codemirror_mode": {
        "name": "ipython",
        "version": 3
      },
      "file_extension": ".py",
      "mimetype": "text/x-python",
      "name": "python",
      "nbconvert_exporter": "python",
      "pygments_lexer": "ipython3",
      "version": "3.7.4"
    },
    "nbclean": true,
    "colab": {
      "name": "PY_ProgramFlow.ipynb",
      "provenance": [],
      "include_colab_link": true
    }
  },
  "cells": [
    {
      "cell_type": "markdown",
      "metadata": {
        "id": "view-in-github",
        "colab_type": "text"
      },
      "source": [
        "<a href=\"https://colab.research.google.com/github/puneetlord/Python_training/blob/master/PY_ProgramFlow.ipynb\" target=\"_parent\"><img src=\"https://colab.research.google.com/assets/colab-badge.svg\" alt=\"Open In Colab\"/></a>"
      ]
    },
    {
      "cell_type": "code",
      "metadata": {
        "id": "vLd5txoREibC"
      },
      "source": [
        "%matplotlib inline\n",
        "import matplotlib\n",
        "import seaborn as sns\n",
        "sns.set()\n",
        "matplotlib.rcParams['figure.dpi'] = 144"
      ],
      "execution_count": 132,
      "outputs": []
    },
    {
      "cell_type": "code",
      "metadata": {
        "id": "yHlOU7ovEibQ"
      },
      "source": [
        "%matplotlib inline\n",
        "import matplotlib\n",
        "import seaborn as sns\n",
        "matplotlib.rcParams['savefig.dpi'] = 144"
      ],
      "execution_count": 133,
      "outputs": []
    },
    {
      "cell_type": "code",
      "metadata": {
        "id": "gvmX7wFIIeOi"
      },
      "source": [
        "import expectexception"
      ],
      "execution_count": 134,
      "outputs": []
    },
    {
      "cell_type": "markdown",
      "metadata": {
        "id": "j4JPV0UGEibS"
      },
      "source": [
        "# Program Flow\n",
        "<!-- requirement: images/high_score_flowchart.png -->\n",
        "<!-- requirement: images/nested_logic_flowchart.png -->"
      ]
    },
    {
      "cell_type": "markdown",
      "metadata": {
        "id": "TWHkvLd-EibT"
      },
      "source": [
        "## What is a computer program?\n",
        "\n",
        "At its simplest, a program is a list of instructions that a computer carries out in order. A program could be long and complicated, but it is built of simple parts. Let's look at some simple operations in Python, and think about what the computer does for each one:"
      ]
    },
    {
      "cell_type": "code",
      "metadata": {
        "colab": {
          "base_uri": "https://localhost:8080/"
        },
        "id": "43-v8aGNEibU",
        "outputId": "8e63f4bf-131c-4b6f-82c0-6a21b387cd2f"
      },
      "source": [
        "1 + 1"
      ],
      "execution_count": 135,
      "outputs": [
        {
          "output_type": "execute_result",
          "data": {
            "text/plain": [
              "2"
            ]
          },
          "metadata": {
            "tags": []
          },
          "execution_count": 135
        }
      ]
    },
    {
      "cell_type": "code",
      "metadata": {
        "colab": {
          "base_uri": "https://localhost:8080/"
        },
        "id": "eMDo2UnZEibX",
        "outputId": "cd23b0fc-fcec-42b1-a978-4b238af2f263"
      },
      "source": [
        "2 * 3.5"
      ],
      "execution_count": 136,
      "outputs": [
        {
          "output_type": "execute_result",
          "data": {
            "text/plain": [
              "7.0"
            ]
          },
          "metadata": {
            "tags": []
          },
          "execution_count": 136
        }
      ]
    },
    {
      "cell_type": "code",
      "metadata": {
        "colab": {
          "base_uri": "https://localhost:8080/"
        },
        "id": "9qgphJKnEibY",
        "outputId": "e446eb82-701a-403f-a83b-6e911b874d29"
      },
      "source": [
        "1 + 1\n",
        "2 * 3.5"
      ],
      "execution_count": 137,
      "outputs": [
        {
          "output_type": "execute_result",
          "data": {
            "text/plain": [
              "7.0"
            ]
          },
          "metadata": {
            "tags": []
          },
          "execution_count": 137
        }
      ]
    },
    {
      "cell_type": "markdown",
      "metadata": {
        "id": "6w-sL33ZEibZ"
      },
      "source": [
        "In the first cell we compute `1 + 1`, and Python returns the result `2`. We can think of this as a very short program. Similarly, in the second cell we compute `2 * 3.5`, and Python returns the result `7.0`.\n",
        "\n",
        "However, in the third cell, when we combine these two statements as sequential lines, we only see Python return `7.0`. Why is that?\n",
        "\n",
        "Python can only return one result at the end of the cell, so the first line is evaluated, but we never see the result. One way we can report intermediate results is using `print`."
      ]
    },
    {
      "cell_type": "code",
      "metadata": {
        "colab": {
          "base_uri": "https://localhost:8080/"
        },
        "id": "j-mrQ3awEiba",
        "outputId": "ee810368-86d9-41c1-8f49-7e508042a156"
      },
      "source": [
        "print(1 + 1)\n",
        "print(2 * 3.5)"
      ],
      "execution_count": 138,
      "outputs": [
        {
          "output_type": "stream",
          "text": [
            "2\n",
            "7.0\n"
          ],
          "name": "stdout"
        }
      ]
    },
    {
      "cell_type": "markdown",
      "metadata": {
        "id": "PUymHfRyEibb"
      },
      "source": [
        "We can also include lines in the code that the computer won't execute. We call these lines **comments**, because they are used to add notes and explanations to the code. We use `#` to indicate that we are making a comment."
      ]
    },
    {
      "cell_type": "code",
      "metadata": {
        "colab": {
          "base_uri": "https://localhost:8080/"
        },
        "id": "sFnUdg5iEibc",
        "outputId": "21a97e12-e7f5-4099-9e81-380a46e61876"
      },
      "source": [
        "print('1 + 1 is', 1 + 1)\n",
        "# this is a comment, Python won't try to execute it\n",
        "print('All done!')"
      ],
      "execution_count": 139,
      "outputs": [
        {
          "output_type": "stream",
          "text": [
            "1 + 1 is 2\n",
            "All done!\n"
          ],
          "name": "stdout"
        }
      ]
    },
    {
      "cell_type": "markdown",
      "metadata": {
        "id": "KPBwOEPQEibd"
      },
      "source": [
        "Often we won't want to only print intermediate results, but _store_ them for later use. We can store a result in the computer's memory by assigning it to a **variable**."
      ]
    },
    {
      "cell_type": "code",
      "metadata": {
        "colab": {
          "base_uri": "https://localhost:8080/"
        },
        "id": "zR9bCPSEEibd",
        "outputId": "65a0d08e-f2b8-45a0-9f5a-9360155762f1"
      },
      "source": [
        "first_result = 1 + 1\n",
        "final_result = first_result * 3.5\n",
        "\n",
        "print(final_result)"
      ],
      "execution_count": 140,
      "outputs": [
        {
          "output_type": "stream",
          "text": [
            "7.0\n"
          ],
          "name": "stdout"
        }
      ]
    },
    {
      "cell_type": "markdown",
      "metadata": {
        "id": "ODDTr5B3Eibe"
      },
      "source": [
        "Here we were able to use the result of the first calculation (stored in the variable `first_result`) in our second calculation. We store the second result in `final_result`, which we can print at the end of the cell.\n",
        "\n",
        "Variables help us keep track of the information we need to successfully execute a program. Variables can be used to store a variety of types of information."
      ]
    },
    {
      "cell_type": "code",
      "metadata": {
        "colab": {
          "base_uri": "https://localhost:8080/"
        },
        "id": "WNyh1c-NEibf",
        "outputId": "a2d79022-97fb-4c56-a27b-c6fe27977b5a"
      },
      "source": [
        "my_name = 'Dylan'\n",
        "my_age = 28\n",
        "my_favorite_number = 2.718\n",
        "has_dog = True\n",
        "\n",
        "print('My name is', my_name)\n",
        "print('My age is', my_age)\n",
        "print('My favorite number is', my_favorite_number)\n",
        "print('I own a dog:', has_dog)"
      ],
      "execution_count": 141,
      "outputs": [
        {
          "output_type": "stream",
          "text": [
            "My name is Dylan\n",
            "My age is 28\n",
            "My favorite number is 2.718\n",
            "I own a dog: True\n"
          ],
          "name": "stdout"
        }
      ]
    },
    {
      "cell_type": "markdown",
      "metadata": {
        "id": "_3l6grp-Eibh"
      },
      "source": [
        "Since variables can be used to store so many types of information, it's a good idea to give those variables descriptive names like I did. This helps us write code that is easy to read, which helps when we're trying to find and fix mistakes, or share code with others."
      ]
    },
    {
      "cell_type": "code",
      "metadata": {
        "colab": {
          "base_uri": "https://localhost:8080/"
        },
        "id": "Gs07cb-5Eibh",
        "outputId": "bd7c3289-98d1-49db-b4ae-82fbd6a85a37"
      },
      "source": [
        "print(type(my_name))\n",
        "print(type(my_age))\n",
        "print(type(my_favorite_number))\n",
        "print(type(has_dog))"
      ],
      "execution_count": 142,
      "outputs": [
        {
          "output_type": "stream",
          "text": [
            "<class 'str'>\n",
            "<class 'int'>\n",
            "<class 'float'>\n",
            "<class 'bool'>\n"
          ],
          "name": "stdout"
        }
      ]
    },
    {
      "cell_type": "markdown",
      "metadata": {
        "id": "oKvHcxl9Eibj"
      },
      "source": [
        "A **string** is a sequence of characters. An **integer** has the same meaning as in mathematics (i.e. \"whole numbers\"). A **float** or **floating point number** refers to a decimal number (i.e. \"real number\" in mathematics); it is called a float because the decimal point is allowed to \"float\" through the digits, allowing us to represent both big numbers (e.g. 204939.12) and small numbers (e.g. 0.000239). A **bool** or **boolean** refers to a variable that is either true or false.\n",
        "\n",
        "These are just a few types of data we will encounter, and we will explore others later on in the course.\n",
        "\n",
        "In Python, we can assign any type of data to a variable without declaring what type the variable will be in advance. Not all programming languages behave this way."
      ]
    },
    {
      "cell_type": "markdown",
      "metadata": {
        "id": "6oRYhL71Eibk"
      },
      "source": [
        "### Exercises\n",
        "\n",
        "1. Define `my_name` and `my_age` variables with values corresponding to your own name and age and print them.\n",
        "1. Use your `my_age` variable to print out how old you will be in 10 years."
      ]
    },
    {
      "cell_type": "code",
      "metadata": {
        "colab": {
          "base_uri": "https://localhost:8080/"
        },
        "id": "h60kag5LEibl",
        "outputId": "8ec718df-ea5a-4ef6-e170-db5796d66f5f"
      },
      "source": [
        "my_name = \"Puneet\"\n",
        "my_age = 32\n",
        "print(my_name)\n",
        "print(my_age)"
      ],
      "execution_count": 143,
      "outputs": [
        {
          "output_type": "stream",
          "text": [
            "Puneet\n",
            "32\n"
          ],
          "name": "stdout"
        }
      ]
    },
    {
      "cell_type": "code",
      "metadata": {
        "colab": {
          "base_uri": "https://localhost:8080/"
        },
        "id": "QFNtKuAaEibl",
        "outputId": "6851f453-78dd-4962-ba14-ea5d383e984f"
      },
      "source": [
        "print(\"In 10 years, my age will be {}\".format(my_age+10))"
      ],
      "execution_count": 144,
      "outputs": [
        {
          "output_type": "stream",
          "text": [
            "In 10 years, my age will be 42\n"
          ],
          "name": "stdout"
        }
      ]
    },
    {
      "cell_type": "markdown",
      "metadata": {
        "id": "O6z1q4qeEibm"
      },
      "source": [
        "## Functions\n",
        "\n",
        "Many programs react to user input. Functions allow us to define a task we would like the computer to carry out based on input. A simple function in Python might look like this:"
      ]
    },
    {
      "cell_type": "code",
      "metadata": {
        "id": "z-PB1uQ2Eibn"
      },
      "source": [
        "def square(number):\n",
        "    return number**2"
      ],
      "execution_count": 145,
      "outputs": []
    },
    {
      "cell_type": "markdown",
      "metadata": {
        "id": "NQXb6eavEibn"
      },
      "source": [
        "We define functions using the `def` keyword. Next comes the name of the function, which in this case is `square`. We then enclose the function's input in parentheses, in this case `number`. We use `:` to tell Python we're ready to write the body of the function.\n",
        "\n",
        "In this case the body of the function is very simple; we return the square of `number` (we use `**` for exponents in Python). The keyword `return` signals that the function will generate some output. Not every function will have a `return` statement, but many will. A `return` statement ends a function.\n",
        "\n",
        "Let's see our function in action:"
      ]
    },
    {
      "cell_type": "code",
      "metadata": {
        "colab": {
          "base_uri": "https://localhost:8080/"
        },
        "id": "n432cOGsEibo",
        "outputId": "08f320cf-d2b8-4bbd-839c-23b161b469f0"
      },
      "source": [
        "# we can store function output in variables\n",
        "squared = square(5.5)\n",
        "\n",
        "print(squared)\n",
        "\n",
        "my_number = 6\n",
        "# we can also use variables as function input\n",
        "print(square(my_number))"
      ],
      "execution_count": 146,
      "outputs": [
        {
          "output_type": "stream",
          "text": [
            "30.25\n",
            "36\n"
          ],
          "name": "stdout"
        }
      ]
    },
    {
      "cell_type": "markdown",
      "metadata": {
        "id": "x3b2PgVPEibp"
      },
      "source": [
        "We can pass different input to the `square` function, including variables. When we passed a float to `square`, it returned a float. When we passed an integer, `square` returned an integer. In both cases the input was interpreted by the function as the argument `number`.\n",
        "\n",
        "Not all possible inputs are valid."
      ]
    },
    {
      "cell_type": "code",
      "metadata": {
        "colab": {
          "base_uri": "https://localhost:8080/"
        },
        "id": "VBOeXL_eEibq",
        "outputId": "355ce186-3e6c-4a20-aaf1-7dfdae4d1e8f"
      },
      "source": [
        "%%expect_exception TypeError\n",
        "\n",
        "print(square('banana'))"
      ],
      "execution_count": 147,
      "outputs": [
        {
          "output_type": "stream",
          "text": [
            "\u001b[0;31m---------------------------------------------------------------------------\u001b[0m\n",
            "\u001b[0;31mTypeError\u001b[0m                                 Traceback (most recent call last)\n",
            "\u001b[0;32m<ipython-input-147-dc5d234dc4df>\u001b[0m in \u001b[0;36m<module>\u001b[0;34m()\u001b[0m\n",
            "\u001b[1;32m      1\u001b[0m \u001b[0;34m\u001b[0m\u001b[0m\n",
            "\u001b[0;32m----> 2\u001b[0;31m \u001b[0mprint\u001b[0m\u001b[0;34m(\u001b[0m\u001b[0msquare\u001b[0m\u001b[0;34m(\u001b[0m\u001b[0;34m'banana'\u001b[0m\u001b[0;34m)\u001b[0m\u001b[0;34m)\u001b[0m\u001b[0;34m\u001b[0m\u001b[0;34m\u001b[0m\u001b[0m\n",
            "\u001b[0m\n",
            "\u001b[0;32m<ipython-input-145-14ad5632da12>\u001b[0m in \u001b[0;36msquare\u001b[0;34m(number)\u001b[0m\n",
            "\u001b[1;32m      1\u001b[0m \u001b[0;32mdef\u001b[0m \u001b[0msquare\u001b[0m\u001b[0;34m(\u001b[0m\u001b[0mnumber\u001b[0m\u001b[0;34m)\u001b[0m\u001b[0;34m:\u001b[0m\u001b[0;34m\u001b[0m\u001b[0;34m\u001b[0m\u001b[0m\n",
            "\u001b[0;32m----> 2\u001b[0;31m     \u001b[0;32mreturn\u001b[0m \u001b[0mnumber\u001b[0m\u001b[0;34m**\u001b[0m\u001b[0;36m2\u001b[0m\u001b[0;34m\u001b[0m\u001b[0;34m\u001b[0m\u001b[0m\n",
            "\u001b[0m\n",
            "\u001b[0;31mTypeError\u001b[0m: unsupported operand type(s) for ** or pow(): 'str' and 'int'\n"
          ],
          "name": "stdout"
        }
      ]
    },
    {
      "cell_type": "markdown",
      "metadata": {
        "id": "WwIsemGHEibq"
      },
      "source": [
        "We ran into an error because `'banana'` is a string, not a number. We should be careful to make sure that the input for a function makes sense for that function's purpose. We'll talk more about errors like this one later on.\n",
        "\n",
        "### Exercises\n",
        "\n",
        "1. Write a function to cube a number.\n",
        "2. Write a function, `say_hello` which takes in a name variable and print out \"Hello name\".  `say_hello(\"zach\")` should print `\"Hello zach\"`."
      ]
    },
    {
      "cell_type": "code",
      "metadata": {
        "colab": {
          "base_uri": "https://localhost:8080/"
        },
        "id": "JMopN-fWEibr",
        "outputId": "8129ee67-2056-48f5-919f-1fec056ba46c"
      },
      "source": [
        "def cube(number):\n",
        "    return number ** 3\n",
        "\n",
        "print(cube(2))"
      ],
      "execution_count": 148,
      "outputs": [
        {
          "output_type": "stream",
          "text": [
            "8\n"
          ],
          "name": "stdout"
        }
      ]
    },
    {
      "cell_type": "code",
      "metadata": {
        "colab": {
          "base_uri": "https://localhost:8080/"
        },
        "id": "8PG3HsQTEibs",
        "outputId": "37b600e8-af6c-4ef8-8e12-be25d569511a"
      },
      "source": [
        "def say_hello(name):\n",
        "    print(\"Hello {}\".format(name))\n",
        "\n",
        "say_hello(\"zach\")"
      ],
      "execution_count": 149,
      "outputs": [
        {
          "output_type": "stream",
          "text": [
            "Hello zach\n"
          ],
          "name": "stdout"
        }
      ]
    },
    {
      "cell_type": "markdown",
      "metadata": {
        "id": "BammhhgPEibt"
      },
      "source": [
        "### Why Functions?\n",
        "We can see that functions are useful for handling user input, but they also come in handy in numerous other cases.  One example is when we want to perform an action multiple times on different input.  If I want to square a bunch of numbers, in particular the numbers between 1 and 10, I can do this pretty easily (later we will learn about iteration which will make this even easier!)"
      ]
    },
    {
      "cell_type": "code",
      "metadata": {
        "colab": {
          "base_uri": "https://localhost:8080/"
        },
        "id": "ohPcLpslEibu",
        "outputId": "680a8daf-fbd4-487b-de22-e3c2ab0861a1"
      },
      "source": [
        "1**2\n",
        "2**2\n",
        "3**2\n",
        "4**2\n",
        "5**2\n",
        "6**2\n",
        "7**2\n",
        "8**2\n",
        "9**2"
      ],
      "execution_count": 150,
      "outputs": [
        {
          "output_type": "execute_result",
          "data": {
            "text/plain": [
              "81"
            ]
          },
          "metadata": {
            "tags": []
          },
          "execution_count": 150
        }
      ]
    },
    {
      "cell_type": "markdown",
      "metadata": {
        "id": "yxbzUbc0Eibu"
      },
      "source": [
        "It seems I forgot to save the answers or at least print them.  This is easy:"
      ]
    },
    {
      "cell_type": "code",
      "metadata": {
        "colab": {
          "base_uri": "https://localhost:8080/"
        },
        "id": "BypJmyApEibv",
        "outputId": "0132c815-d49a-44ac-9a12-ef78dac378f4"
      },
      "source": [
        "print(1**2)\n",
        "print(2**2)\n",
        "print(3**2)\n",
        "print(4**2)\n",
        "print(5**2)\n",
        "print(6**2)\n",
        "print(7**2)\n",
        "print(8**2)\n",
        "print(9**2)"
      ],
      "execution_count": 151,
      "outputs": [
        {
          "output_type": "stream",
          "text": [
            "1\n",
            "4\n",
            "9\n",
            "16\n",
            "25\n",
            "36\n",
            "49\n",
            "64\n",
            "81\n"
          ],
          "name": "stdout"
        }
      ]
    },
    {
      "cell_type": "markdown",
      "metadata": {
        "id": "UraFZd0WEibv"
      },
      "source": [
        "That worked!  However, what if I now want to go back and add two to all the answers?  Clearly changing each instance is not the right way to do it.  Lets instead define a function to do the work for us."
      ]
    },
    {
      "cell_type": "code",
      "metadata": {
        "id": "CwhDMJcOEibw"
      },
      "source": [
        "def do_it(x):\n",
        "    print(x**2 + 2)"
      ],
      "execution_count": 152,
      "outputs": []
    },
    {
      "cell_type": "markdown",
      "metadata": {
        "id": "HH6UAzbmEibz"
      },
      "source": [
        "Now we can just call the function on every element.  If we want to change the output, we just need to change the function in one place, not in all places we want to use the function!"
      ]
    },
    {
      "cell_type": "code",
      "metadata": {
        "colab": {
          "base_uri": "https://localhost:8080/"
        },
        "id": "gc4MZVMoEib0",
        "outputId": "d9c5051d-9554-482a-b09f-37558866d694"
      },
      "source": [
        "do_it(1)\n",
        "do_it(2)\n",
        "do_it(3)\n",
        "do_it(4)\n",
        "do_it(5)\n",
        "do_it(6)\n",
        "do_it(7)\n",
        "do_it(8)\n",
        "do_it(9)"
      ],
      "execution_count": 153,
      "outputs": [
        {
          "output_type": "stream",
          "text": [
            "3\n",
            "6\n",
            "11\n",
            "18\n",
            "27\n",
            "38\n",
            "51\n",
            "66\n",
            "83\n"
          ],
          "name": "stdout"
        }
      ]
    },
    {
      "cell_type": "markdown",
      "metadata": {
        "id": "H63K9xgdEib1"
      },
      "source": [
        "Splitting out the work into functions is often a way to make code more modular and understandable.  It also helps ensure your code is correct.  If we write a function and test it to be correct, we know it will be correct every time we use it.  If we don't break out code into a function, it is very easy to make typos or other errors which will cause our programs to break.  \n",
        "\n",
        "### Exercises\n",
        "\n",
        "1. Modify the `do_it` function to print the square of the value it currently prints."
      ]
    },
    {
      "cell_type": "markdown",
      "metadata": {
        "id": "JV0gkBk0Eib2"
      },
      "source": [
        "## Syntax\n",
        "\n",
        "As our instructions to the computer become more complicated, we will need to organize them in a way the computer understands. We've already seen an example of this with our `square` function. There was a specific order to the words and specific symbols we had to use to let Python know which part of the function was the definition and which part was the body, or which part was the name of the function and which part was the argument. We call the rules for organizing code the programming language's **syntax**.\n",
        "\n",
        "Python's syntax is very streamlined so that code is readable and intuitive. Python accomplishes this by using whitespace to organize code. Let's look at some examples."
      ]
    },
    {
      "cell_type": "code",
      "metadata": {
        "colab": {
          "base_uri": "https://localhost:8080/",
          "height": 0
        },
        "id": "IhCnbjdhEib3",
        "outputId": "b534cd9e-7482-47b9-8753-d3beebe0964e"
      },
      "source": [
        "def example_a():\n",
        "    print('example_a is running')\n",
        "    print('returning value \"a\"')\n",
        "    return 'a'\n",
        "\n",
        "example_a()"
      ],
      "execution_count": 154,
      "outputs": [
        {
          "output_type": "stream",
          "text": [
            "example_a is running\n",
            "returning value \"a\"\n"
          ],
          "name": "stdout"
        },
        {
          "output_type": "execute_result",
          "data": {
            "application/vnd.google.colaboratory.intrinsic+json": {
              "type": "string"
            },
            "text/plain": [
              "'a'"
            ]
          },
          "metadata": {
            "tags": []
          },
          "execution_count": 154
        }
      ]
    },
    {
      "cell_type": "code",
      "metadata": {
        "colab": {
          "base_uri": "https://localhost:8080/"
        },
        "id": "oMDXB7FrEib3",
        "outputId": "737dcfd5-a67b-4fce-8c7d-2a2979993e8b"
      },
      "source": [
        "def example_b():\n",
        "    print('example_b is running')\n",
        "    print('exiting without returning a value')\n",
        "\n",
        "example_b()"
      ],
      "execution_count": 155,
      "outputs": [
        {
          "output_type": "stream",
          "text": [
            "example_b is running\n",
            "exiting without returning a value\n"
          ],
          "name": "stdout"
        }
      ]
    },
    {
      "cell_type": "markdown",
      "metadata": {
        "id": "uBJw9fKHEib4"
      },
      "source": [
        "The function `example_a` ends with a return statement, but `example_b` has no return statement. How does Python know where `example_b` ends? We use indentation to indicate which lines are part of the function and which aren't. The indented lines are all grouped together under the function definition. We'll see this format again for controlling whether certain sections of code execute."
      ]
    },
    {
      "cell_type": "markdown",
      "metadata": {
        "id": "qDQzptSQEib5"
      },
      "source": [
        "## Conditionals and logic\n",
        "\n",
        "We'll often want the computer only to take an action under certain circumstances. For example, we might want a game to print the message 'High score!', but only if the player's score is higher than the previous high score. We can write this as a formal logical statement: *if* the player's score is higher than the previous high score _then_ print 'High score!'.\n",
        "\n",
        "The syntax for expressing this logic in Python is very similar. Let's define a function that accepts the player's score and the previous high score as arguments. If the player's score is higher, then it will print 'High score!'. Finally, it will return the new high score (whichever one that is)."
      ]
    },
    {
      "cell_type": "code",
      "metadata": {
        "id": "hM8_zGT0Eib6"
      },
      "source": [
        "def test_high_score(player_score, high_score):\n",
        "    if player_score > high_score:\n",
        "        print('High score!')\n",
        "        high_score = player_score\n",
        "\n",
        "    return high_score"
      ],
      "execution_count": 156,
      "outputs": []
    },
    {
      "cell_type": "code",
      "metadata": {
        "colab": {
          "base_uri": "https://localhost:8080/"
        },
        "id": "ey3XqV2iEib7",
        "outputId": "c794446f-8359-454a-dc74-2096d5682537"
      },
      "source": [
        "print(test_high_score(83, 98))"
      ],
      "execution_count": 157,
      "outputs": [
        {
          "output_type": "stream",
          "text": [
            "98\n"
          ],
          "name": "stdout"
        }
      ]
    },
    {
      "cell_type": "code",
      "metadata": {
        "colab": {
          "base_uri": "https://localhost:8080/"
        },
        "id": "SzDX6VjMEib7",
        "outputId": "342d0a1a-62d0-41e4-81b7-9117364764d9"
      },
      "source": [
        "print(test_high_score(95, 93))"
      ],
      "execution_count": 158,
      "outputs": [
        {
          "output_type": "stream",
          "text": [
            "High score!\n",
            "95\n"
          ],
          "name": "stdout"
        }
      ]
    },
    {
      "cell_type": "markdown",
      "metadata": {
        "id": "yGHKPDJCEib7"
      },
      "source": [
        "With `if` statements we use a similar syntax as we used for organizing functions. With functions we had a `def` statement ending with `:`, and an indented body. Similarly for a conditional, we have an `if` statement ending with `:`, and an indented body.\n",
        "\n",
        "Conditional statements are used to control program flow. We can visualize our example, `test_high_score`, in a decision tree.\n",
        "\n",
        "![simple_logic_flowchart](images/high_score_flowchart.png)\n",
        "\n",
        "We can nest `if` statements to make more complicated trees."
      ]
    },
    {
      "cell_type": "code",
      "metadata": {
        "colab": {
          "base_uri": "https://localhost:8080/"
        },
        "id": "8QR91P0fEib8",
        "outputId": "4ba7f92b-5d76-440d-996b-75f72f432df0"
      },
      "source": [
        "def nested_example(x):\n",
        "    if x < 50:\n",
        "        if x % 2 == 0:\n",
        "            return 'branch a'\n",
        "        else:\n",
        "            return 'branch b'\n",
        "    else:\n",
        "        return 'branch c'\n",
        "\n",
        "print(nested_example(42))\n",
        "print(nested_example(51))\n",
        "print(nested_example(37))"
      ],
      "execution_count": 159,
      "outputs": [
        {
          "output_type": "stream",
          "text": [
            "branch a\n",
            "branch c\n",
            "branch b\n"
          ],
          "name": "stdout"
        }
      ]
    },
    {
      "cell_type": "markdown",
      "metadata": {
        "id": "z2a9gVuEEib8"
      },
      "source": [
        "In this example, we have an `if` statement nested under another `if` statement. As we change the input, we end up on different branches of the tree.\n",
        "\n",
        "![nested_logic_flowchart](images/nested_logic_flowchart.png)\n",
        "\n",
        "The statement that follows the `if` is called the **condition**. The condition can be either true or false. If the condition is true, then we execute the statements under the `if`. If the condition is false, then we execute the statements under the `else` (or if there is no `else`, then we do nothing).\n",
        "\n",
        "Conditions themselves are instructions that Python can interpret."
      ]
    },
    {
      "cell_type": "code",
      "metadata": {
        "colab": {
          "base_uri": "https://localhost:8080/"
        },
        "id": "579IM2ADEib9",
        "outputId": "f560e1d6-0241-4e0a-c4da-cb160325c808"
      },
      "source": [
        "print(50 > 10)\n",
        "print(2 + 2 == 4)\n",
        "print(-3 > 2)"
      ],
      "execution_count": 160,
      "outputs": [
        {
          "output_type": "stream",
          "text": [
            "True\n",
            "True\n",
            "False\n"
          ],
          "name": "stdout"
        }
      ]
    },
    {
      "cell_type": "markdown",
      "metadata": {
        "id": "rDbq4eRIEib9"
      },
      "source": [
        "Conditions are evaluated as booleans, which are `True` or `False`. We can combine conditions by asking of condition A _and_ condition B are true. We could also ask if condition A *or* condition B are true. Let's consider whether such statements are true overall based on the possible values of condition A and condition B.\n",
        "\n",
        "|Condition A|Condition B|Condition A and Condition B|Condition A or Condition B|\n",
        "|:---------:|:---------:|:-------------------------:|:------------------------:|\n",
        "|True|True|True|True|\n",
        "|True|False|False|True|\n",
        "|False|True|False|True|\n",
        "|False|False|False|False|"
      ]
    },
    {
      "cell_type": "code",
      "metadata": {
        "colab": {
          "base_uri": "https://localhost:8080/"
        },
        "id": "nW2Dks67Eib-",
        "outputId": "bb8801ac-2ce2-4392-cfa4-da19c7e4d592"
      },
      "source": [
        "print(True and True)\n",
        "print(True and False)\n",
        "print(False and True)\n",
        "print(False and False)"
      ],
      "execution_count": 161,
      "outputs": [
        {
          "output_type": "stream",
          "text": [
            "True\n",
            "False\n",
            "False\n",
            "False\n"
          ],
          "name": "stdout"
        }
      ]
    },
    {
      "cell_type": "code",
      "metadata": {
        "colab": {
          "base_uri": "https://localhost:8080/"
        },
        "id": "6D0cDZd_Eib-",
        "outputId": "dfc7fc7e-1045-4ba3-9b58-dd51d356b0c9"
      },
      "source": [
        "print(True or True)\n",
        "print(True or False)\n",
        "print(False or True)\n",
        "print(False or False)"
      ],
      "execution_count": 162,
      "outputs": [
        {
          "output_type": "stream",
          "text": [
            "True\n",
            "True\n",
            "True\n",
            "False\n"
          ],
          "name": "stdout"
        }
      ]
    },
    {
      "cell_type": "code",
      "metadata": {
        "colab": {
          "base_uri": "https://localhost:8080/"
        },
        "id": "2yjM60_5Eib-",
        "outputId": "34da8c75-80b8-4441-86c8-41740d021cd8"
      },
      "source": [
        "x = 5\n",
        "y = 3\n",
        "\n",
        "print(x > 4 and y > 2)\n",
        "print(x > 7 and y > 2)\n",
        "print(x > 7 or y > 2)"
      ],
      "execution_count": 163,
      "outputs": [
        {
          "output_type": "stream",
          "text": [
            "True\n",
            "False\n",
            "True\n"
          ],
          "name": "stdout"
        }
      ]
    },
    {
      "cell_type": "markdown",
      "metadata": {
        "id": "5_XZqdlZEib_"
      },
      "source": [
        "The keywords `or` and `and` are called **logical operations** (in the same sense that we call `+`, `-`, `*`, etc. arithmetic operations). The last logical operation is `not`: `not True` is `False`, `not False` is `True`."
      ]
    },
    {
      "cell_type": "code",
      "metadata": {
        "colab": {
          "base_uri": "https://localhost:8080/"
        },
        "id": "C3SSTkC7Eib_",
        "outputId": "9244d356-543a-4f29-e9b6-af7b8d5274cb"
      },
      "source": [
        "print(not True)\n",
        "print(not False)"
      ],
      "execution_count": 164,
      "outputs": [
        {
          "output_type": "stream",
          "text": [
            "False\n",
            "True\n"
          ],
          "name": "stdout"
        }
      ]
    },
    {
      "cell_type": "code",
      "metadata": {
        "colab": {
          "base_uri": "https://localhost:8080/"
        },
        "id": "ryjzOxqeEib_",
        "outputId": "f1d2b495-7d6a-478c-d03a-3643ce936f07"
      },
      "source": [
        "x = 10\n",
        "y = 8\n",
        "\n",
        "print(x > 7 or y < 7)\n",
        "print(not x > 7 or y < 7)\n",
        "print(not x > 7 or not y < 7)\n",
        "print(not (x > 7 or y < 7))"
      ],
      "execution_count": 165,
      "outputs": [
        {
          "output_type": "stream",
          "text": [
            "True\n",
            "False\n",
            "True\n",
            "False\n"
          ],
          "name": "stdout"
        }
      ]
    },
    {
      "cell_type": "markdown",
      "metadata": {
        "id": "M6cz3WSmEicA"
      },
      "source": [
        "### Exercises\n",
        "\n",
        "1. Write a function which takes in a number and returns True if it is greater than 10 but less than 20 or it is less than -100.\n",
        "2. In the code above we have used the `%` operator.  What does this do?"
      ]
    },
    {
      "cell_type": "markdown",
      "metadata": {
        "id": "N_JxHYC8EicB"
      },
      "source": [
        "## Iteration\n",
        "\n",
        "Conditionals are very useful because they allow our programs to make decisions based on some information. These decisions control the flow of the program (i.e. which statements get executed). We have one other major tool for controlling  program flow, which is repetition. In programming, we will use repetitive loops to execute the same code many times. This is called **iteration**. The most basic kind of iteration is the `while` loop. A `while` loop will keep executing so long as the condition after the `while` is `True`."
      ]
    },
    {
      "cell_type": "code",
      "metadata": {
        "colab": {
          "base_uri": "https://localhost:8080/"
        },
        "id": "a2UKt_YpEicC",
        "outputId": "4be418a1-6d63-4de4-c396-15bf09fbdc81"
      },
      "source": [
        "x = 0\n",
        "while x < 5:\n",
        "    print(x)\n",
        "    x = x + 1"
      ],
      "execution_count": 166,
      "outputs": [
        {
          "output_type": "stream",
          "text": [
            "0\n",
            "1\n",
            "2\n",
            "3\n",
            "4\n"
          ],
          "name": "stdout"
        }
      ]
    },
    {
      "cell_type": "markdown",
      "metadata": {
        "id": "jXLwK_9yEicC"
      },
      "source": [
        "We will often use iteration to perform a task a certain number of times, but we might also use it to carry out a process to a certain stage of completion.\n",
        "\n",
        "As an example of these different cases, we'll consider the Fibonacci sequence. The Fibonacci sequence is a sequence of numbers where the next number in the sequence is given by the sum of the previous two numbers. The first two numbers are given as 0 and 1. So the sequence begins 0, 1, 1, 2, 3, 5, 8...\n",
        "\n",
        "The Fibonacci sequence goes on infinitely, so we can only ever compute part of it. Below we define two functions to compute part of the Fibonacci sequence; the first function computes the first `n` terms, while the second function computes all the terms less than an upper limit, `x`."
      ]
    },
    {
      "cell_type": "code",
      "metadata": {
        "id": "ErwidruxEicD"
      },
      "source": [
        "def first_n_fibonacci(n):\n",
        "    prev_num = 0\n",
        "    curr_num = 1\n",
        "    count = 2\n",
        "\n",
        "    print(prev_num)\n",
        "    print(curr_num)\n",
        "\n",
        "    while count <= n:\n",
        "        next_num = curr_num + prev_num\n",
        "        print(next_num)\n",
        "        prev_num = curr_num\n",
        "        curr_num = next_num\n",
        "        count += 1\n",
        "\n",
        "def below_x_fibonacci(x):\n",
        "    prev_num = 0\n",
        "    curr_num = 1\n",
        "\n",
        "    if curr_num < x:\n",
        "        print(prev_num)\n",
        "        print(curr_num)\n",
        "    elif prev_num < x:\n",
        "        print(prev_num)\n",
        "    \n",
        "    while curr_num + prev_num < x:\n",
        "        next_num = curr_num + prev_num\n",
        "        print(next_num)\n",
        "        prev_num = curr_num\n",
        "        curr_num = next_num"
      ],
      "execution_count": 167,
      "outputs": []
    },
    {
      "cell_type": "code",
      "metadata": {
        "colab": {
          "base_uri": "https://localhost:8080/"
        },
        "id": "E6Yz3JpSEicD",
        "outputId": "52daa7da-ea48-4a5f-e893-da317d7bda06"
      },
      "source": [
        "m = 7\n",
        "print('First %d Fibonacci numbers' % m)\n",
        "first_n_fibonacci(m)"
      ],
      "execution_count": 168,
      "outputs": [
        {
          "output_type": "stream",
          "text": [
            "First 7 Fibonacci numbers\n",
            "0\n",
            "1\n",
            "1\n",
            "2\n",
            "3\n",
            "5\n",
            "8\n",
            "13\n"
          ],
          "name": "stdout"
        }
      ]
    },
    {
      "cell_type": "code",
      "metadata": {
        "colab": {
          "base_uri": "https://localhost:8080/"
        },
        "id": "MZjp9H9ZEicD",
        "outputId": "bd9e7efc-9435-404b-8e32-af082f5776b7"
      },
      "source": [
        "print()\n",
        "\n",
        "y = 40\n",
        "print('Fibonacci numbers below %d' % y)\n",
        "below_x_fibonacci(y)        "
      ],
      "execution_count": 169,
      "outputs": [
        {
          "output_type": "stream",
          "text": [
            "\n",
            "Fibonacci numbers below 40\n",
            "0\n",
            "1\n",
            "1\n",
            "2\n",
            "3\n",
            "5\n",
            "8\n",
            "13\n",
            "21\n",
            "34\n"
          ],
          "name": "stdout"
        }
      ]
    },
    {
      "cell_type": "markdown",
      "metadata": {
        "id": "BGJkS3r_EicE"
      },
      "source": [
        "Sometimes we will want our program to take a repeated action, but we won't know how many repetitions we will have to do, or it might be difficult to know ahead of time when the program should stop. For example, we could write a program that prints out cooking instructions. We don't know in advance how many instructions there will be in the recipe (some meals take a long time to cook and have many steps, while others are short and simple to make). We also don't know what the last instruction might be, so it would be difficult to write a conditional telling the program when to stop. How are we going to solve the problem? Let's look at an example.\n",
        "\n",
        "Instructions for making bread:  \n",
        "1) Dissolve salt in water  \n",
        "2) Mix yeast into water  \n",
        "3) Mix water with flour to form dough  \n",
        "4) Knead dough  \n",
        "5) Let dough rise  \n",
        "6) Shape dough  \n",
        "7) Bake  \n",
        "\n",
        "The recipe has an ordered `list` of instructions. In Python we can use a list of strings to represent the instructions."
      ]
    },
    {
      "cell_type": "code",
      "metadata": {
        "id": "38PgVTCQEicF"
      },
      "source": [
        "bread_recipe = ['Dissolve salt in water', 'Mix yeast into water', 'Mix water with flour to form dough', \n",
        "                'Knead dough', 'Let dough rise', 'Shape dough', 'Bake']"
      ],
      "execution_count": 170,
      "outputs": []
    },
    {
      "cell_type": "markdown",
      "metadata": {
        "id": "wInDSZC7EicF"
      },
      "source": [
        "We will discuss lists more in the [Data Structures lecture](PY_DataStructures.ipynb). We could store different recipes in different lists."
      ]
    },
    {
      "cell_type": "code",
      "metadata": {
        "id": "oNr2aFj5EicH"
      },
      "source": [
        "soup_recipe = ['Dissolve salt in water', 'Boil  water', 'Add bones to boiling water', 'Chop onions', \n",
        "               'Chop garlic', 'Chop carrot', 'Chop celery', 'Remove bones from water', \n",
        "               'Add vegetables to boiling water', 'Add meat to boiling water']\n",
        "\n",
        "beans_recipe = ['Soak beans in water', 'Dissolve salt in water', 'Heat water and beans to boil', \n",
        "                'Drain beans when done cooking']"
      ],
      "execution_count": 171,
      "outputs": []
    },
    {
      "cell_type": "markdown",
      "metadata": {
        "id": "3QMCTR7kEicH"
      },
      "source": [
        "Each of these lists has different instructions, and they are not all the same length. The beans recipe has four steps while the soup recipe has ten. It would be hard to write a `while` loop to print out each step. It is much easier to do it using a `for` loop.\n",
        "\n",
        "A `for` loop does an action for each item in a `list` (or more precisely, in an **iterable**)."
      ]
    },
    {
      "cell_type": "code",
      "metadata": {
        "id": "jx6MgiCBEicI"
      },
      "source": [
        "def print_recipe(instructions):\n",
        "    for step in instructions:\n",
        "        print(step)"
      ],
      "execution_count": 172,
      "outputs": []
    },
    {
      "cell_type": "code",
      "metadata": {
        "colab": {
          "base_uri": "https://localhost:8080/"
        },
        "id": "2XT7GMH-EicI",
        "outputId": "31cebb51-54f3-44eb-94f9-6bf35a2598cd"
      },
      "source": [
        "print_recipe(soup_recipe)"
      ],
      "execution_count": 173,
      "outputs": [
        {
          "output_type": "stream",
          "text": [
            "Dissolve salt in water\n",
            "Boil  water\n",
            "Add bones to boiling water\n",
            "Chop onions\n",
            "Chop garlic\n",
            "Chop carrot\n",
            "Chop celery\n",
            "Remove bones from water\n",
            "Add vegetables to boiling water\n",
            "Add meat to boiling water\n"
          ],
          "name": "stdout"
        }
      ]
    },
    {
      "cell_type": "code",
      "metadata": {
        "colab": {
          "base_uri": "https://localhost:8080/"
        },
        "id": "tnCaxtaSEicI",
        "outputId": "1a5419a3-4d17-4a4d-d24b-b40af401f910"
      },
      "source": [
        "print_recipe(bread_recipe)"
      ],
      "execution_count": 174,
      "outputs": [
        {
          "output_type": "stream",
          "text": [
            "Dissolve salt in water\n",
            "Mix yeast into water\n",
            "Mix water with flour to form dough\n",
            "Knead dough\n",
            "Let dough rise\n",
            "Shape dough\n",
            "Bake\n"
          ],
          "name": "stdout"
        }
      ]
    },
    {
      "cell_type": "code",
      "metadata": {
        "colab": {
          "base_uri": "https://localhost:8080/"
        },
        "id": "B0egcXhEEicJ",
        "outputId": "a5914cfd-db5c-4b6e-ba44-8419082f5546"
      },
      "source": [
        "print_recipe(beans_recipe)"
      ],
      "execution_count": 175,
      "outputs": [
        {
          "output_type": "stream",
          "text": [
            "Soak beans in water\n",
            "Dissolve salt in water\n",
            "Heat water and beans to boil\n",
            "Drain beans when done cooking\n"
          ],
          "name": "stdout"
        }
      ]
    },
    {
      "cell_type": "markdown",
      "metadata": {
        "id": "HXTLNelnEicJ"
      },
      "source": [
        "We can also use a `for` loop to repeat a task a certain number of times, like printing out the first `n` numbers in the Fibonacci sequence. Compare these two Fibonacci functions:"
      ]
    },
    {
      "cell_type": "code",
      "metadata": {
        "id": "NAcUBAJNEicJ"
      },
      "source": [
        "def first_n_fibonacci_while(n):\n",
        "    prev_num = 0\n",
        "    curr_num = 1\n",
        "    count = 2\n",
        "\n",
        "    print(prev_num)\n",
        "    print(curr_num)\n",
        "\n",
        "    while count <= n:\n",
        "        next_num = curr_num + prev_num\n",
        "        print(next_num)\n",
        "        prev_num = curr_num\n",
        "        curr_num = next_num\n",
        "        count += 1\n",
        "\n",
        "def first_n_fibonacci_for(n):\n",
        "    prev_num = 0\n",
        "    curr_num = 1\n",
        "\n",
        "    print(prev_num)\n",
        "    print(curr_num)\n",
        "\n",
        "    for count in range(2, n + 1):\n",
        "        next_num = curr_num + prev_num\n",
        "        print(next_num)\n",
        "        prev_num = curr_num\n",
        "        curr_num = next_num"
      ],
      "execution_count": 176,
      "outputs": []
    },
    {
      "cell_type": "code",
      "metadata": {
        "colab": {
          "base_uri": "https://localhost:8080/"
        },
        "id": "DyxnyOpsEicK",
        "outputId": "a76f1043-ef73-4dbb-a30b-ec368892dc5a"
      },
      "source": [
        "first_n_fibonacci_while(7)"
      ],
      "execution_count": 177,
      "outputs": [
        {
          "output_type": "stream",
          "text": [
            "0\n",
            "1\n",
            "1\n",
            "2\n",
            "3\n",
            "5\n",
            "8\n",
            "13\n"
          ],
          "name": "stdout"
        }
      ]
    },
    {
      "cell_type": "code",
      "metadata": {
        "colab": {
          "base_uri": "https://localhost:8080/"
        },
        "id": "F1V6hA8lEicK",
        "outputId": "7a972b26-71b0-4d4c-d4c8-5187303e15cd"
      },
      "source": [
        "first_n_fibonacci_for(7)"
      ],
      "execution_count": 178,
      "outputs": [
        {
          "output_type": "stream",
          "text": [
            "0\n",
            "1\n",
            "1\n",
            "2\n",
            "3\n",
            "5\n",
            "8\n",
            "13\n"
          ],
          "name": "stdout"
        }
      ]
    },
    {
      "cell_type": "markdown",
      "metadata": {
        "id": "M-XjiPtiEicL"
      },
      "source": [
        "### Exercises\n",
        "\n",
        "1. Compare `first_n_fibonacci_while` and `first_n_fibonacci_for`, which one is \"better\"?"
      ]
    },
    {
      "cell_type": "markdown",
      "metadata": {
        "id": "rDGyLG_FEicL"
      },
      "source": [
        "### Aside (Recursion)\n",
        "\n",
        "Another way to get something like iteration is called _recursion_ which is when we define a function in terms of itself.  Lets write the Fibonacci sequence recursively.  This will be slightly different in that it will only calculate the nth Fibonacci number."
      ]
    },
    {
      "cell_type": "code",
      "metadata": {
        "id": "cukb70mZEicL"
      },
      "source": [
        "def fibonacci_recursive(n):\n",
        "    if n == 0:\n",
        "        return 0\n",
        "    elif n == 1:\n",
        "        return 1\n",
        "    else:\n",
        "        return fibonacci_recursive(n-1)  + fibonacci_recursive(n-2)"
      ],
      "execution_count": 179,
      "outputs": []
    },
    {
      "cell_type": "code",
      "metadata": {
        "colab": {
          "base_uri": "https://localhost:8080/"
        },
        "id": "9pL0RprvEicM",
        "outputId": "44c1f7a0-1ad9-48b5-e511-715f7a107375"
      },
      "source": [
        "fibonacci_recursive(7)"
      ],
      "execution_count": 180,
      "outputs": [
        {
          "output_type": "execute_result",
          "data": {
            "text/plain": [
              "13"
            ]
          },
          "metadata": {
            "tags": []
          },
          "execution_count": 180
        }
      ]
    },
    {
      "cell_type": "markdown",
      "metadata": {
        "id": "3ZhYBSuXEicM"
      },
      "source": [
        "Here we make use of the fact that a Fibonacci number $F_n$ can be defined in terms of $F_{N-1}$ and $F_{N-2}$ with some base cases $F_0=0$ and $F_1=1$.  We will not be using recursion in this course, but it is an interesting and useful programming construct."
      ]
    },
    {
      "cell_type": "markdown",
      "metadata": {
        "id": "O8MYmXY1EicN"
      },
      "source": [
        "## Putting it all together\n",
        "\n",
        "We've learned two of the major components of programs: **variables** and **functions**. We've also learned two of the major components of program control: **conditionals** (`if` statements) and **iteration** (`for` and `while` loops). We can use these ideas and tools to write code to perform complex tasks. Let's look at an example, involving all of these ideas put together.\n",
        "\n",
        "Below we write a function that prints out all the prime numbers up to some number `n`. We will use iteration to check if each number is prime. We will use a conditional to print out numbers only if they are prime. We will also break up the task into small pieces so our code is easy to read and understand. This means we will use (or _call_) helper functions inside of our solution."
      ]
    },
    {
      "cell_type": "code",
      "metadata": {
        "id": "n9sAHaQ5EicN"
      },
      "source": [
        "def is_prime(number):\n",
        "    if number <= 1:\n",
        "        return False\n",
        "    \n",
        "    for factor in range(2, number):\n",
        "        if number % factor == 0:\n",
        "            return False\n",
        "\n",
        "    return True\n",
        "\n",
        "def print_primes(n):\n",
        "    for number in range(1, n):\n",
        "        if is_prime(number):\n",
        "            print('%d is prime' % number)"
      ],
      "execution_count": 181,
      "outputs": []
    },
    {
      "cell_type": "code",
      "metadata": {
        "colab": {
          "base_uri": "https://localhost:8080/"
        },
        "id": "J06Yzr74EicN",
        "outputId": "96bfd37c-8358-4aad-c536-29ece6a1c193"
      },
      "source": [
        "print_primes(42)"
      ],
      "execution_count": 182,
      "outputs": [
        {
          "output_type": "stream",
          "text": [
            "2 is prime\n",
            "3 is prime\n",
            "5 is prime\n",
            "7 is prime\n",
            "11 is prime\n",
            "13 is prime\n",
            "17 is prime\n",
            "19 is prime\n",
            "23 is prime\n",
            "29 is prime\n",
            "31 is prime\n",
            "37 is prime\n",
            "41 is prime\n"
          ],
          "name": "stdout"
        }
      ]
    },
    {
      "cell_type": "markdown",
      "metadata": {
        "id": "kPnAjGyQEicN"
      },
      "source": [
        "The other application of functions might be to do something many times (not necessarily in an iteration).  One specific and natural way to understand this is to have a list elements and apply a function to each element of the `list`.  Lets take a list of the first 20 numbers and find which ones are prime.  We will do this and save the result in a `list`. Lists have an `append` method which allows us to add to the end of the list (we will see more about lists in the next lecture)."
      ]
    },
    {
      "cell_type": "code",
      "metadata": {
        "colab": {
          "base_uri": "https://localhost:8080/"
        },
        "id": "eweExPmgEicO",
        "outputId": "ef1434db-0cbb-40c2-9b6f-31d27a3e9b89"
      },
      "source": [
        "list_of_numbers = [0, 1, 2, 3, 4, 5, 6, 7, 8, 9, 10, 11, 12, 13, 14, 15, 16, 17, 18, 19]\n",
        "prime_list = []\n",
        "for number in list_of_numbers:\n",
        "    if is_prime(number):\n",
        "        prime_list.append(number)\n",
        "prime_list"
      ],
      "execution_count": 183,
      "outputs": [
        {
          "output_type": "execute_result",
          "data": {
            "text/plain": [
              "[2, 3, 5, 7, 11, 13, 17, 19]"
            ]
          },
          "metadata": {
            "tags": []
          },
          "execution_count": 183
        }
      ]
    },
    {
      "cell_type": "markdown",
      "metadata": {
        "id": "RN1xyd1tEicO"
      },
      "source": [
        "Python provides a nice construct to apply a function to every element of a list, called a `list comprehension`, here is an example of one:"
      ]
    },
    {
      "cell_type": "code",
      "metadata": {
        "colab": {
          "base_uri": "https://localhost:8080/"
        },
        "id": "UsN_7xdTEicO",
        "outputId": "ceb4ef6b-8687-47e0-8c64-20ae6904da37"
      },
      "source": [
        "[number for number in list_of_numbers if is_prime(number)]"
      ],
      "execution_count": 184,
      "outputs": [
        {
          "output_type": "execute_result",
          "data": {
            "text/plain": [
              "[2, 3, 5, 7, 11, 13, 17, 19]"
            ]
          },
          "metadata": {
            "tags": []
          },
          "execution_count": 184
        }
      ]
    },
    {
      "cell_type": "markdown",
      "metadata": {
        "id": "YnGsrzTxEicO"
      },
      "source": [
        "Note that this is a simple bit of code that is very understandable.  We don't need to care **how** the `is_prime` computation is occurring, only that its occurring for every element of `list_of_numbers`.  This means that we can more view our program at a high level without caring about the small details (which hopefully we have already designed well and tested)."
      ]
    },
    {
      "cell_type": "markdown",
      "metadata": {
        "id": "zDuGnxYHEicP"
      },
      "source": [
        "## More About Functions\n",
        "\n",
        "Notice that the `example_a` and `example_b` had no input, but other functions like `test_high_score` had multiple variables as input.  Remember that a function argument is just a placeholder for a name and will be bound to whatever is passed into the function.  For example:"
      ]
    },
    {
      "cell_type": "code",
      "metadata": {
        "colab": {
          "base_uri": "https://localhost:8080/"
        },
        "id": "oWLTHN7IEicP",
        "outputId": "15b42d54-4d68-4e77-b40f-ea51bba1134e"
      },
      "source": [
        "def print_this(a):\n",
        "    print('inside print_this: ', a)\n",
        "\n",
        "a = 5\n",
        "print_this(2)\n",
        "print('a = ', a)"
      ],
      "execution_count": 185,
      "outputs": [
        {
          "output_type": "stream",
          "text": [
            "inside print_this:  2\n",
            "a =  5\n"
          ],
          "name": "stdout"
        }
      ]
    },
    {
      "cell_type": "markdown",
      "metadata": {
        "id": "jrnGL63DEicP"
      },
      "source": [
        "Notice that even though `print_this` was printing the variable `a` inside the function and there was a variable `a` defined outside of the function, the `print` function inside `print_this` still printed what was passed in.  However, I can also "
      ]
    },
    {
      "cell_type": "code",
      "metadata": {
        "colab": {
          "base_uri": "https://localhost:8080/"
        },
        "id": "y4Z2S1PKEicP",
        "outputId": "6dd4b782-2960-48fb-e0ce-a0f76f287703"
      },
      "source": [
        "def print_it():\n",
        "    print('inside print_it: ', a)\n",
        "    \n",
        "a = 5\n",
        "print_it()\n",
        "print('a = ', a)"
      ],
      "execution_count": 186,
      "outputs": [
        {
          "output_type": "stream",
          "text": [
            "inside print_it:  5\n",
            "a =  5\n"
          ],
          "name": "stdout"
        }
      ]
    },
    {
      "cell_type": "markdown",
      "metadata": {
        "id": "SVFHl1HCEicQ"
      },
      "source": [
        "Here there is no variable passed into the function so Python uses the variable from the outer scope.  Be careful with this second paradigm as it can be dangerous. The danger lies in the fact that the output of the function depends upon the overall state of the program (namely the value of `a`) as opposed to `print_this` which depends only on the input of the function.  Functions like `print_this` are much easier to reason about, test, and use, they should be preferred in many contexts.\n",
        "\n",
        "That said, there is a very powerful technique called `function closure` which we can make use of this ability.  Lets say we want a function which will raise a number to some exponent, but we don't know which exponent ahead of runtime.  We can define such a function like this."
      ]
    },
    {
      "cell_type": "code",
      "metadata": {
        "id": "22EXaoFLEicQ"
      },
      "source": [
        "def some_exponent(exponent):\n",
        "    def func(x):\n",
        "        return x**exponent\n",
        "    return func"
      ],
      "execution_count": 187,
      "outputs": []
    },
    {
      "cell_type": "code",
      "metadata": {
        "colab": {
          "base_uri": "https://localhost:8080/"
        },
        "id": "hNMH_gX5EicQ",
        "outputId": "2fd3943c-7c51-4f3b-ced4-062d68cd4a05"
      },
      "source": [
        "some_exponent(2)(2), some_exponent(3)(2)"
      ],
      "execution_count": 188,
      "outputs": [
        {
          "output_type": "execute_result",
          "data": {
            "text/plain": [
              "(4, 8)"
            ]
          },
          "metadata": {
            "tags": []
          },
          "execution_count": 188
        }
      ]
    },
    {
      "cell_type": "markdown",
      "metadata": {
        "id": "fNsp0-kUEicR"
      },
      "source": [
        "Now that we understand how normal arguments work, lets look at a few conveniences Python provides for making functions easier to create.  The first is default arguments.  Let's suppose we have a function which had a bunch of arguments, but most of them had sane defaults, for example:"
      ]
    },
    {
      "cell_type": "code",
      "metadata": {
        "colab": {
          "base_uri": "https://localhost:8080/"
        },
        "id": "Oy5ewhyWEicS",
        "outputId": "6fb0c134-b4d4-4709-a0d6-592bc45a9c9b"
      },
      "source": [
        "def print_todo(watch_tv, read, eat, sleep):\n",
        "    print('I need to:')\n",
        "    if watch_tv:\n",
        "        print('  watch_tv')\n",
        "    if read:\n",
        "        print('  read')\n",
        "    if eat:\n",
        "        print('  eat')\n",
        "    if sleep:\n",
        "        print('  sleep')\n",
        "print_todo(True, True, True, True)"
      ],
      "execution_count": 189,
      "outputs": [
        {
          "output_type": "stream",
          "text": [
            "I need to:\n",
            "  watch_tv\n",
            "  read\n",
            "  eat\n",
            "  sleep\n"
          ],
          "name": "stdout"
        }
      ]
    },
    {
      "cell_type": "markdown",
      "metadata": {
        "id": "Tn5RP-s1EicT"
      },
      "source": [
        "I know that I almost always need to eat and sleep, so I can use a default argument for these instead.  This means I don't need to define the value of `eat` and `sleep` unless they are different than the default."
      ]
    },
    {
      "cell_type": "code",
      "metadata": {
        "colab": {
          "base_uri": "https://localhost:8080/"
        },
        "id": "gRU89PDiEicT",
        "outputId": "0ed21dc0-5cde-429d-cc9a-aeb91394cb7d"
      },
      "source": [
        "def print_todo_default(watch_tv, read, eat=True, sleep=True):\n",
        "    print('I need to:')\n",
        "    if watch_tv:\n",
        "        print('  watch_tv')\n",
        "    if read:\n",
        "        print('  read')\n",
        "    if eat:\n",
        "        print('  eat')\n",
        "    if sleep:\n",
        "        print('  sleep')\n",
        "print_todo_default(True, True)"
      ],
      "execution_count": 190,
      "outputs": [
        {
          "output_type": "stream",
          "text": [
            "I need to:\n",
            "  watch_tv\n",
            "  read\n",
            "  eat\n",
            "  sleep\n"
          ],
          "name": "stdout"
        }
      ]
    },
    {
      "cell_type": "markdown",
      "metadata": {
        "id": "Q-QoYXTkEicU"
      },
      "source": [
        "These default arguments can allow us to create complex function with many inputs while also maintaining ease of use by setting sane defaults. \n",
        "\n",
        "Another thing we might want to do is take a variable list of arguments, lets write a similar `todo` function as before, but this time we will allow it to pass in any number of arguments.  Here we will make use of the `*args` syntax.  This `*` tells python to gather the rest of the arguments into the tuple `args`."
      ]
    },
    {
      "cell_type": "code",
      "metadata": {
        "colab": {
          "base_uri": "https://localhost:8080/"
        },
        "id": "bP3G34aaEicU",
        "outputId": "31349677-84bc-46a6-9931-4ba2e1f06e82"
      },
      "source": [
        "def print_todo_args(*args):\n",
        "    print('I need to:')\n",
        "    for arg in args:\n",
        "        print('  ' + arg)\n",
        "print_todo_args('watch_tv', 'read', 'eat', 'sleep')"
      ],
      "execution_count": 191,
      "outputs": [
        {
          "output_type": "stream",
          "text": [
            "I need to:\n",
            "  watch_tv\n",
            "  read\n",
            "  eat\n",
            "  sleep\n"
          ],
          "name": "stdout"
        }
      ]
    },
    {
      "cell_type": "markdown",
      "metadata": {
        "id": "cYjwLT20EicW"
      },
      "source": [
        "This sort of syntax can be very useful in large programs where abstract functions may all a variety of different functions with different arguments."
      ]
    },
    {
      "cell_type": "markdown",
      "metadata": {
        "id": "2L5ru8qEEicX"
      },
      "source": [
        "### Some topics we haven't discussed, but have used:\n",
        "- [String formatting](https://pyformat.info/)\n",
        "- Exceptions (e.g. `TypeError`)"
      ]
    },
    {
      "cell_type": "markdown",
      "metadata": {
        "id": "kzZSUBihEicX"
      },
      "source": [
        "*Copyright &copy; 2019 The Data Incubator.  All rights reserved.*"
      ]
    }
  ]
}