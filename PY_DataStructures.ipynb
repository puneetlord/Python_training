{
  "nbformat": 4,
  "nbformat_minor": 0,
  "metadata": {
    "kernelspec": {
      "display_name": "Python 3",
      "language": "python",
      "name": "python3"
    },
    "language_info": {
      "codemirror_mode": {
        "name": "ipython",
        "version": 3
      },
      "file_extension": ".py",
      "mimetype": "text/x-python",
      "name": "python",
      "nbconvert_exporter": "python",
      "pygments_lexer": "ipython3",
      "version": "3.7.3"
    },
    "nbclean": true,
    "colab": {
      "name": "PY_DataStructures.ipynb",
      "provenance": [],
      "collapsed_sections": [
        "Aj35fLl3SEmb",
        "KdAQgUE4SEmf",
        "HZ3ykizDSEm8",
        "JrtqwspVSEnE",
        "7i6EplLESEnF",
        "Qt-7EhlDSEnG",
        "pdUop4U9SEnR",
        "fDlArukGSEnT",
        "2wGIpfDFSEnd",
        "m--P1hj9SEni",
        "7lpEOUPkSEni",
        "H8-2KjClSEnr",
        "76sAFlPsSEns",
        "u4ecYctYSEnv",
        "gOsdbwGtSEnw",
        "lpw_JXNYSEnx",
        "bTY0oMwHSEn0",
        "oUzFel7aSEn2",
        "rrjoqlxjSEn4",
        "1z6zmuHsSEoI",
        "jNXbDpQ9SEoM",
        "TRPCmHiLSEoP"
      ],
      "include_colab_link": true
    }
  },
  "cells": [
    {
      "cell_type": "markdown",
      "metadata": {
        "id": "view-in-github",
        "colab_type": "text"
      },
      "source": [
        "<a href=\"https://colab.research.google.com/github/puneetlord/Python_training/blob/master/PY_DataStructures.ipynb\" target=\"_parent\"><img src=\"https://colab.research.google.com/assets/colab-badge.svg\" alt=\"Open In Colab\"/></a>"
      ]
    },
    {
      "cell_type": "code",
      "metadata": {
        "id": "ZXk5yXoBSElu"
      },
      "source": [
        "%matplotlib inline\n",
        "import matplotlib\n",
        "import seaborn as sns\n",
        "sns.set()\n",
        "matplotlib.rcParams['figure.dpi'] = 144"
      ],
      "execution_count": 4,
      "outputs": []
    },
    {
      "cell_type": "code",
      "metadata": {
        "id": "fMCFXvMcSEl_"
      },
      "source": [
        "%matplotlib inline\n",
        "import matplotlib\n",
        "import seaborn as sns\n",
        "matplotlib.rcParams['savefig.dpi'] = 144"
      ],
      "execution_count": 5,
      "outputs": []
    },
    {
      "cell_type": "code",
      "metadata": {
        "colab": {
          "base_uri": "https://localhost:8080/"
        },
        "id": "2QV4w9HRSEmB",
        "outputId": "3de877bc-64b1-47a2-ad1e-bdf50688947c"
      },
      "source": [
        "!pip install expectexception"
      ],
      "execution_count": 6,
      "outputs": [
        {
          "output_type": "stream",
          "text": [
            "Collecting expectexception\n",
            "  Downloading https://files.pythonhosted.org/packages/ef/0d/174ca7bb9e6646f28641504a2b0147804d061a73f77a342f43946043f022/ExpectException-0.1.1-py2.py3-none-any.whl\n",
            "Installing collected packages: expectexception\n",
            "Successfully installed expectexception-0.1.1\n"
          ],
          "name": "stdout"
        }
      ]
    },
    {
      "cell_type": "code",
      "metadata": {
        "id": "dyhAbmg2HFOk"
      },
      "source": [
        "import expectexception"
      ],
      "execution_count": 7,
      "outputs": []
    },
    {
      "cell_type": "markdown",
      "metadata": {
        "id": "lupOBipbSEmB"
      },
      "source": [
        "# Python data types and structures\n",
        "\n",
        "<!-- requirement: images/list_illustration.png -->\n",
        "<!-- requirement: images/hash_illustration.png -->\n",
        "<!-- requirement: images/set_operations.png -->\n",
        "\n",
        "In the [Program Flow notebook](PY_ProgramFlow.ipynb), we introduced the idea of variables, which we could use to store several different kinds of information. We could store text, numbers, or truth values. These different kinds of information correspond with different Python data `type`s."
      ]
    },
    {
      "cell_type": "code",
      "metadata": {
        "colab": {
          "base_uri": "https://localhost:8080/"
        },
        "id": "y0UD05vTSEmC",
        "outputId": "f84511fb-10ce-4332-bfc7-3c0728117875"
      },
      "source": [
        "print(type('some text'))\n",
        "print(type(10))\n",
        "print(type(10.3))\n",
        "print(type(True))"
      ],
      "execution_count": 8,
      "outputs": [
        {
          "output_type": "stream",
          "text": [
            "<class 'str'>\n",
            "<class 'int'>\n",
            "<class 'float'>\n",
            "<class 'bool'>\n"
          ],
          "name": "stdout"
        }
      ]
    },
    {
      "cell_type": "markdown",
      "metadata": {
        "id": "LrUpaAu9SEmE"
      },
      "source": [
        "We also briefly introduced the Python `list`, which can be used to store a collection of data."
      ]
    },
    {
      "cell_type": "code",
      "metadata": {
        "id": "_XKs1LbDSEmF"
      },
      "source": [
        "# an example list\n",
        "beans_recipe = ['Soak beans in water', 'Dissolve salt in water', 'Heat water and beans to boil', \n",
        "                'Drain beans when done cooking']"
      ],
      "execution_count": 9,
      "outputs": []
    },
    {
      "cell_type": "markdown",
      "metadata": {
        "id": "hcy36criSEmG"
      },
      "source": [
        "Sometimes we will store information in individual variables, but often we will be working with several pieces of information that we want to group together because of their relationship or similarity. For example, if we were shopping for groceries, we could store each item we are going to buy in separate variables or we could store all of the items in one list."
      ]
    },
    {
      "cell_type": "code",
      "metadata": {
        "id": "6-jsAGmtSEmH"
      },
      "source": [
        "grocery_a = 'chicken'\n",
        "grocery_b = 'onions'\n",
        "grocery_c = 'rice'\n",
        "grocery_d = 'peppers'\n",
        "grocery_e = 'bananas'\n",
        "\n",
        "grocery_list = ['chicken', 'onions', 'rice', 'peppers', 'bananas']"
      ],
      "execution_count": 10,
      "outputs": []
    },
    {
      "cell_type": "markdown",
      "metadata": {
        "id": "M360uHVBSEmI"
      },
      "source": [
        "Which of these approaches seems more useful to you? Let's write a short example function that \"buys\" each of the groceries we need."
      ]
    },
    {
      "cell_type": "code",
      "metadata": {
        "id": "5NmPYlM-SEmJ"
      },
      "source": [
        "def buy_groceries_individual(item_a, item_b, item_c, item_d, item_e):\n",
        "    print('Buying %s...' % item_a)\n",
        "    print('Buying %s...' % item_b)\n",
        "    print('Buying %s...' % item_c)\n",
        "    print('Buying %s...' % item_d)\n",
        "    print('Buying %s...' % item_e)\n",
        "    print('Buying {}'.format(item_e))\n",
        "\n",
        "def buy_grocery_list(items):\n",
        "    for item in items:\n",
        "        print('Buying %s...' % item)"
      ],
      "execution_count": 11,
      "outputs": []
    },
    {
      "cell_type": "code",
      "metadata": {
        "colab": {
          "base_uri": "https://localhost:8080/"
        },
        "id": "lf9smR6dSEmT",
        "outputId": "cab810d5-c815-479a-e4cc-ce7a8c19f9eb"
      },
      "source": [
        "buy_groceries_individual(grocery_a, grocery_b, grocery_c, grocery_d, grocery_e)"
      ],
      "execution_count": 12,
      "outputs": [
        {
          "output_type": "stream",
          "text": [
            "Buying chicken...\n",
            "Buying onions...\n",
            "Buying rice...\n",
            "Buying peppers...\n",
            "Buying bananas...\n",
            "Buying bananas\n"
          ],
          "name": "stdout"
        }
      ]
    },
    {
      "cell_type": "code",
      "metadata": {
        "colab": {
          "base_uri": "https://localhost:8080/"
        },
        "id": "EDPppjGcSEmT",
        "outputId": "461c0cae-4ffe-4175-db68-88f7e323b247"
      },
      "source": [
        "buy_grocery_list(grocery_list)"
      ],
      "execution_count": 13,
      "outputs": [
        {
          "output_type": "stream",
          "text": [
            "Buying chicken...\n",
            "Buying onions...\n",
            "Buying rice...\n",
            "Buying peppers...\n",
            "Buying bananas...\n"
          ],
          "name": "stdout"
        }
      ]
    },
    {
      "cell_type": "markdown",
      "metadata": {
        "id": "1DiuDCmgSEmU"
      },
      "source": [
        "By using a `list`, we could use a `for` loop to write a much shorter function. But even more important, `buy_grocery_list` is much more flexible. What if instead of buying five items, we wanted to buy more or less?"
      ]
    },
    {
      "cell_type": "code",
      "metadata": {
        "colab": {
          "base_uri": "https://localhost:8080/"
        },
        "id": "4dgH7oOJSEmV",
        "outputId": "68a9ecfe-0d21-45ed-cddc-af47eb297750"
      },
      "source": [
        "%%expect_exception TypeError\n",
        "\n",
        "# let's try to buy just three items\n",
        "buy_groceries_individual(grocery_a, grocery_b, grocery_c)"
      ],
      "execution_count": 14,
      "outputs": [
        {
          "output_type": "stream",
          "text": [
            "\u001b[0;31m---------------------------------------------------------------------------\u001b[0m\n",
            "\u001b[0;31mTypeError\u001b[0m                                 Traceback (most recent call last)\n",
            "\u001b[0;32m<ipython-input-14-03e87d2ab26e>\u001b[0m in \u001b[0;36m<module>\u001b[0;34m()\u001b[0m\n",
            "\u001b[1;32m      1\u001b[0m \u001b[0;34m\u001b[0m\u001b[0m\n",
            "\u001b[1;32m      2\u001b[0m \u001b[0;31m# let's try to buy just three items\u001b[0m\u001b[0;34m\u001b[0m\u001b[0;34m\u001b[0m\u001b[0;34m\u001b[0m\u001b[0m\n",
            "\u001b[0;32m----> 3\u001b[0;31m \u001b[0mbuy_groceries_individual\u001b[0m\u001b[0;34m(\u001b[0m\u001b[0mgrocery_a\u001b[0m\u001b[0;34m,\u001b[0m \u001b[0mgrocery_b\u001b[0m\u001b[0;34m,\u001b[0m \u001b[0mgrocery_c\u001b[0m\u001b[0;34m)\u001b[0m\u001b[0;34m\u001b[0m\u001b[0;34m\u001b[0m\u001b[0m\n",
            "\u001b[0m\n",
            "\u001b[0;31mTypeError\u001b[0m: buy_groceries_individual() missing 2 required positional arguments: 'item_d' and 'item_e'\n"
          ],
          "name": "stdout"
        }
      ]
    },
    {
      "cell_type": "code",
      "metadata": {
        "colab": {
          "base_uri": "https://localhost:8080/"
        },
        "id": "iprgCmUlSEmW",
        "outputId": "7a1bbb57-9a0d-421a-fa42-d2f846654a59"
      },
      "source": [
        "%%expect_exception TypeError\n",
        "\n",
        "# let's try to buy a sixth item\n",
        "\n",
        "grocery_f = 'squash'\n",
        "\n",
        "buy_groceries_individual(grocery_a, grocery_b, grocery_c, grocery_d, grocery_e, grocery_f)"
      ],
      "execution_count": 15,
      "outputs": [
        {
          "output_type": "stream",
          "text": [
            "\u001b[0;31m---------------------------------------------------------------------------\u001b[0m\n",
            "\u001b[0;31mTypeError\u001b[0m                                 Traceback (most recent call last)\n",
            "\u001b[0;32m<ipython-input-15-074305cbacf1>\u001b[0m in \u001b[0;36m<module>\u001b[0;34m()\u001b[0m\n",
            "\u001b[1;32m      4\u001b[0m \u001b[0mgrocery_f\u001b[0m \u001b[0;34m=\u001b[0m \u001b[0;34m'squash'\u001b[0m\u001b[0;34m\u001b[0m\u001b[0;34m\u001b[0m\u001b[0m\n",
            "\u001b[1;32m      5\u001b[0m \u001b[0;34m\u001b[0m\u001b[0m\n",
            "\u001b[0;32m----> 6\u001b[0;31m \u001b[0mbuy_groceries_individual\u001b[0m\u001b[0;34m(\u001b[0m\u001b[0mgrocery_a\u001b[0m\u001b[0;34m,\u001b[0m \u001b[0mgrocery_b\u001b[0m\u001b[0;34m,\u001b[0m \u001b[0mgrocery_c\u001b[0m\u001b[0;34m,\u001b[0m \u001b[0mgrocery_d\u001b[0m\u001b[0;34m,\u001b[0m \u001b[0mgrocery_e\u001b[0m\u001b[0;34m,\u001b[0m \u001b[0mgrocery_f\u001b[0m\u001b[0;34m)\u001b[0m\u001b[0;34m\u001b[0m\u001b[0;34m\u001b[0m\u001b[0m\n",
            "\u001b[0m\n",
            "\u001b[0;31mTypeError\u001b[0m: buy_groceries_individual() takes 5 positional arguments but 6 were given\n"
          ],
          "name": "stdout"
        }
      ]
    },
    {
      "cell_type": "markdown",
      "metadata": {
        "id": "Eu9MkVyfSEmZ"
      },
      "source": [
        "We encounter an error when we try to use `buy_groceries_individual` because it is expecting \"exactly 5 arguments.\" We don't run into that problem with `buy_grocery_list`, because our `for` loop can work with lists of any length."
      ]
    },
    {
      "cell_type": "code",
      "metadata": {
        "colab": {
          "base_uri": "https://localhost:8080/"
        },
        "id": "hDGgQwVjSEmZ",
        "outputId": "ad38e256-3cf9-4c40-eae4-63568a5e0ff3"
      },
      "source": [
        "short_grocery_list = ['chicken', 'onions', 'rice']\n",
        "\n",
        "buy_grocery_list(short_grocery_list)"
      ],
      "execution_count": 16,
      "outputs": [
        {
          "output_type": "stream",
          "text": [
            "Buying chicken...\n",
            "Buying onions...\n",
            "Buying rice...\n"
          ],
          "name": "stdout"
        }
      ]
    },
    {
      "cell_type": "code",
      "metadata": {
        "colab": {
          "base_uri": "https://localhost:8080/"
        },
        "id": "0vOA_PhHSEma",
        "outputId": "4961d132-a098-4876-e760-f4cbfe58113b"
      },
      "source": [
        "long_grocery_list = ['chicken', 'onions', 'rice', 'peppers', 'bananas', 'squash']\n",
        "\n",
        "buy_grocery_list(long_grocery_list)"
      ],
      "execution_count": 17,
      "outputs": [
        {
          "output_type": "stream",
          "text": [
            "Buying chicken...\n",
            "Buying onions...\n",
            "Buying rice...\n",
            "Buying peppers...\n",
            "Buying bananas...\n",
            "Buying squash...\n"
          ],
          "name": "stdout"
        }
      ]
    },
    {
      "cell_type": "markdown",
      "metadata": {
        "id": "Aj35fLl3SEmb"
      },
      "source": [
        "We see we successfully dealt with both a shorter and a longer list.  \n",
        "\n",
        "Collections (or [**containers**](https://stackoverflow.com/questions/11575925/what-exactly-are-containers-in-python-and-what-are-all-the-python-container) as they're known in Python) can be very useful for tackling complex data problems. Python provides several types of containers, which we will explore. Each one has different properties and structure that make them useful for specific tasks. Later in the course, we'll also introduce powerful, highly-structured containers that Python users have invented and shared with the Python community.\n",
        "\n",
        "In the context of data science, we'll often call a collection of data that logically belongs together a **data set**, and the type of variable we use to store it in Python a **data structure**. These terms are meant to emphasize the relationships between the individual pieces of information that creates their meaning as a whole.\n",
        "\n",
        "### Exercises\n",
        "\n",
        "1. What kind of data can naturally be represented by a `list`?  How about a `list` comprised of `list` objects?"
      ]
    },
    {
      "cell_type": "markdown",
      "metadata": {
        "id": "KdAQgUE4SEmf"
      },
      "source": [
        "## `list`\n",
        "\n",
        "We've created lists by using square brackets `[]` around the data we want the list to contain. We can also create lists out of variables, rather than writing in the data directly."
      ]
    },
    {
      "cell_type": "code",
      "metadata": {
        "colab": {
          "base_uri": "https://localhost:8080/"
        },
        "id": "OpIVAYjkSEmf",
        "outputId": "bab5a197-dc8d-43db-8299-baa60caad46f"
      },
      "source": [
        "grocery_a = 'chicken'\n",
        "grocery_b = 'onions'\n",
        "grocery_c = 'rice'\n",
        "grocery_d = 'peppers'\n",
        "grocery_e = 'bananas'\n",
        "\n",
        "grocery_list = ['chicken', 'onions', 'rice', 'peppers', 'bananas']\n",
        "print(grocery_list)\n",
        "\n",
        "grocery_list = [grocery_a, grocery_b, grocery_c, grocery_d, grocery_e]\n",
        "print(grocery_list)"
      ],
      "execution_count": 18,
      "outputs": [
        {
          "output_type": "stream",
          "text": [
            "['chicken', 'onions', 'rice', 'peppers', 'bananas']\n",
            "['chicken', 'onions', 'rice', 'peppers', 'bananas']\n"
          ],
          "name": "stdout"
        }
      ]
    },
    {
      "cell_type": "markdown",
      "metadata": {
        "id": "zZDIoITNSEmh"
      },
      "source": [
        "So far we've worked with `list`s of strings (and `range`), but we're not limited to only that data type."
      ]
    },
    {
      "cell_type": "code",
      "metadata": {
        "colab": {
          "base_uri": "https://localhost:8080/"
        },
        "id": "Bd4C8VEJSEmi",
        "outputId": "7cee8836-d6db-4c5a-9e5f-59ac1c4f2798"
      },
      "source": [
        "int_list = [2, 6, 3049, 18, 37]\n",
        "float_list = [3.7, 8.2, 178.245, 63.1]\n",
        "mixed_list = [26, False, 'some words', 1.264]\n",
        "\n",
        "print(int_list)\n",
        "print(float_list)\n",
        "print(mixed_list)"
      ],
      "execution_count": 19,
      "outputs": [
        {
          "output_type": "stream",
          "text": [
            "[2, 6, 3049, 18, 37]\n",
            "[3.7, 8.2, 178.245, 63.1]\n",
            "[26, False, 'some words', 1.264]\n"
          ],
          "name": "stdout"
        }
      ]
    },
    {
      "cell_type": "markdown",
      "metadata": {
        "id": "Uhm1vGB4SEmj"
      },
      "source": [
        "We can store any `type` of data in a `list`. We can even put a `list` inside of a `list`."
      ]
    },
    {
      "cell_type": "code",
      "metadata": {
        "colab": {
          "base_uri": "https://localhost:8080/"
        },
        "id": "RqKaKebXSEmj",
        "outputId": "d756ea1c-82ff-4693-db45-8dd3b848aeb6"
      },
      "source": [
        "list_of_lists = [['a', 'list', 'of', 'words'], [1, 5, 209], [True, True, False]]\n",
        "print(list_of_lists)"
      ],
      "execution_count": 20,
      "outputs": [
        {
          "output_type": "stream",
          "text": [
            "[['a', 'list', 'of', 'words'], [1, 5, 209], [True, True, False]]\n"
          ],
          "name": "stdout"
        }
      ]
    },
    {
      "cell_type": "markdown",
      "metadata": {
        "id": "ySazqvLqSEmk"
      },
      "source": [
        "There are very few restrictions on how we structure a list or what we put in it. This can lead to a very complicated nested structure."
      ]
    },
    {
      "cell_type": "code",
      "metadata": {
        "colab": {
          "base_uri": "https://localhost:8080/"
        },
        "id": "95qNa2YDSEmk",
        "outputId": "e35a18b7-b7ba-464b-b612-4416e3d99c20"
      },
      "source": [
        "confusing_list = [[23, 73, 50], 'some words', 12.308, [[False, True], 'more words']]\n",
        "print(confusing_list)"
      ],
      "execution_count": 21,
      "outputs": [
        {
          "output_type": "stream",
          "text": [
            "[[23, 73, 50], 'some words', 12.308, [[False, True], 'more words']]\n"
          ],
          "name": "stdout"
        }
      ]
    },
    {
      "cell_type": "markdown",
      "metadata": {
        "id": "wr4qnvttSEmm"
      },
      "source": [
        "We describe the Python `list` as _heterogeneous_ because it can hold a collection of mixed objects. This is one of the major defining properties of the Python `list`.\n",
        "\n",
        "You may have also noticed that when we put data into a `list` in particular order, it stays in that order when we `print` or use the `list` in a `for` loop. Because `list` preserves order, we say it is _ordered_. We can use this property to retrieve particular items from a `list` based on their position (or **index**) in the list."
      ]
    },
    {
      "cell_type": "code",
      "metadata": {
        "colab": {
          "base_uri": "https://localhost:8080/"
        },
        "id": "MQEXmA30SEmn",
        "outputId": "f77d9bdf-d2b9-4672-ba1b-cbe45863d071"
      },
      "source": [
        "print(grocery_list)\n",
        "print(grocery_list[2])"
      ],
      "execution_count": 22,
      "outputs": [
        {
          "output_type": "stream",
          "text": [
            "['chicken', 'onions', 'rice', 'peppers', 'bananas']\n",
            "rice\n"
          ],
          "name": "stdout"
        }
      ]
    },
    {
      "cell_type": "markdown",
      "metadata": {
        "id": "sOxUCk_zSEmp"
      },
      "source": [
        "Printing `grocery_list[2]` returned the third item in the list: 'rice'. Why did it return the third item if we asked for the item at index 2? Python `list`s are _zero-indexed_."
      ]
    },
    {
      "cell_type": "code",
      "metadata": {
        "colab": {
          "base_uri": "https://localhost:8080/"
        },
        "id": "icQwjQURSEmp",
        "outputId": "d90ea5e6-ba29-4c68-91bf-2d4a02a951a8"
      },
      "source": [
        "print(grocery_list[0])\n",
        "print(grocery_list[1])\n",
        "print(grocery_list[2])"
      ],
      "execution_count": 23,
      "outputs": [
        {
          "output_type": "stream",
          "text": [
            "chicken\n",
            "onions\n",
            "rice\n"
          ],
          "name": "stdout"
        }
      ]
    },
    {
      "cell_type": "markdown",
      "metadata": {
        "id": "ucJe5zV-SEmq"
      },
      "source": [
        "We can also retrieve a _slice_ of items from a list."
      ]
    },
    {
      "cell_type": "code",
      "metadata": {
        "colab": {
          "base_uri": "https://localhost:8080/"
        },
        "id": "TVHSVq0VSEmq",
        "outputId": "6181b466-d67b-472a-e175-82f87ffd84ce"
      },
      "source": [
        "print(grocery_list[1:4])\n",
        "print(grocery_list[3:])\n",
        "print(grocery_list[:3])"
      ],
      "execution_count": 24,
      "outputs": [
        {
          "output_type": "stream",
          "text": [
            "['onions', 'rice', 'peppers']\n",
            "['peppers', 'bananas']\n",
            "['chicken', 'onions', 'rice']\n"
          ],
          "name": "stdout"
        }
      ]
    },
    {
      "cell_type": "markdown",
      "metadata": {
        "id": "6ScAQOzoSEmr"
      },
      "source": [
        "Python also has a negative indexing syntax, allowing us to access the list from the end instead of the beginning. The last element is indexed by -1."
      ]
    },
    {
      "cell_type": "code",
      "metadata": {
        "colab": {
          "base_uri": "https://localhost:8080/"
        },
        "id": "psIa7wXPSEmr",
        "outputId": "616f2720-d4db-4066-99a8-d8d1a75b88a9"
      },
      "source": [
        "print(grocery_list[-1])\n",
        "print(grocery_list[-3:])"
      ],
      "execution_count": 25,
      "outputs": [
        {
          "output_type": "stream",
          "text": [
            "bananas\n",
            "['rice', 'peppers', 'bananas']\n"
          ],
          "name": "stdout"
        }
      ]
    },
    {
      "cell_type": "markdown",
      "metadata": {
        "id": "yl8a4_noSEms"
      },
      "source": [
        "We can also slice a list using a step-size other than 1. For instance, we can slice every other item of the list, or even reverse the list by making negative steps."
      ]
    },
    {
      "cell_type": "code",
      "metadata": {
        "colab": {
          "base_uri": "https://localhost:8080/"
        },
        "id": "dyRxDnniSEms",
        "outputId": "958c7134-b331-4bbf-b411-ea7fe11856ec"
      },
      "source": [
        "print(grocery_list[::2])\n",
        "print(grocery_list[4:1:-1])"
      ],
      "execution_count": 26,
      "outputs": [
        {
          "output_type": "stream",
          "text": [
            "['chicken', 'rice', 'bananas']\n",
            "['bananas', 'peppers', 'rice']\n"
          ],
          "name": "stdout"
        }
      ]
    },
    {
      "cell_type": "markdown",
      "metadata": {
        "id": "wsxwe2G5SEmt"
      },
      "source": [
        "We can of course also retrieve information from a list by using a `for` loop."
      ]
    },
    {
      "cell_type": "code",
      "metadata": {
        "colab": {
          "base_uri": "https://localhost:8080/"
        },
        "id": "OvIC0TMISEmu",
        "outputId": "69ed9723-c2a1-495d-ae02-b7dfc3ad0335"
      },
      "source": [
        "for item in grocery_list:\n",
        "    print(item)"
      ],
      "execution_count": 27,
      "outputs": [
        {
          "output_type": "stream",
          "text": [
            "chicken\n",
            "onions\n",
            "rice\n",
            "peppers\n",
            "bananas\n"
          ],
          "name": "stdout"
        }
      ]
    },
    {
      "cell_type": "markdown",
      "metadata": {
        "id": "aebTnmCUSEmv"
      },
      "source": [
        "While we'll usually use the syntax `for item in list`, sometimes we will combine a `for` loop with indexing. The `range` function (which we used in the last notebook) is useful for this. For example, we can pick out every other item in the list."
      ]
    },
    {
      "cell_type": "code",
      "metadata": {
        "colab": {
          "base_uri": "https://localhost:8080/"
        },
        "id": "1N5y0J5oSEmw",
        "outputId": "e97f2135-cecc-4f3d-8be2-e70fb1119274"
      },
      "source": [
        "for i in range(0, len(grocery_list), 2):\n",
        "    print(i, grocery_list[i])"
      ],
      "execution_count": 28,
      "outputs": [
        {
          "output_type": "stream",
          "text": [
            "0 chicken\n",
            "2 rice\n",
            "4 bananas\n"
          ],
          "name": "stdout"
        }
      ]
    },
    {
      "cell_type": "markdown",
      "metadata": {
        "id": "Gkjz-lyRSEmw"
      },
      "source": [
        "The `range` function returns a sequence of integers between the first and second argument, using the third argument as the step size. Notice that the upper bound (i.e. second argument) is not included in the output."
      ]
    },
    {
      "cell_type": "code",
      "metadata": {
        "colab": {
          "base_uri": "https://localhost:8080/"
        },
        "id": "B3jF5nirSEmy",
        "outputId": "973a5e6c-5424-439c-8b14-c60abf5b85ee"
      },
      "source": [
        "print(range(0, 10, 3))\n",
        "print(range(104, 100, -1))\n",
        "print(range(5)) # starts at 0 and counts by 1 by default"
      ],
      "execution_count": 29,
      "outputs": [
        {
          "output_type": "stream",
          "text": [
            "range(0, 10, 3)\n",
            "range(104, 100, -1)\n",
            "range(0, 5)\n"
          ],
          "name": "stdout"
        }
      ]
    },
    {
      "cell_type": "markdown",
      "metadata": {
        "id": "zCOin-lVSEmy"
      },
      "source": [
        "We can also use indexing/slicing to replace items in the list."
      ]
    },
    {
      "cell_type": "code",
      "metadata": {
        "colab": {
          "base_uri": "https://localhost:8080/"
        },
        "id": "fXI33iC7SEmz",
        "outputId": "0d97155f-d34e-4d56-a126-02e75b78cdb9"
      },
      "source": [
        "grocery_list = ['chicken', 'onions', 'rice', 'peppers', 'bananas']\n",
        "print(grocery_list)\n",
        "grocery_list[-1] = 'oranges' # replace bananas with oranges\n",
        "print(grocery_list)\n",
        "grocery_list[1:3] = ['carrots', 'couscous'] #replace onions and rice with carrots and couscous\n",
        "print(grocery_list)"
      ],
      "execution_count": 30,
      "outputs": [
        {
          "output_type": "stream",
          "text": [
            "['chicken', 'onions', 'rice', 'peppers', 'bananas']\n",
            "['chicken', 'onions', 'rice', 'peppers', 'oranges']\n",
            "['chicken', 'carrots', 'couscous', 'peppers', 'oranges']\n"
          ],
          "name": "stdout"
        }
      ]
    },
    {
      "cell_type": "markdown",
      "metadata": {
        "id": "ZF3k_ECkSEmz"
      },
      "source": [
        "Since we can modify lists after they are created, we call them _mutable_ (the modifications are called _mutations_). Some Python data types are _immutable_, meaning once they are created they cannot be changed. We'll explore this further as we introduce more data types.\n",
        "\n",
        "Another way we can mutate a `list` is to `append` new items."
      ]
    },
    {
      "cell_type": "code",
      "metadata": {
        "colab": {
          "base_uri": "https://localhost:8080/"
        },
        "id": "w4OU2xttSEm0",
        "outputId": "49082dc2-73b9-476a-e56e-f053c8a0e1d9"
      },
      "source": [
        "grocery_list = ['chicken', 'onions', 'rice', 'peppers', 'bananas']\n",
        "print(grocery_list)\n",
        "grocery_list.append('squash')\n",
        "print(grocery_list)\n",
        "grocery_list.append(['bread', 'salt'])\n",
        "print(grocery_list) # what happened?"
      ],
      "execution_count": 31,
      "outputs": [
        {
          "output_type": "stream",
          "text": [
            "['chicken', 'onions', 'rice', 'peppers', 'bananas']\n",
            "['chicken', 'onions', 'rice', 'peppers', 'bananas', 'squash']\n",
            "['chicken', 'onions', 'rice', 'peppers', 'bananas', 'squash', ['bread', 'salt']]\n"
          ],
          "name": "stdout"
        }
      ]
    },
    {
      "cell_type": "markdown",
      "metadata": {
        "id": "jgp7WJzRSEm0"
      },
      "source": [
        "Since lists can contain lists, we have to be careful about adding multiple items to our list. Instead of `append`, we might want to use `extend`."
      ]
    },
    {
      "cell_type": "code",
      "metadata": {
        "colab": {
          "base_uri": "https://localhost:8080/"
        },
        "id": "jHat2yQgSEm1",
        "outputId": "2c8a10b2-3401-46ba-86b3-d12bc396ee0e"
      },
      "source": [
        "grocery_list = ['chicken', 'onions', 'rice', 'peppers', 'bananas', 'squash']\n",
        "print(grocery_list)\n",
        "grocery_list.extend(['bread', 'salt'])\n",
        "print(grocery_list)"
      ],
      "execution_count": 32,
      "outputs": [
        {
          "output_type": "stream",
          "text": [
            "['chicken', 'onions', 'rice', 'peppers', 'bananas', 'squash']\n",
            "['chicken', 'onions', 'rice', 'peppers', 'bananas', 'squash', 'bread', 'salt']\n"
          ],
          "name": "stdout"
        }
      ]
    },
    {
      "cell_type": "markdown",
      "metadata": {
        "id": "BUxR5CGISEm1"
      },
      "source": [
        "We can also remove items from a list."
      ]
    },
    {
      "cell_type": "code",
      "metadata": {
        "colab": {
          "base_uri": "https://localhost:8080/"
        },
        "id": "UnUQsMG7SEm4",
        "outputId": "1447f6f0-9701-47ce-8305-eec10b5d18e6"
      },
      "source": [
        "print(grocery_list)\n",
        "del grocery_list[-1] # delete the last item\n",
        "print(grocery_list)"
      ],
      "execution_count": 33,
      "outputs": [
        {
          "output_type": "stream",
          "text": [
            "['chicken', 'onions', 'rice', 'peppers', 'bananas', 'squash', 'bread', 'salt']\n",
            "['chicken', 'onions', 'rice', 'peppers', 'bananas', 'squash', 'bread']\n"
          ],
          "name": "stdout"
        }
      ]
    },
    {
      "cell_type": "code",
      "metadata": {
        "colab": {
          "base_uri": "https://localhost:8080/"
        },
        "id": "AmmlsNM2SEm4",
        "outputId": "9a411c21-c3a1-4020-f5c2-61eb8ac2c68a"
      },
      "source": [
        "print(grocery_list)\n",
        "print(grocery_list.pop(-1)) # remove the last item from the list and return it\n",
        "print(grocery_list)"
      ],
      "execution_count": 34,
      "outputs": [
        {
          "output_type": "stream",
          "text": [
            "['chicken', 'onions', 'rice', 'peppers', 'bananas', 'squash', 'bread']\n",
            "bread\n",
            "['chicken', 'onions', 'rice', 'peppers', 'bananas', 'squash']\n"
          ],
          "name": "stdout"
        }
      ]
    },
    {
      "cell_type": "markdown",
      "metadata": {
        "id": "qT4oAml3SEm6"
      },
      "source": [
        "Another mutation we can make to a list is to sort it."
      ]
    },
    {
      "cell_type": "code",
      "metadata": {
        "colab": {
          "base_uri": "https://localhost:8080/"
        },
        "id": "H89jjTvjSEm6",
        "outputId": "8edc93c5-b31f-4eef-d6a1-2708880f183e"
      },
      "source": [
        "grocery_list.sort()\n",
        "print(grocery_list)"
      ],
      "execution_count": 35,
      "outputs": [
        {
          "output_type": "stream",
          "text": [
            "['bananas', 'chicken', 'onions', 'peppers', 'rice', 'squash']\n"
          ],
          "name": "stdout"
        }
      ]
    },
    {
      "cell_type": "markdown",
      "metadata": {
        "id": "x7UfWOA2SEm7"
      },
      "source": [
        "The three major defining properties of the Python `list` are that it is ordered, heterogeneous, and mutable. Because it is heterogeneous and mutable, the `list` is very flexible. We need to be careful about the changes we make to a `list`, because they can be very unpredictable. We could break our code or lose data!"
      ]
    },
    {
      "cell_type": "markdown",
      "metadata": {
        "id": "HZ3ykizDSEm8"
      },
      "source": [
        "### Exercises\n",
        "\n",
        "1. Make a list of 10 elements and select only the last 2 elements\n",
        "2. Take that same list of 10 elements and select every other element starting with the very first element.\n",
        "3. Select every other element starting with the second element."
      ]
    },
    {
      "cell_type": "code",
      "metadata": {
        "colab": {
          "base_uri": "https://localhost:8080/"
        },
        "id": "BRCiZA7iSEm_",
        "outputId": "208cade7-ad70-49a4-c7dc-a40daff93537"
      },
      "source": [
        "[i for i in range(0,10)][-2:]"
      ],
      "execution_count": 36,
      "outputs": [
        {
          "output_type": "execute_result",
          "data": {
            "text/plain": [
              "[8, 9]"
            ]
          },
          "metadata": {
            "tags": []
          },
          "execution_count": 36
        }
      ]
    },
    {
      "cell_type": "code",
      "metadata": {
        "colab": {
          "base_uri": "https://localhost:8080/"
        },
        "id": "xJqlIEwLSEnD",
        "outputId": "4a0fb1ed-3ee1-4ca3-9270-46001d290878"
      },
      "source": [
        "list(range(10))[0::2]"
      ],
      "execution_count": 37,
      "outputs": [
        {
          "output_type": "execute_result",
          "data": {
            "text/plain": [
              "[0, 2, 4, 6, 8]"
            ]
          },
          "metadata": {
            "tags": []
          },
          "execution_count": 37
        }
      ]
    },
    {
      "cell_type": "code",
      "metadata": {
        "colab": {
          "base_uri": "https://localhost:8080/"
        },
        "id": "dWIDwyLJSEnD",
        "outputId": "95dbdb2d-a97a-4ee0-ea5f-cc8724660c51"
      },
      "source": [
        "list(range(10))[1::2]"
      ],
      "execution_count": 38,
      "outputs": [
        {
          "output_type": "execute_result",
          "data": {
            "text/plain": [
              "[1, 3, 5, 7, 9]"
            ]
          },
          "metadata": {
            "tags": []
          },
          "execution_count": 38
        }
      ]
    },
    {
      "cell_type": "markdown",
      "metadata": {
        "id": "JrtqwspVSEnE"
      },
      "source": [
        "### Gotcha (Names)\n",
        "Variables and names are not the same thing in python.  For instance, run the following code"
      ]
    },
    {
      "cell_type": "code",
      "metadata": {
        "colab": {
          "base_uri": "https://localhost:8080/"
        },
        "id": "WKSAJkDtSEnE",
        "outputId": "75294b3f-bb1f-40d2-883e-e01ededdaefa"
      },
      "source": [
        "a = 4\n",
        "b = a\n",
        "print(a, b)\n",
        "a = 5\n",
        "print(a, b)"
      ],
      "execution_count": 39,
      "outputs": [
        {
          "output_type": "stream",
          "text": [
            "4 4\n",
            "5 4\n"
          ],
          "name": "stdout"
        }
      ]
    },
    {
      "cell_type": "markdown",
      "metadata": {
        "id": "2h08rEh7SEnE"
      },
      "source": [
        "Here we assigned the name `a` to the value 4 and then `b` to be equal to `a`.  But, `b` does not point to `a`, it points to the variable that has the name `a`.  Thus, assigning the name `b` to the value of `a` does not cause the value of `b` to change when the value of `a` changes.\n",
        "\n",
        "Lets see another example, here we will make use of a Python `list`.  We will go over more about lists in the next lecture, for now, think of it as an ordered collection of Python variables (technically objects).  In this case, we will do exactly what we did before, but instead of modifying where `a` points, we will modify the object to which it points.  In this case, we will see that `b` does in fact change.  This is because they are both pointing to the same variable in memory!"
      ]
    },
    {
      "cell_type": "code",
      "metadata": {
        "colab": {
          "base_uri": "https://localhost:8080/"
        },
        "id": "_GetvOxDSEnF",
        "outputId": "923e25c6-f70c-40a5-9d3f-9b20d73ece12"
      },
      "source": [
        "a = [3, 2, 1]\n",
        "b = a\n",
        "print(a, b)\n",
        "a[1] = 5\n",
        "print(a, b)"
      ],
      "execution_count": 40,
      "outputs": [
        {
          "output_type": "stream",
          "text": [
            "[3, 2, 1] [3, 2, 1]\n",
            "[3, 5, 1] [3, 5, 1]\n"
          ],
          "name": "stdout"
        }
      ]
    },
    {
      "cell_type": "markdown",
      "metadata": {
        "id": "7i6EplLESEnF"
      },
      "source": [
        "### Exercises\n",
        "\n",
        "1. Explain the difference between a name and a variable."
      ]
    },
    {
      "cell_type": "markdown",
      "metadata": {
        "id": "Qt-7EhlDSEnG"
      },
      "source": [
        "## `tuple`\n",
        "\n",
        "A Python `tuple` is very similar to a `list` with one major difference -- it is immutable. We create a `tuple` using parentheses `()`."
      ]
    },
    {
      "cell_type": "code",
      "metadata": {
        "colab": {
          "base_uri": "https://localhost:8080/"
        },
        "id": "n68YrxcGSEnG",
        "outputId": "be46efb3-bd75-4712-ab7a-07b023f9e946"
      },
      "source": [
        "example_tuple = ('Dylan', 26, 167.6, True)\n",
        "print(example_tuple)"
      ],
      "execution_count": 41,
      "outputs": [
        {
          "output_type": "stream",
          "text": [
            "('Dylan', 26, 167.6, True)\n"
          ],
          "name": "stdout"
        }
      ]
    },
    {
      "cell_type": "markdown",
      "metadata": {
        "id": "IoaORg-WSEnJ"
      },
      "source": [
        "While we can retrieve data through indexing (because a `tuple` is ordered), we cannot modify it (because a `tuple` is immutable)."
      ]
    },
    {
      "cell_type": "code",
      "metadata": {
        "colab": {
          "base_uri": "https://localhost:8080/"
        },
        "id": "rHDP7xGpSEnK",
        "outputId": "53373b02-a61a-45d3-b3e5-3681a9a03213"
      },
      "source": [
        "print(example_tuple[2])"
      ],
      "execution_count": 42,
      "outputs": [
        {
          "output_type": "stream",
          "text": [
            "167.6\n"
          ],
          "name": "stdout"
        }
      ]
    },
    {
      "cell_type": "code",
      "metadata": {
        "colab": {
          "base_uri": "https://localhost:8080/"
        },
        "id": "EuypGmj7SEnL",
        "outputId": "15c33989-d6e0-4d6a-bce0-dfd1d47c553d"
      },
      "source": [
        "%%expect_exception TypeError\n",
        "\n",
        "\n",
        "example_tuple[2] = 169.3"
      ],
      "execution_count": 43,
      "outputs": [
        {
          "output_type": "stream",
          "text": [
            "\u001b[0;31m---------------------------------------------------------------------------\u001b[0m\n",
            "\u001b[0;31mTypeError\u001b[0m                                 Traceback (most recent call last)\n",
            "\u001b[0;32m<ipython-input-43-45d6ab107c58>\u001b[0m in \u001b[0;36m<module>\u001b[0;34m()\u001b[0m\n",
            "\u001b[1;32m      1\u001b[0m \u001b[0;34m\u001b[0m\u001b[0m\n",
            "\u001b[1;32m      2\u001b[0m \u001b[0;34m\u001b[0m\u001b[0m\n",
            "\u001b[0;32m----> 3\u001b[0;31m \u001b[0mexample_tuple\u001b[0m\u001b[0;34m[\u001b[0m\u001b[0;36m2\u001b[0m\u001b[0;34m]\u001b[0m \u001b[0;34m=\u001b[0m \u001b[0;36m169.3\u001b[0m\u001b[0;34m\u001b[0m\u001b[0;34m\u001b[0m\u001b[0m\n",
            "\u001b[0m\n",
            "\u001b[0;31mTypeError\u001b[0m: 'tuple' object does not support item assignment\n"
          ],
          "name": "stdout"
        }
      ]
    },
    {
      "cell_type": "code",
      "metadata": {
        "colab": {
          "base_uri": "https://localhost:8080/"
        },
        "id": "kSq9HjQ9SEnL",
        "outputId": "31a3e48e-aa56-4917-a534-1596bacfddd0"
      },
      "source": [
        "%%expect_exception TypeError\n",
        "\n",
        "# deletion also fails\n",
        "del example_tuple[-1]"
      ],
      "execution_count": 44,
      "outputs": [
        {
          "output_type": "stream",
          "text": [
            "\u001b[0;31m---------------------------------------------------------------------------\u001b[0m\n",
            "\u001b[0;31mTypeError\u001b[0m                                 Traceback (most recent call last)\n",
            "\u001b[0;32m<ipython-input-44-479a3be8fee0>\u001b[0m in \u001b[0;36m<module>\u001b[0;34m()\u001b[0m\n",
            "\u001b[1;32m      1\u001b[0m \u001b[0;34m\u001b[0m\u001b[0m\n",
            "\u001b[1;32m      2\u001b[0m \u001b[0;31m# deletion also fails\u001b[0m\u001b[0;34m\u001b[0m\u001b[0;34m\u001b[0m\u001b[0;34m\u001b[0m\u001b[0m\n",
            "\u001b[0;32m----> 3\u001b[0;31m \u001b[0;32mdel\u001b[0m \u001b[0mexample_tuple\u001b[0m\u001b[0;34m[\u001b[0m\u001b[0;34m-\u001b[0m\u001b[0;36m1\u001b[0m\u001b[0;34m]\u001b[0m\u001b[0;34m\u001b[0m\u001b[0;34m\u001b[0m\u001b[0m\n",
            "\u001b[0m\n",
            "\u001b[0;31mTypeError\u001b[0m: 'tuple' object doesn't support item deletion\n"
          ],
          "name": "stdout"
        }
      ]
    },
    {
      "cell_type": "markdown",
      "metadata": {
        "id": "K33T0-HeSEnM"
      },
      "source": [
        "While for clarity we should enclose tuples with `()`, Python will assume we want a `tuple` if we don't use any symbols to enclose comma separated values."
      ]
    },
    {
      "cell_type": "code",
      "metadata": {
        "colab": {
          "base_uri": "https://localhost:8080/"
        },
        "id": "OTQPOl7VSEnN",
        "outputId": "d4b1ee18-e09b-46a0-ca37-a971aad09cab"
      },
      "source": [
        "another_example_tuple = 'Jill', 36, 162.3, True\n",
        "print(another_example_tuple)\n",
        "print(type(another_example_tuple))"
      ],
      "execution_count": 45,
      "outputs": [
        {
          "output_type": "stream",
          "text": [
            "('Jill', 36, 162.3, True)\n",
            "<class 'tuple'>\n"
          ],
          "name": "stdout"
        }
      ]
    },
    {
      "cell_type": "markdown",
      "metadata": {
        "id": "4DJ2hmZhSEnN"
      },
      "source": [
        "This implicit `tuple` comes up most often when working with functions that return multiple outputs. For example, we might have a function that returns the first and last letter of a string."
      ]
    },
    {
      "cell_type": "code",
      "metadata": {
        "colab": {
          "base_uri": "https://localhost:8080/"
        },
        "id": "dqCoAH4CSEnO",
        "outputId": "72d8a3a5-f060-49eb-d324-ab9d53aba4a9"
      },
      "source": [
        "def first_last(s):\n",
        "    return s[0], s[-1]\n",
        "\n",
        "chars = first_last('hello!')\n",
        "print(chars)"
      ],
      "execution_count": 46,
      "outputs": [
        {
          "output_type": "stream",
          "text": [
            "('h', '!')\n"
          ],
          "name": "stdout"
        }
      ]
    },
    {
      "cell_type": "markdown",
      "metadata": {
        "id": "LKO4V0SoSEnP"
      },
      "source": [
        "In such cases, we'll sometimes want to store the multiple outputs in separate variables."
      ]
    },
    {
      "cell_type": "code",
      "metadata": {
        "colab": {
          "base_uri": "https://localhost:8080/"
        },
        "id": "U8UpXdCRSEnP",
        "outputId": "9b8dd718-8992-4297-c8af-63597a0a28c7"
      },
      "source": [
        "first_char, last_char = first_last('hello!')\n",
        "\n",
        "print(first_char)\n",
        "print(last_char)"
      ],
      "execution_count": 47,
      "outputs": [
        {
          "output_type": "stream",
          "text": [
            "h\n",
            "!\n"
          ],
          "name": "stdout"
        }
      ]
    },
    {
      "cell_type": "markdown",
      "metadata": {
        "id": "0kCjWMzFSEnQ"
      },
      "source": [
        "This syntax is called _unpacking_. We can use it with any `tuple`, whether it was returned by a function or not."
      ]
    },
    {
      "cell_type": "code",
      "metadata": {
        "colab": {
          "base_uri": "https://localhost:8080/"
        },
        "id": "e3pyQ1YrSEnR",
        "outputId": "aeb582d3-af61-4ead-9cc7-9391615928ba"
      },
      "source": [
        "name, age, height, has_dog = example_tuple\n",
        "\n",
        "print(name)\n",
        "print(age)\n",
        "print(height)\n",
        "print(has_dog)"
      ],
      "execution_count": 48,
      "outputs": [
        {
          "output_type": "stream",
          "text": [
            "Dylan\n",
            "26\n",
            "167.6\n",
            "True\n"
          ],
          "name": "stdout"
        }
      ]
    },
    {
      "cell_type": "markdown",
      "metadata": {
        "id": "pdUop4U9SEnR"
      },
      "source": [
        "Both the Python `list` and `tuple` are ordered and heterogeneous. However, unlike the `list`, the `tuple` is immutable, meaning it cannot be modified after it is created. Therefore, a `list` might be better for representing data that is expected to change over the course of a program, like a to-do list. A `tuple` might be better for representing data that is expected to be fixed, like the responses of an individual subject to a survey.\n",
        "\n",
        "#### Gotcha\n",
        "\n",
        "One common mistake people make with immutability and especially with tuples is to assume data structures inside the tuple are immutable because the tuple is immutable.  Lets see an example."
      ]
    },
    {
      "cell_type": "code",
      "metadata": {
        "colab": {
          "base_uri": "https://localhost:8080/"
        },
        "id": "Jr2ToOB7SEnS",
        "outputId": "18354b35-1743-47b0-aff9-dea3a0b6cbe3"
      },
      "source": [
        "tup = tuple([[], 'a'])\n",
        "print(tup)\n",
        "tup[0].append(1)\n",
        "print(tup)"
      ],
      "execution_count": 49,
      "outputs": [
        {
          "output_type": "stream",
          "text": [
            "([], 'a')\n",
            "([1], 'a')\n"
          ],
          "name": "stdout"
        }
      ]
    },
    {
      "cell_type": "markdown",
      "metadata": {
        "id": "P6VhPfSBSEnS"
      },
      "source": [
        "Even though the tuple itself is immutable, we cannot change the exact objects which it contains, those objects themselves can be mutated if they are mutable.  As with anywhere mutability shows up, this requires the programmer to be careful and not assume data has not been modified in some context."
      ]
    },
    {
      "cell_type": "markdown",
      "metadata": {
        "id": "fDlArukGSEnT"
      },
      "source": [
        "## `set`\n",
        "\n",
        "A Python `set` is also similar to a `list`, except it is unordered. It can store heterogeneous data and it is mutable, but what does it mean to be unordered? The simplest explanation is simply to look at an example. We can create a set by enclosing our data with curly brackets `{}`."
      ]
    },
    {
      "cell_type": "code",
      "metadata": {
        "colab": {
          "base_uri": "https://localhost:8080/"
        },
        "id": "FapxQNKSSEnU",
        "outputId": "8420cab1-591a-4b11-e2f1-bf6fed136efc"
      },
      "source": [
        "example_set = {'Dylan', 26, 167.6, True}\n",
        "print(example_set)"
      ],
      "execution_count": 50,
      "outputs": [
        {
          "output_type": "stream",
          "text": [
            "{167.6, 26, True, 'Dylan'}\n"
          ],
          "name": "stdout"
        }
      ]
    },
    {
      "cell_type": "markdown",
      "metadata": {
        "id": "eKzadkjSSEnU"
      },
      "source": [
        "Even though we entered the data in one order, the `set` printed out in a different order. Even more significantly, we cannot index or slice a `set`."
      ]
    },
    {
      "cell_type": "code",
      "metadata": {
        "colab": {
          "base_uri": "https://localhost:8080/"
        },
        "id": "VCM3jfYsSEnV",
        "outputId": "5c3e42cc-308c-42cb-ad16-6c2fdac2816e"
      },
      "source": [
        "%%expect_exception TypeError\n",
        "\n",
        "print(example_set[0])"
      ],
      "execution_count": 51,
      "outputs": [
        {
          "output_type": "stream",
          "text": [
            "\u001b[0;31m---------------------------------------------------------------------------\u001b[0m\n",
            "\u001b[0;31mTypeError\u001b[0m                                 Traceback (most recent call last)\n",
            "\u001b[0;32m<ipython-input-51-8b501706fe9d>\u001b[0m in \u001b[0;36m<module>\u001b[0;34m()\u001b[0m\n",
            "\u001b[1;32m      1\u001b[0m \u001b[0;34m\u001b[0m\u001b[0m\n",
            "\u001b[0;32m----> 2\u001b[0;31m \u001b[0mprint\u001b[0m\u001b[0;34m(\u001b[0m\u001b[0mexample_set\u001b[0m\u001b[0;34m[\u001b[0m\u001b[0;36m0\u001b[0m\u001b[0;34m]\u001b[0m\u001b[0;34m)\u001b[0m\u001b[0;34m\u001b[0m\u001b[0;34m\u001b[0m\u001b[0m\n",
            "\u001b[0m\n",
            "\u001b[0;31mTypeError\u001b[0m: 'set' object does not support indexing\n"
          ],
          "name": "stdout"
        }
      ]
    },
    {
      "cell_type": "markdown",
      "metadata": {
        "id": "p2NkkuBkSEnV"
      },
      "source": [
        "However, we can still add and delete items from a set."
      ]
    },
    {
      "cell_type": "code",
      "metadata": {
        "colab": {
          "base_uri": "https://localhost:8080/"
        },
        "id": "M1Z42PsdSEnW",
        "outputId": "f980ce1b-5124-41f4-98a3-f44273dddf2a"
      },
      "source": [
        "print(example_set)\n",
        "print(example_set.pop())\n",
        "print(example_set)"
      ],
      "execution_count": 52,
      "outputs": [
        {
          "output_type": "stream",
          "text": [
            "{167.6, 26, True, 'Dylan'}\n",
            "167.6\n",
            "{26, True, 'Dylan'}\n"
          ],
          "name": "stdout"
        }
      ]
    },
    {
      "cell_type": "code",
      "metadata": {
        "colab": {
          "base_uri": "https://localhost:8080/"
        },
        "id": "GOS_9UitSEnW",
        "outputId": "17cc17db-945e-4d6a-a850-c69d4753eb29"
      },
      "source": [
        "example_set.add('True')\n",
        "print(example_set)\n",
        "example_set.update([58.1, 'brown'])\n",
        "print(example_set)"
      ],
      "execution_count": 53,
      "outputs": [
        {
          "output_type": "stream",
          "text": [
            "{'True', 26, True, 'Dylan'}\n",
            "{True, 58.1, 'True', 'brown', 26, 'Dylan'}\n"
          ],
          "name": "stdout"
        }
      ]
    },
    {
      "cell_type": "markdown",
      "metadata": {
        "id": "VLga-Vc3SEnW"
      },
      "source": [
        "The `add` method of a `set` works similarly to the `append` method of a `list`. The `update` method of a `set` works similarly to the `extend` method of a `list`.\n",
        "\n",
        "_**Why is `set` useful?**_\n",
        "\n",
        "It seems strange that we might want an _unordered_ data structure. We can't access or modify the data through indexing. How does giving up order benefit us? The answer is that it gives us flexibility about how the data is stored in memory, and that flexibility can make data retrieval much faster.\n",
        "\n",
        "Imagine we have ten boxes and ten piles of money. We put the ten piles of money in the ten boxes. Now say we want to find the box that has \\$5.37 in it. We don't know which box this is, so we start with the first box and check. If it isn't in the first box, we move on to the second box. We keep checking boxes until we find it. This might take awhile.\n",
        "\n",
        "![list_illustration](images/list_illustration.png)\n",
        "\n",
        "Now imagine we have the same ten piles of money, but we have 31 boxes. Instead of putting each pile of money into the boxes in order, instead put each pile into a box based on the amount of money in the pile. First we multiply the amount of money by 100, and then take modulus division by 31. This gives the number of the box we should put the pile of money in."
      ]
    },
    {
      "cell_type": "code",
      "metadata": {
        "id": "tKU8dqOsSEnX"
      },
      "source": [
        "piles = [2.83, 8.23, 9.38, 10.23, 25.58, 0.42, 5.37, 28.10, 32.14, 7.31]"
      ],
      "execution_count": 54,
      "outputs": []
    },
    {
      "cell_type": "code",
      "metadata": {
        "id": "fezSQv9PSEnZ"
      },
      "source": [
        "def hash_function(x):\n",
        "    return int(x*100 % 31)"
      ],
      "execution_count": 55,
      "outputs": []
    },
    {
      "cell_type": "code",
      "metadata": {
        "colab": {
          "base_uri": "https://localhost:8080/"
        },
        "id": "zWyWp_74SEna",
        "outputId": "8ecfd851-b9d8-43ca-d597-aeb96f44f003"
      },
      "source": [
        "[hash_function(pile) for pile in piles]"
      ],
      "execution_count": 56,
      "outputs": [
        {
          "output_type": "execute_result",
          "data": {
            "text/plain": [
              "[4, 17, 8, 0, 16, 11, 10, 20, 21, 18]"
            ]
          },
          "metadata": {
            "tags": []
          },
          "execution_count": 56
        }
      ]
    },
    {
      "cell_type": "markdown",
      "metadata": {
        "id": "-MEQ1Rm3SEnb"
      },
      "source": [
        "Now say we want to find the box with \\$5.37 in it. We don't have to search through box after box. We can compute:"
      ]
    },
    {
      "cell_type": "code",
      "metadata": {
        "colab": {
          "base_uri": "https://localhost:8080/"
        },
        "id": "vt9_fIZPSEnb",
        "outputId": "4de5bf4c-9871-41d8-ee55-384813a9ca00"
      },
      "source": [
        "print(int(5.37 * 100 % 31))"
      ],
      "execution_count": 57,
      "outputs": [
        {
          "output_type": "stream",
          "text": [
            "10\n"
          ],
          "name": "stdout"
        }
      ]
    },
    {
      "cell_type": "markdown",
      "metadata": {
        "id": "MercVpVQSEnc"
      },
      "source": [
        "![hash_illustration](images/hash_illustration.png)\n",
        "\n",
        "Box number 10 contains the \\$5.37 pile.\n",
        "\n",
        "This technique of assigning boxes (i.e. memory) based on the object it contains is called **hashing**. It makes searching for data very fast (as we've illustrated), but at the cost of increase memory allocation (we needed more boxes). It also means that we cannot assign an order to the objects as they are stored in memory.\n",
        "\n",
        "Hashing also puts two major restrictions on the `set`. First of all, objects in a `set` must be immutable. If an object were to change, its position in memory would no longer correspond with its **hash**. Secondly, the objects in a `set` must be unique. Identical objects end up with the same hash. Since we can't store multiple objects in the same chunk of memory, we simply discard any duplicates.\n",
        "\n",
        "This second restriction means we can use a `set` to easily determine the unique objects in a `list` or `tuple`."
      ]
    },
    {
      "cell_type": "code",
      "metadata": {
        "colab": {
          "base_uri": "https://localhost:8080/"
        },
        "id": "Qege3y6eSEnc",
        "outputId": "145c77c4-117d-470b-f6d6-6792fbd0dc16"
      },
      "source": [
        "print(set([23, 609, 348, 10, 5, 23, 340, 82]))\n",
        "print(set(('a', 'b', 'q', 'c', 'c', 'd', 'r', 'a')))"
      ],
      "execution_count": 58,
      "outputs": [
        {
          "output_type": "stream",
          "text": [
            "{609, 5, 10, 82, 340, 23, 348}\n",
            "{'d', 'b', 'r', 'q', 'a', 'c'}\n"
          ],
          "name": "stdout"
        }
      ]
    },
    {
      "cell_type": "markdown",
      "metadata": {
        "id": "n2VvQ85YSEnd"
      },
      "source": [
        "Because searching for data is very simple in a `set`, they are also very useful for making comparisons between collections of data."
      ]
    },
    {
      "cell_type": "code",
      "metadata": {
        "colab": {
          "base_uri": "https://localhost:8080/"
        },
        "id": "uKWVecYjSEnd",
        "outputId": "4327766c-2461-4218-980a-80560f89eb83"
      },
      "source": [
        "student_a_courses = {'history', 'english', 'biology', 'theatre'}\n",
        "student_b_courses = {'biology', 'english', 'mathematics', 'computer science'}\n",
        "\n",
        "print(student_a_courses.intersection(student_b_courses))\n",
        "print(student_a_courses.union(student_b_courses))\n",
        "print(student_a_courses.difference(student_b_courses))\n",
        "print(student_b_courses.difference(student_a_courses))\n",
        "print(student_a_courses.symmetric_difference(student_b_courses))"
      ],
      "execution_count": 59,
      "outputs": [
        {
          "output_type": "stream",
          "text": [
            "{'biology', 'english'}\n",
            "{'biology', 'history', 'computer science', 'mathematics', 'theatre', 'english'}\n",
            "{'theatre', 'history'}\n",
            "{'computer science', 'mathematics'}\n",
            "{'history', 'computer science', 'mathematics', 'theatre'}\n"
          ],
          "name": "stdout"
        }
      ]
    },
    {
      "cell_type": "markdown",
      "metadata": {
        "id": "2wGIpfDFSEnd"
      },
      "source": [
        "![set_operations](images/set_operations.png)\n",
        "\n",
        "### Exercises\n",
        "\n",
        "1. When should I use a `set` instead of a `list`?\n",
        "2. What is an example of a problem where a `set` might be part of the solution?"
      ]
    },
    {
      "cell_type": "markdown",
      "metadata": {
        "id": "ZwXzF0poSEne"
      },
      "source": [
        "# dict\n",
        "\n",
        "To understand the Python `dict`, let's start again with the Python `list`."
      ]
    },
    {
      "cell_type": "code",
      "metadata": {
        "id": "14l98-qwSEnf"
      },
      "source": [
        "me = ['Dylan', 28, 167.5, 56.5, 'brown', 'brown', True]"
      ],
      "execution_count": 60,
      "outputs": []
    },
    {
      "cell_type": "markdown",
      "metadata": {
        "id": "ooUCYq4FSEng"
      },
      "source": [
        "This `list` describes me: my name, my age, my height (in centimeters), my weight (in kilograms), my hair color, my eye color, and whether or not I have a dog. We know we can access this information individually by index."
      ]
    },
    {
      "cell_type": "code",
      "metadata": {
        "colab": {
          "base_uri": "https://localhost:8080/"
        },
        "id": "rraLtOMpSEng",
        "outputId": "a35a50f8-bed8-4a54-d9b9-717347d45a26"
      },
      "source": [
        "print('My name is %s' % me[0])\n",
        "print('I have %s hair' % me[4])"
      ],
      "execution_count": 61,
      "outputs": [
        {
          "output_type": "stream",
          "text": [
            "My name is Dylan\n",
            "I have brown hair\n"
          ],
          "name": "stdout"
        }
      ]
    },
    {
      "cell_type": "markdown",
      "metadata": {
        "id": "zl7M6V3zSEnh"
      },
      "source": [
        "It would be easy to get mixed up about which data is which (for example, which `'brown'` is hair color and which is eye color?), or where I should find it (will age always be at index 1?).\n",
        "\n",
        "A better solution would be a data structure where we could index using meaningful values. For example instead of using `me[0]` to recover `Dylan`, I could use `me['name']`. Instead of hair color being `me[4]`, it could be `me['hair']`. This feature is the central characteristic of the Python `dict`."
      ]
    },
    {
      "cell_type": "code",
      "metadata": {
        "colab": {
          "base_uri": "https://localhost:8080/"
        },
        "id": "LE8QoU8TSEnh",
        "outputId": "a6331098-defd-4929-f46f-3cddd2977880"
      },
      "source": [
        "me_dict = {'name': 'Dylan', 'age': 28, 'height': 167.5, 'weight': 56.5, 'hair': 'brown', 'eyes': 'brown', 'has dog': True}\n",
        "\n",
        "print('My name is %s' % me_dict['name'])\n",
        "print('I have %s hair' % me_dict['hair'])"
      ],
      "execution_count": 62,
      "outputs": [
        {
          "output_type": "stream",
          "text": [
            "My name is Dylan\n",
            "I have brown hair\n"
          ],
          "name": "stdout"
        }
      ]
    },
    {
      "cell_type": "markdown",
      "metadata": {
        "id": "m--P1hj9SEni"
      },
      "source": [
        "Instead of calling `'name'` and '`hair'` the index, we call them **keys**. Each key is associated with a **value** in a **key-value pair**. We can see the key-value pairs in the `{}` syntax used for creating a `dict`. Each key-value pair is separated by a comma, and within a pair the key and value are separated by a colon `:`.\n",
        "\n",
        "### Exercises\n",
        "1. When might a `dict` be more useful than a `list`?\n",
        "2. Compare the flexibility of a `dict` which contains other `dict` object to that of a multi dimensional array."
      ]
    },
    {
      "cell_type": "markdown",
      "metadata": {
        "id": "7lpEOUPkSEni"
      },
      "source": [
        "### `zip`\n",
        "\n",
        "The `zip` function can be very handy for creating a `dict`. Let's go back to the `list` we made before that contained all the values describing me. We'll make a second `list` containing all the keys we would want for putting these values in a dictionary"
      ]
    },
    {
      "cell_type": "code",
      "metadata": {
        "colab": {
          "base_uri": "https://localhost:8080/"
        },
        "id": "18Ai62c8SEni",
        "outputId": "214d1ed6-24d9-4451-f596-d8c8f1efcc42"
      },
      "source": [
        "value_list = me\n",
        "key_list = ['name', 'age', 'height', 'weight', 'hair', 'eyes', 'has dog']\n",
        "\n",
        "print(value_list)\n",
        "print(key_list)"
      ],
      "execution_count": 63,
      "outputs": [
        {
          "output_type": "stream",
          "text": [
            "['Dylan', 28, 167.5, 56.5, 'brown', 'brown', True]\n",
            "['name', 'age', 'height', 'weight', 'hair', 'eyes', 'has dog']\n"
          ],
          "name": "stdout"
        }
      ]
    },
    {
      "cell_type": "markdown",
      "metadata": {
        "id": "HEqPmDqFSEnj"
      },
      "source": [
        "Currently we have two lists: one of values and one of keys. They have no relationship to each other within Python, but we can see that they belong together logically. How do we combine them in Python? By using the `zip` function."
      ]
    },
    {
      "cell_type": "code",
      "metadata": {
        "colab": {
          "base_uri": "https://localhost:8080/"
        },
        "id": "IpyhkTAmSEnj",
        "outputId": "f913c678-49ca-4acb-80f3-7e85bd4e8298"
      },
      "source": [
        "key_value_pairs = list(zip(key_list, value_list))\n",
        "print(key_value_pairs)"
      ],
      "execution_count": 64,
      "outputs": [
        {
          "output_type": "stream",
          "text": [
            "[('name', 'Dylan'), ('age', 28), ('height', 167.5), ('weight', 56.5), ('hair', 'brown'), ('eyes', 'brown'), ('has dog', True)]\n"
          ],
          "name": "stdout"
        }
      ]
    },
    {
      "cell_type": "markdown",
      "metadata": {
        "id": "gPj9eUstSEnj"
      },
      "source": [
        "We now have a list of tuples. We interpret the first element of each tuple as a key, and the second element as a value. We can turn this list of tuples directly into a `dict`."
      ]
    },
    {
      "cell_type": "code",
      "metadata": {
        "colab": {
          "base_uri": "https://localhost:8080/"
        },
        "id": "g5bI1qmfSEnk",
        "outputId": "16f8a467-9752-4f92-d1bf-87d0f429881d"
      },
      "source": [
        "me_dict = dict(key_value_pairs)\n",
        "print(me_dict)"
      ],
      "execution_count": 65,
      "outputs": [
        {
          "output_type": "stream",
          "text": [
            "{'name': 'Dylan', 'age': 28, 'height': 167.5, 'weight': 56.5, 'hair': 'brown', 'eyes': 'brown', 'has dog': True}\n"
          ],
          "name": "stdout"
        }
      ]
    },
    {
      "cell_type": "markdown",
      "metadata": {
        "id": "fvo7vsIXSEnk"
      },
      "source": [
        "You may have noticed that even though our list of tuples began with `('name', 'Dylan')`, when we printed `me_dict` it started with `'eyes': 'brown'`. If you guessed this means that a `dict` is unordered, you are correct! The keys are hashed to assign key-value pairs to memory. Therefore, keys must be immutable and unique, similar to the elements of a `set`. However, values don't have these restrictions."
      ]
    },
    {
      "cell_type": "code",
      "metadata": {
        "colab": {
          "base_uri": "https://localhost:8080/"
        },
        "id": "fZEfSwyfSEnk",
        "outputId": "9835f120-1bb8-491a-866b-495c93158a05"
      },
      "source": [
        "%%expect_exception TypeError\n",
        "\n",
        "# this doesn't work\n",
        "invalid_dict = {[1, 5]: 'a', 5: 23}"
      ],
      "execution_count": 66,
      "outputs": [
        {
          "output_type": "stream",
          "text": [
            "\u001b[0;31m---------------------------------------------------------------------------\u001b[0m\n",
            "\u001b[0;31mTypeError\u001b[0m                                 Traceback (most recent call last)\n",
            "\u001b[0;32m<ipython-input-66-26e20521cef3>\u001b[0m in \u001b[0;36m<module>\u001b[0;34m()\u001b[0m\n",
            "\u001b[1;32m      1\u001b[0m \u001b[0;34m\u001b[0m\u001b[0m\n",
            "\u001b[1;32m      2\u001b[0m \u001b[0;31m# this doesn't work\u001b[0m\u001b[0;34m\u001b[0m\u001b[0;34m\u001b[0m\u001b[0;34m\u001b[0m\u001b[0m\n",
            "\u001b[0;32m----> 3\u001b[0;31m \u001b[0minvalid_dict\u001b[0m \u001b[0;34m=\u001b[0m \u001b[0;34m{\u001b[0m\u001b[0;34m[\u001b[0m\u001b[0;36m1\u001b[0m\u001b[0;34m,\u001b[0m \u001b[0;36m5\u001b[0m\u001b[0;34m]\u001b[0m\u001b[0;34m:\u001b[0m \u001b[0;34m'a'\u001b[0m\u001b[0;34m,\u001b[0m \u001b[0;36m5\u001b[0m\u001b[0;34m:\u001b[0m \u001b[0;36m23\u001b[0m\u001b[0;34m}\u001b[0m\u001b[0;34m\u001b[0m\u001b[0;34m\u001b[0m\u001b[0m\n",
            "\u001b[0m\n",
            "\u001b[0;31mTypeError\u001b[0m: unhashable type: 'list'\n"
          ],
          "name": "stdout"
        }
      ]
    },
    {
      "cell_type": "code",
      "metadata": {
        "colab": {
          "base_uri": "https://localhost:8080/"
        },
        "id": "i71H7ZunSEnl",
        "outputId": "9c0b3a24-c5f4-4d89-c314-4ac0b6eed935"
      },
      "source": [
        "# but this does\n",
        "valid_dict = {(1, 5): 'a', 5: [23, 6]}\n",
        "print(valid_dict)"
      ],
      "execution_count": 67,
      "outputs": [
        {
          "output_type": "stream",
          "text": [
            "{(1, 5): 'a', 5: [23, 6]}\n"
          ],
          "name": "stdout"
        }
      ]
    },
    {
      "cell_type": "markdown",
      "metadata": {
        "id": "bqjVmoV4SEnl"
      },
      "source": [
        "The `dict` is also mutable. We can add new key-value pairs by simple assignment."
      ]
    },
    {
      "cell_type": "code",
      "metadata": {
        "colab": {
          "base_uri": "https://localhost:8080/"
        },
        "id": "yvs8DtqWSEnl",
        "outputId": "054adeae-ee65-4c2e-acca-43ee4d5e7fb8"
      },
      "source": [
        "print(me_dict)\n",
        "me_dict['favorite book'] =  'The Little Prince'\n",
        "print(me_dict)"
      ],
      "execution_count": 68,
      "outputs": [
        {
          "output_type": "stream",
          "text": [
            "{'name': 'Dylan', 'age': 28, 'height': 167.5, 'weight': 56.5, 'hair': 'brown', 'eyes': 'brown', 'has dog': True}\n",
            "{'name': 'Dylan', 'age': 28, 'height': 167.5, 'weight': 56.5, 'hair': 'brown', 'eyes': 'brown', 'has dog': True, 'favorite book': 'The Little Prince'}\n"
          ],
          "name": "stdout"
        }
      ]
    },
    {
      "cell_type": "markdown",
      "metadata": {
        "id": "eO1I4iG9SEnm"
      },
      "source": [
        "We can also use `update`, similar to the way we used it for a `set`, except now with key-value pairs."
      ]
    },
    {
      "cell_type": "code",
      "metadata": {
        "colab": {
          "base_uri": "https://localhost:8080/"
        },
        "id": "_51t0ayuSEnm",
        "outputId": "f2bf3a93-5933-4135-e9eb-363fe92adac1"
      },
      "source": [
        "print(me_dict)\n",
        "me_dict.update({'favorite color': 'orange', 'siblings': 3, 'nieces/nephews': 3})\n",
        "print(me_dict)"
      ],
      "execution_count": 69,
      "outputs": [
        {
          "output_type": "stream",
          "text": [
            "{'name': 'Dylan', 'age': 28, 'height': 167.5, 'weight': 56.5, 'hair': 'brown', 'eyes': 'brown', 'has dog': True, 'favorite book': 'The Little Prince'}\n",
            "{'name': 'Dylan', 'age': 28, 'height': 167.5, 'weight': 56.5, 'hair': 'brown', 'eyes': 'brown', 'has dog': True, 'favorite book': 'The Little Prince', 'favorite color': 'orange', 'siblings': 3, 'nieces/nephews': 3}\n"
          ],
          "name": "stdout"
        }
      ]
    },
    {
      "cell_type": "markdown",
      "metadata": {
        "id": "t_dYYvbrSEnn"
      },
      "source": [
        "We can replace or delete key-value pairs from the `dict`."
      ]
    },
    {
      "cell_type": "code",
      "metadata": {
        "colab": {
          "base_uri": "https://localhost:8080/"
        },
        "id": "9nHM_J7nSEnn",
        "outputId": "b8298217-d774-42c6-a1e0-36c17aadb6a1"
      },
      "source": [
        "print(me_dict)\n",
        "me_dict['nieces/nephews'] = 4\n",
        "print(me_dict)"
      ],
      "execution_count": 70,
      "outputs": [
        {
          "output_type": "stream",
          "text": [
            "{'name': 'Dylan', 'age': 28, 'height': 167.5, 'weight': 56.5, 'hair': 'brown', 'eyes': 'brown', 'has dog': True, 'favorite book': 'The Little Prince', 'favorite color': 'orange', 'siblings': 3, 'nieces/nephews': 3}\n",
            "{'name': 'Dylan', 'age': 28, 'height': 167.5, 'weight': 56.5, 'hair': 'brown', 'eyes': 'brown', 'has dog': True, 'favorite book': 'The Little Prince', 'favorite color': 'orange', 'siblings': 3, 'nieces/nephews': 4}\n"
          ],
          "name": "stdout"
        }
      ]
    },
    {
      "cell_type": "code",
      "metadata": {
        "colab": {
          "base_uri": "https://localhost:8080/"
        },
        "id": "-Te8FBoiSEno",
        "outputId": "a79b30d9-8826-4531-b29a-72e3bd90dc23"
      },
      "source": [
        "del me_dict['favorite book']\n",
        "print(me_dict)"
      ],
      "execution_count": 71,
      "outputs": [
        {
          "output_type": "stream",
          "text": [
            "{'name': 'Dylan', 'age': 28, 'height': 167.5, 'weight': 56.5, 'hair': 'brown', 'eyes': 'brown', 'has dog': True, 'favorite color': 'orange', 'siblings': 3, 'nieces/nephews': 4}\n"
          ],
          "name": "stdout"
        }
      ]
    },
    {
      "cell_type": "code",
      "metadata": {
        "colab": {
          "base_uri": "https://localhost:8080/"
        },
        "id": "slNrzL8BSEno",
        "outputId": "1b24b842-f82b-4cc4-88aa-fd575488c70c"
      },
      "source": [
        "print(me_dict.pop('siblings'))\n",
        "print(me_dict)"
      ],
      "execution_count": 72,
      "outputs": [
        {
          "output_type": "stream",
          "text": [
            "3\n",
            "{'name': 'Dylan', 'age': 28, 'height': 167.5, 'weight': 56.5, 'hair': 'brown', 'eyes': 'brown', 'has dog': True, 'favorite color': 'orange', 'nieces/nephews': 4}\n"
          ],
          "name": "stdout"
        }
      ]
    },
    {
      "cell_type": "markdown",
      "metadata": {
        "id": "j8__VYbLSEnp"
      },
      "source": [
        "Because the `dict` uses hashing, searching it is very fast (as with `set`). Sometimes dictionaries are referred to as **lookup tables** or **hash tables**. It is incredibly useful for referencing data through meaningful keys. While the data in a `dict` is unordered, it remains organized by the keys. We can retrieve a list of the keys and values directly, or as key-value pairs, using the appropriate methods of `dict`."
      ]
    },
    {
      "cell_type": "code",
      "metadata": {
        "colab": {
          "base_uri": "https://localhost:8080/"
        },
        "id": "F9kAXMcXSEnr",
        "outputId": "90c662ed-931b-44cd-a444-42363f8d105f"
      },
      "source": [
        "print(me_dict.keys())\n",
        "print(me_dict.values())\n",
        "print(me_dict.items())"
      ],
      "execution_count": 73,
      "outputs": [
        {
          "output_type": "stream",
          "text": [
            "dict_keys(['name', 'age', 'height', 'weight', 'hair', 'eyes', 'has dog', 'favorite color', 'nieces/nephews'])\n",
            "dict_values(['Dylan', 28, 167.5, 56.5, 'brown', 'brown', True, 'orange', 4])\n",
            "dict_items([('name', 'Dylan'), ('age', 28), ('height', 167.5), ('weight', 56.5), ('hair', 'brown'), ('eyes', 'brown'), ('has dog', True), ('favorite color', 'orange'), ('nieces/nephews', 4)])\n"
          ],
          "name": "stdout"
        }
      ]
    },
    {
      "cell_type": "markdown",
      "metadata": {
        "id": "H8-2KjClSEnr"
      },
      "source": [
        "## Switching data structures\n",
        "Each of the containers we've introduced has different properties and characteristics. Sometimes we will want to change one data structure into another to take advantage of these differences. We've already seen some methods for transforming a `dict` into a `list` of `tuple`s or vice versa. We can easily transform between `list`, `tuple`, and `set`."
      ]
    },
    {
      "cell_type": "code",
      "metadata": {
        "colab": {
          "base_uri": "https://localhost:8080/"
        },
        "id": "BXRQsyjLSEns",
        "outputId": "9a6518bc-88e6-4a71-9533-a3550a0392da"
      },
      "source": [
        "example_list = ['a', 'b', 23, 10, True, 'a', 10]\n",
        "example_tuple = tuple(example_list)\n",
        "example_set = set(example_tuple)\n",
        "example_list = list(example_set)\n",
        "\n",
        "print(example_tuple)\n",
        "print(example_set)\n",
        "print(example_list) # note we lost the duplicates because of set"
      ],
      "execution_count": 74,
      "outputs": [
        {
          "output_type": "stream",
          "text": [
            "('a', 'b', 23, 10, True, 'a', 10)\n",
            "{True, 10, 'b', 'a', 23}\n",
            "[True, 10, 'b', 'a', 23]\n"
          ],
          "name": "stdout"
        }
      ]
    },
    {
      "cell_type": "markdown",
      "metadata": {
        "id": "76sAFlPsSEns"
      },
      "source": [
        "## Search\n",
        "\n",
        "We discussed the idea of searching for data in our data structures when describing what makes `set` (and `dict`) so special. What does search look like in Python? We search for data using the keyword `in`."
      ]
    },
    {
      "cell_type": "code",
      "metadata": {
        "colab": {
          "base_uri": "https://localhost:8080/"
        },
        "id": "LgMUBPLUSEns",
        "outputId": "bfd6806a-e9b3-4f6e-a4a0-66e06b2dc6f7"
      },
      "source": [
        "print(example_list)\n",
        "print('a' in example_list)\n",
        "print('c' in example_list)"
      ],
      "execution_count": 75,
      "outputs": [
        {
          "output_type": "stream",
          "text": [
            "[True, 10, 'b', 'a', 23]\n",
            "True\n",
            "False\n"
          ],
          "name": "stdout"
        }
      ]
    },
    {
      "cell_type": "markdown",
      "metadata": {
        "id": "z1ITj0QLSEnt"
      },
      "source": [
        "When dealing with a `dict`, we can search keys, but not values."
      ]
    },
    {
      "cell_type": "code",
      "metadata": {
        "colab": {
          "base_uri": "https://localhost:8080/"
        },
        "id": "y6UFZTHXSEnt",
        "outputId": "3ad8a5db-dc55-46e9-f460-a26020bc9d85"
      },
      "source": [
        "print(me_dict)\n",
        "print('hair' in me_dict)\n",
        "print('has cat' in me_dict)\n",
        "print('brown' in me_dict)"
      ],
      "execution_count": 76,
      "outputs": [
        {
          "output_type": "stream",
          "text": [
            "{'name': 'Dylan', 'age': 28, 'height': 167.5, 'weight': 56.5, 'hair': 'brown', 'eyes': 'brown', 'has dog': True, 'favorite color': 'orange', 'nieces/nephews': 4}\n",
            "True\n",
            "False\n",
            "False\n"
          ],
          "name": "stdout"
        }
      ]
    },
    {
      "cell_type": "markdown",
      "metadata": {
        "id": "lAitwKvqSEnt"
      },
      "source": [
        "Searching for keys is important in dictionaries so that we don't accidentally try to retrieve a key-value pair that doesn't exist."
      ]
    },
    {
      "cell_type": "code",
      "metadata": {
        "colab": {
          "base_uri": "https://localhost:8080/"
        },
        "id": "o7yk5Rg2SEnu",
        "outputId": "26854cfc-e48c-4303-f026-989d658cd9f9"
      },
      "source": [
        "%%expect_exception KeyError\n",
        "\n",
        "print(me_dict['has cat'])"
      ],
      "execution_count": 77,
      "outputs": [
        {
          "output_type": "stream",
          "text": [
            "\u001b[0;31m---------------------------------------------------------------------------\u001b[0m\n",
            "\u001b[0;31mKeyError\u001b[0m                                  Traceback (most recent call last)\n",
            "\u001b[0;32m<ipython-input-77-362a33cce558>\u001b[0m in \u001b[0;36m<module>\u001b[0;34m()\u001b[0m\n",
            "\u001b[1;32m      1\u001b[0m \u001b[0;34m\u001b[0m\u001b[0m\n",
            "\u001b[0;32m----> 2\u001b[0;31m \u001b[0mprint\u001b[0m\u001b[0;34m(\u001b[0m\u001b[0mme_dict\u001b[0m\u001b[0;34m[\u001b[0m\u001b[0;34m'has cat'\u001b[0m\u001b[0;34m]\u001b[0m\u001b[0;34m)\u001b[0m\u001b[0;34m\u001b[0m\u001b[0;34m\u001b[0m\u001b[0m\n",
            "\u001b[0m\n",
            "\u001b[0;31mKeyError\u001b[0m: 'has cat'\n"
          ],
          "name": "stdout"
        }
      ]
    },
    {
      "cell_type": "code",
      "metadata": {
        "colab": {
          "base_uri": "https://localhost:8080/"
        },
        "id": "ZvswlBRlSEnu",
        "outputId": "8276b35e-6c74-40ce-dac9-f386edce371d"
      },
      "source": [
        "if 'has dog' in me_dict:\n",
        "    print('Has dog: %s' % me_dict['has dog'])\n",
        "else:\n",
        "    print(None)\n",
        "\n",
        "if 'has cat' in me_dict:\n",
        "    print('Has cat: %s' % me_dict['has cat'])\n",
        "else:\n",
        "    print(None)"
      ],
      "execution_count": 78,
      "outputs": [
        {
          "output_type": "stream",
          "text": [
            "Has dog: True\n",
            "None\n"
          ],
          "name": "stdout"
        }
      ]
    },
    {
      "cell_type": "code",
      "metadata": {
        "colab": {
          "base_uri": "https://localhost:8080/"
        },
        "id": "_LVNzHL1SEnu",
        "outputId": "01bade66-8756-467f-b13f-6ba7f3f739e6"
      },
      "source": [
        "# can use get method for same results\n",
        "\n",
        "print('Has dog: %s' % me_dict.get('has dog'))\n",
        "print('Has cat: %s' % me_dict.get('has cat'))"
      ],
      "execution_count": 79,
      "outputs": [
        {
          "output_type": "stream",
          "text": [
            "Has dog: True\n",
            "Has cat: None\n"
          ],
          "name": "stdout"
        }
      ]
    },
    {
      "cell_type": "markdown",
      "metadata": {
        "id": "9sHN901ESEnv"
      },
      "source": [
        "We can imagine a lot of situations where search is useful. Is a country in the set of places that are going to be affected by a drought? Is a task in my to-do list? Is this username already taken, and if so what is the matching password (a `dict` would be useful here)?"
      ]
    },
    {
      "cell_type": "markdown",
      "metadata": {
        "id": "u4ecYctYSEnv"
      },
      "source": [
        "## Sorting\n",
        "\n",
        "Since a `tuple` is immutable, can we sort it? Or is that a mutation? What would it mean to sort a `set` or a `dict`, which has no order?\n",
        "\n",
        "Out of the data structures we've studied so far, only `list` has a `sort` method. However, Python also has a `sorted` function, which will create a sorted `list` out of other data structures. By default `sorted` applied to a `dict` makes a `list` of sorted keys. We must use the `items` method if we want our output to be key-value pairs."
      ]
    },
    {
      "cell_type": "code",
      "metadata": {
        "colab": {
          "base_uri": "https://localhost:8080/"
        },
        "id": "h3YSjW5TSEnv",
        "outputId": "baec88cc-0090-41cd-c5eb-7f991cb7a849"
      },
      "source": [
        "print(sorted(map(str, example_tuple)))\n",
        "print(sorted(map(str, example_set)))\n",
        "print(sorted(me_dict.items()))\n",
        "print(sorted(me_dict))"
      ],
      "execution_count": 80,
      "outputs": [
        {
          "output_type": "stream",
          "text": [
            "['10', '10', '23', 'True', 'a', 'a', 'b']\n",
            "['10', '23', 'True', 'a', 'b']\n",
            "[('age', 28), ('eyes', 'brown'), ('favorite color', 'orange'), ('hair', 'brown'), ('has dog', True), ('height', 167.5), ('name', 'Dylan'), ('nieces/nephews', 4), ('weight', 56.5)]\n",
            "['age', 'eyes', 'favorite color', 'hair', 'has dog', 'height', 'name', 'nieces/nephews', 'weight']\n"
          ],
          "name": "stdout"
        }
      ]
    },
    {
      "cell_type": "markdown",
      "metadata": {
        "id": "gOsdbwGtSEnw"
      },
      "source": [
        "## Iteration\n",
        "\n",
        "As we've seen in some examples already, it will often be useful to iterate through a data structure, whether to execute some task based on the information contained or to transform or analyze a data set. We will most often use `for` loops to iterate over data structures. With a `list`, `tuple`, or `set` the elements of the container are returned one after another. With a `dict` things are a little more complicated: do we want to iterate over keys, values, or key-value pairs?"
      ]
    },
    {
      "cell_type": "code",
      "metadata": {
        "colab": {
          "base_uri": "https://localhost:8080/"
        },
        "id": "gq9d3Ff9SEnw",
        "outputId": "6525a8b1-2e98-4ac3-fa4b-fc060a74ccf1"
      },
      "source": [
        "# by default we iterate over keys of a dict\n",
        "for k in me_dict:\n",
        "    print(k)"
      ],
      "execution_count": 81,
      "outputs": [
        {
          "output_type": "stream",
          "text": [
            "name\n",
            "age\n",
            "height\n",
            "weight\n",
            "hair\n",
            "eyes\n",
            "has dog\n",
            "favorite color\n",
            "nieces/nephews\n"
          ],
          "name": "stdout"
        }
      ]
    },
    {
      "cell_type": "code",
      "metadata": {
        "colab": {
          "base_uri": "https://localhost:8080/"
        },
        "id": "NCao_S-WSEnx",
        "outputId": "65c92620-d46b-4a69-8e7f-660a49a84be9"
      },
      "source": [
        "# to iterate over values...\n",
        "for v in me_dict.values():\n",
        "    print(v)"
      ],
      "execution_count": 82,
      "outputs": [
        {
          "output_type": "stream",
          "text": [
            "Dylan\n",
            "28\n",
            "167.5\n",
            "56.5\n",
            "brown\n",
            "brown\n",
            "True\n",
            "orange\n",
            "4\n"
          ],
          "name": "stdout"
        }
      ]
    },
    {
      "cell_type": "code",
      "metadata": {
        "colab": {
          "base_uri": "https://localhost:8080/"
        },
        "id": "mdHcumSHSEnx",
        "outputId": "6ef33de3-f0a3-4917-be93-f12171926c9c"
      },
      "source": [
        "# or to iterate over key-value pairs...\n",
        "for k, v in me_dict.items():\n",
        "    print('%s: %s' % (k, v))"
      ],
      "execution_count": 83,
      "outputs": [
        {
          "output_type": "stream",
          "text": [
            "name: Dylan\n",
            "age: 28\n",
            "height: 167.5\n",
            "weight: 56.5\n",
            "hair: brown\n",
            "eyes: brown\n",
            "has dog: True\n",
            "favorite color: orange\n",
            "nieces/nephews: 4\n"
          ],
          "name": "stdout"
        }
      ]
    },
    {
      "cell_type": "markdown",
      "metadata": {
        "id": "lpw_JXNYSEnx"
      },
      "source": [
        "Notice we used `tuple` unpacking in the `for` loop in the last example!\n",
        "\n",
        "### Comprehensions\n",
        "\n",
        "Python has a special syntax called _comprehension_ for combining iteration with the creation of a data structure. It is essentially a `for` loop wrapped in the appropriate brackets for creating the data structure."
      ]
    },
    {
      "cell_type": "code",
      "metadata": {
        "colab": {
          "base_uri": "https://localhost:8080/"
        },
        "id": "pbDXZn34SEny",
        "outputId": "35783cce-3e60-4316-a8a2-78be0a12197b"
      },
      "source": [
        "squares = [x**2 for x in range(10)]\n",
        "square_lut = {x: x**2 for x in range(10)}\n",
        "\n",
        "print(squares)\n",
        "print(square_lut)"
      ],
      "execution_count": 84,
      "outputs": [
        {
          "output_type": "stream",
          "text": [
            "[0, 1, 4, 9, 16, 25, 36, 49, 64, 81]\n",
            "{0: 0, 1: 1, 2: 4, 3: 9, 4: 16, 5: 25, 6: 36, 7: 49, 8: 64, 9: 81}\n"
          ],
          "name": "stdout"
        }
      ]
    },
    {
      "cell_type": "markdown",
      "metadata": {
        "id": "INVycolXSEny"
      },
      "source": [
        "Comprehensions are very useful for doing simple transformations on data structures. For example, maybe we are writing a function that will analyze `me_dict`. It might be useful to have a `dict` of the data types of the values in `me_dict` so that we know what to expect as input."
      ]
    },
    {
      "cell_type": "code",
      "metadata": {
        "colab": {
          "base_uri": "https://localhost:8080/"
        },
        "id": "21uU8lIBSEnz",
        "outputId": "937307a8-cd8d-4c07-b5ce-fa4854350c9a"
      },
      "source": [
        "me_dict_dtypes = {k: type(v) for k, v in me_dict.items()}\n",
        "print(me_dict_dtypes)"
      ],
      "execution_count": 85,
      "outputs": [
        {
          "output_type": "stream",
          "text": [
            "{'name': <class 'str'>, 'age': <class 'int'>, 'height': <class 'float'>, 'weight': <class 'float'>, 'hair': <class 'str'>, 'eyes': <class 'str'>, 'has dog': <class 'bool'>, 'favorite color': <class 'str'>, 'nieces/nephews': <class 'int'>}\n"
          ],
          "name": "stdout"
        }
      ]
    },
    {
      "cell_type": "markdown",
      "metadata": {
        "id": "l7OzXdcSSEnz"
      },
      "source": [
        "Comprehensions also make code more readable. Compare the `for` loop implementation of `square_lut` with the comprehension."
      ]
    },
    {
      "cell_type": "code",
      "metadata": {
        "colab": {
          "base_uri": "https://localhost:8080/"
        },
        "id": "5lqOg8PMSEnz",
        "outputId": "509c66a2-07f2-4551-e718-db6a13c33ffc"
      },
      "source": [
        "square_lut = {}\n",
        "for x in range(10):\n",
        "    square_lut[x] = x**2\n",
        "\n",
        "print(square_lut)\n",
        "\n",
        "square_lut = {x: x**2 for x in range(10)}\n",
        "\n",
        "print(square_lut)"
      ],
      "execution_count": 86,
      "outputs": [
        {
          "output_type": "stream",
          "text": [
            "{0: 0, 1: 1, 2: 4, 3: 9, 4: 16, 5: 25, 6: 36, 7: 49, 8: 64, 9: 81}\n",
            "{0: 0, 1: 1, 2: 4, 3: 9, 4: 16, 5: 25, 6: 36, 7: 49, 8: 64, 9: 81}\n"
          ],
          "name": "stdout"
        }
      ]
    },
    {
      "cell_type": "markdown",
      "metadata": {
        "id": "bTY0oMwHSEn0"
      },
      "source": [
        "## Collections\n",
        "As previously mentioned, the Python standard library has a `collections` module which contains a variety of extremely useful containers, especially for implementing algorithms as they tend to be quite optimized.  They are slightly more specialized than the general Python containers.\n",
        "\n",
        "The containers are:\n",
        "\n",
        "- `namedtuple`\n",
        "- `deque`\n",
        "- `Counter`\n",
        "- `OrderedDict`\n",
        "- `defaultdict`\n",
        "\n",
        "\n",
        "### `namedtuple`\n",
        "\n",
        "The `namedtuple` generates a class which is similar to a tuple, but has named entries.  Lets make one for a three dimensional vector which has fields `x,y,z`.  If we use the `verbose` flag we can see the generated Python code."
      ]
    },
    {
      "cell_type": "code",
      "metadata": {
        "id": "MlaGWaioSEn0"
      },
      "source": [
        "from collections import namedtuple\n",
        "Vector3 = namedtuple('Vector', ['x', 'y', 'z'])"
      ],
      "execution_count": 87,
      "outputs": []
    },
    {
      "cell_type": "markdown",
      "metadata": {
        "id": "kgfNzGLrSEn0"
      },
      "source": [
        "Now we can access the elements of the elements of tuple by name."
      ]
    },
    {
      "cell_type": "code",
      "metadata": {
        "colab": {
          "base_uri": "https://localhost:8080/"
        },
        "id": "tX-iKlR0SEn1",
        "outputId": "a58f6ffb-7b80-4327-8f95-2be3f10bdcab"
      },
      "source": [
        "vec = Vector3(1,2,3)\n",
        "vec.x, vec.y, vec.z"
      ],
      "execution_count": 88,
      "outputs": [
        {
          "output_type": "execute_result",
          "data": {
            "text/plain": [
              "(1, 2, 3)"
            ]
          },
          "metadata": {
            "tags": []
          },
          "execution_count": 88
        }
      ]
    },
    {
      "cell_type": "markdown",
      "metadata": {
        "id": "WKk7qGvMSEn1"
      },
      "source": [
        "At this point you might be wondering why we can't just use a dictionary (or some other object).  One good reason is immutability"
      ]
    },
    {
      "cell_type": "code",
      "metadata": {
        "colab": {
          "base_uri": "https://localhost:8080/"
        },
        "id": "CzYGGPR6SEn1",
        "outputId": "299da09a-56b1-412f-dd37-f1847d39bde1"
      },
      "source": [
        "%%expect_exception AttributeError\n",
        "\n",
        "vec.x = 5"
      ],
      "execution_count": 89,
      "outputs": [
        {
          "output_type": "stream",
          "text": [
            "\u001b[0;31m---------------------------------------------------------------------------\u001b[0m\n",
            "\u001b[0;31mAttributeError\u001b[0m                            Traceback (most recent call last)\n",
            "\u001b[0;32m<ipython-input-89-39be0aa4ae89>\u001b[0m in \u001b[0;36m<module>\u001b[0;34m()\u001b[0m\n",
            "\u001b[1;32m      1\u001b[0m \u001b[0;34m\u001b[0m\u001b[0m\n",
            "\u001b[0;32m----> 2\u001b[0;31m \u001b[0mvec\u001b[0m\u001b[0;34m.\u001b[0m\u001b[0mx\u001b[0m \u001b[0;34m=\u001b[0m \u001b[0;36m5\u001b[0m\u001b[0;34m\u001b[0m\u001b[0;34m\u001b[0m\u001b[0m\n",
            "\u001b[0m\n",
            "\u001b[0;31mAttributeError\u001b[0m: can't set attribute\n"
          ],
          "name": "stdout"
        }
      ]
    },
    {
      "cell_type": "markdown",
      "metadata": {
        "id": "hs8DOXklSEn1"
      },
      "source": [
        "Another good reason is that it will behave like a tuple when passed into a function."
      ]
    },
    {
      "cell_type": "code",
      "metadata": {
        "colab": {
          "base_uri": "https://localhost:8080/"
        },
        "id": "sPnDOQKDSEn2",
        "outputId": "1dc10f80-8bb8-4480-8121-4d47735842d3"
      },
      "source": [
        "def tfunc(a,b,c):\n",
        "    print(a,b,c)\n",
        "tfunc(*vec)"
      ],
      "execution_count": 90,
      "outputs": [
        {
          "output_type": "stream",
          "text": [
            "1 2 3\n"
          ],
          "name": "stdout"
        }
      ]
    },
    {
      "cell_type": "markdown",
      "metadata": {
        "id": "oUzFel7aSEn2"
      },
      "source": [
        "`namedtuple` are a great way to create self documenting code with almost no memory cost.\n",
        "\n",
        "### `deque`\n",
        "A `deque` is a like a queue or a stack except it works both ways.  We can think of a `deque` as a list where we generally care about working with the ends of the list.  The `deque` is optimized for $O(1)$ performance for both adding and removing elements from the ends of the structure, whereas a general `list` will be $O(N)$ for operations at the front of the list.\n",
        "\n",
        "Lets see an example"
      ]
    },
    {
      "cell_type": "code",
      "metadata": {
        "colab": {
          "base_uri": "https://localhost:8080/"
        },
        "id": "-gze4ronSEn2",
        "outputId": "bc9e82e6-1dbf-461d-d943-591ec5416d74"
      },
      "source": [
        "from collections import deque\n",
        "\n",
        "d = deque([2,3,4,5])\n",
        "print(d)\n",
        "d.append(10)\n",
        "print(d)\n",
        "d.appendleft(20)\n",
        "print(d)"
      ],
      "execution_count": 91,
      "outputs": [
        {
          "output_type": "stream",
          "text": [
            "deque([2, 3, 4, 5])\n",
            "deque([2, 3, 4, 5, 10])\n",
            "deque([20, 2, 3, 4, 5, 10])\n"
          ],
          "name": "stdout"
        }
      ]
    },
    {
      "cell_type": "markdown",
      "metadata": {
        "id": "3r4DzN0fSEn3"
      },
      "source": [
        "Lets time how long it takes to perform the same operation adding elements to the left of a `deque` and a `list`"
      ]
    },
    {
      "cell_type": "code",
      "metadata": {
        "colab": {
          "base_uri": "https://localhost:8080/"
        },
        "id": "B938xsFVSEn3",
        "outputId": "70e2e16c-b633-4332-8aa5-95bd50bf8ecc"
      },
      "source": [
        "%%timeit\n",
        "l_ = list()\n",
        "for i in range(40000):\n",
        "    l_.insert(0, i)"
      ],
      "execution_count": 92,
      "outputs": [
        {
          "output_type": "stream",
          "text": [
            "1 loop, best of 3: 353 ms per loop\n"
          ],
          "name": "stdout"
        }
      ]
    },
    {
      "cell_type": "code",
      "metadata": {
        "colab": {
          "base_uri": "https://localhost:8080/"
        },
        "id": "IhToOMtVSEn4",
        "outputId": "bb8f2b82-66da-4358-a51d-b43f81e41843"
      },
      "source": [
        "%%timeit\n",
        "d = deque()\n",
        "for i in range(40000):\n",
        "    d.appendleft(i)"
      ],
      "execution_count": 93,
      "outputs": [
        {
          "output_type": "stream",
          "text": [
            "100 loops, best of 3: 3.11 ms per loop\n"
          ],
          "name": "stdout"
        }
      ]
    },
    {
      "cell_type": "code",
      "metadata": {
        "colab": {
          "base_uri": "https://localhost:8080/"
        },
        "id": "yN11xon9SEn4",
        "outputId": "48f30540-b560-4811-ceef-d16327b269a1"
      },
      "source": [
        "d = deque()\n",
        "l_ = list()\n",
        "for i in range(40000):\n",
        "    d.appendleft(i)\n",
        "    l_.insert(0, i)\n",
        "    \n",
        "list(d) == l_"
      ],
      "execution_count": 94,
      "outputs": [
        {
          "output_type": "execute_result",
          "data": {
            "text/plain": [
              "True"
            ]
          },
          "metadata": {
            "tags": []
          },
          "execution_count": 94
        }
      ]
    },
    {
      "cell_type": "markdown",
      "metadata": {
        "id": "rrjoqlxjSEn4"
      },
      "source": [
        "The `deque` is orders of magnitude faster than the `list`, but contains the same values.  Thus, for some specialized tasks, it can be a massive enhancement.\n",
        "\n",
        "### `Counter`\n",
        "The `Counter` is an extremely useful object.  It counts elements in some iterable and returns a dictionary-like structure containing the count of each element. Lets see an example."
      ]
    },
    {
      "cell_type": "code",
      "metadata": {
        "colab": {
          "base_uri": "https://localhost:8080/"
        },
        "id": "MiOz4NnxSEn5",
        "outputId": "2bf97ae5-8dab-4bea-ce87-51abb9851ff8"
      },
      "source": [
        "from collections import Counter\n",
        "ele = ['a','b','a','c','b','b','d']\n",
        "c = Counter(ele)\n",
        "print(c)"
      ],
      "execution_count": 95,
      "outputs": [
        {
          "output_type": "stream",
          "text": [
            "Counter({'b': 3, 'a': 2, 'c': 1, 'd': 1})\n"
          ],
          "name": "stdout"
        }
      ]
    },
    {
      "cell_type": "markdown",
      "metadata": {
        "id": "E90Kak4eSEn5"
      },
      "source": [
        "We can find the number of counts of an element by using the same `get` syntax as a dictionary.  What what happens when we access an element that has no counts."
      ]
    },
    {
      "cell_type": "code",
      "metadata": {
        "colab": {
          "base_uri": "https://localhost:8080/"
        },
        "id": "_FKrBCFMSEoG",
        "outputId": "e758b1b0-ce7e-4446-e41f-9320da060568"
      },
      "source": [
        "c['a'], c['z']"
      ],
      "execution_count": 96,
      "outputs": [
        {
          "output_type": "execute_result",
          "data": {
            "text/plain": [
              "(2, 0)"
            ]
          },
          "metadata": {
            "tags": []
          },
          "execution_count": 96
        }
      ]
    },
    {
      "cell_type": "markdown",
      "metadata": {
        "id": "NycPlGKFSEoH"
      },
      "source": [
        "We can also find the most common elements"
      ]
    },
    {
      "cell_type": "code",
      "metadata": {
        "colab": {
          "base_uri": "https://localhost:8080/"
        },
        "id": "9LrSSKiQSEoI",
        "outputId": "26f12fa4-c9ba-458a-8e2c-ff99e3f3b31e"
      },
      "source": [
        "c.most_common(2)"
      ],
      "execution_count": 97,
      "outputs": [
        {
          "output_type": "execute_result",
          "data": {
            "text/plain": [
              "[('b', 3), ('a', 2)]"
            ]
          },
          "metadata": {
            "tags": []
          },
          "execution_count": 97
        }
      ]
    },
    {
      "cell_type": "markdown",
      "metadata": {
        "id": "1z6zmuHsSEoI"
      },
      "source": [
        "### `OrderedDict`\n",
        "\n",
        "A Python dictionary does not have a natural order, but sometimes it is useful to have the properties of a dictionary like $O(1)$ access to items with an ordering.  An `OrderedDict` is exactly like a `dict`, but it remembers the insertion order of the keys.\n",
        "\n",
        "### `defaultdict`\n",
        "\n",
        "One common paradigm of a dictionary is to handle the case of a missing key.  Lets say we take the counter example from above and try to implement our own.  We want to do something like create a dictionary and every time we encounter a key we want to add one to the existing value at that key and if we haven't seen that key, we want to create it and initialize it to zero before adding it.  One way to do this is:"
      ]
    },
    {
      "cell_type": "code",
      "metadata": {
        "colab": {
          "base_uri": "https://localhost:8080/"
        },
        "id": "u5NV1X4bSEoJ",
        "outputId": "85d22eda-1061-45f7-f8cc-95746cd0c0a4"
      },
      "source": [
        "def count(x):\n",
        "    count_dict = {}\n",
        "    for ele in x:\n",
        "        if ele in count_dict.keys():\n",
        "            count_dict[ele] += 1\n",
        "        else:\n",
        "            count_dict[ele] = 1\n",
        "    return count_dict\n",
        "count(ele)"
      ],
      "execution_count": 98,
      "outputs": [
        {
          "output_type": "execute_result",
          "data": {
            "text/plain": [
              "{'a': 2, 'b': 3, 'c': 1, 'd': 1}"
            ]
          },
          "metadata": {
            "tags": []
          },
          "execution_count": 98
        }
      ]
    },
    {
      "cell_type": "markdown",
      "metadata": {
        "id": "Hc6zHCVRSEoL"
      },
      "source": [
        "This is such a common case that we have the `defaultdict` to deal with it.  The `defaultdict` takes a default _factory function_ which can be as a simple as just returning 0 which produces a value when the key has not been seen before.  We can implement in the same algorithm as above in a bit of a simpler way"
      ]
    },
    {
      "cell_type": "code",
      "metadata": {
        "colab": {
          "base_uri": "https://localhost:8080/"
        },
        "id": "AvC5uCL1SEoL",
        "outputId": "1e4aa122-4e5b-4e41-dbe8-9b94ec25385a"
      },
      "source": [
        "from collections import defaultdict\n",
        "def count_default(x):\n",
        "    count_dict = defaultdict(int)\n",
        "    for ele in x:\n",
        "        count_dict[ele] += 1\n",
        "    return count_dict\n",
        "count_default(ele)"
      ],
      "execution_count": 99,
      "outputs": [
        {
          "output_type": "execute_result",
          "data": {
            "text/plain": [
              "defaultdict(int, {'a': 2, 'b': 3, 'c': 1, 'd': 1})"
            ]
          },
          "metadata": {
            "tags": []
          },
          "execution_count": 99
        }
      ]
    },
    {
      "cell_type": "markdown",
      "metadata": {
        "id": "jNXbDpQ9SEoM"
      },
      "source": [
        "## Some topics we haven't discussed, but have used:\n",
        "- `map`"
      ]
    },
    {
      "cell_type": "markdown",
      "metadata": {
        "id": "TRPCmHiLSEoP"
      },
      "source": [
        "## Questions:\n",
        "- Are strings immutable? Are strings ordered? Can we slice strings?"
      ]
    },
    {
      "cell_type": "markdown",
      "metadata": {
        "id": "nRwi6oIKSEoQ"
      },
      "source": [
        "*Copyright &copy; 2019 The Data Incubator.  All rights reserved.*"
      ]
    }
  ]
}