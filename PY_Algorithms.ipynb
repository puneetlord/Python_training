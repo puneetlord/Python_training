{
  "nbformat": 4,
  "nbformat_minor": 0,
  "metadata": {
    "kernelspec": {
      "display_name": "Python 3",
      "language": "python",
      "name": "python3"
    },
    "language_info": {
      "codemirror_mode": {
        "name": "ipython",
        "version": 3
      },
      "file_extension": ".py",
      "mimetype": "text/x-python",
      "name": "python",
      "nbconvert_exporter": "python",
      "pygments_lexer": "ipython3",
      "version": "3.7.3"
    },
    "nbclean": true,
    "colab": {
      "name": "PY_Algorithms.ipynb",
      "provenance": [],
      "include_colab_link": true
    }
  },
  "cells": [
    {
      "cell_type": "markdown",
      "metadata": {
        "id": "view-in-github",
        "colab_type": "text"
      },
      "source": [
        "<a href=\"https://colab.research.google.com/github/puneetlord/Python_training/blob/master/PY_Algorithms.ipynb\" target=\"_parent\"><img src=\"https://colab.research.google.com/assets/colab-badge.svg\" alt=\"Open In Colab\"/></a>"
      ]
    },
    {
      "cell_type": "code",
      "metadata": {
        "id": "ypgKmwaHJ7gY"
      },
      "source": [
        "%matplotlib inline\n",
        "import matplotlib\n",
        "import seaborn as sns\n",
        "sns.set()\n",
        "matplotlib.rcParams['figure.dpi'] = 144"
      ],
      "execution_count": 2,
      "outputs": []
    },
    {
      "cell_type": "code",
      "metadata": {
        "id": "1hjQ1LvjJ7gl"
      },
      "source": [
        "%matplotlib inline\n",
        "import matplotlib\n",
        "import seaborn as sns\n",
        "matplotlib.rcParams['savefig.dpi'] = 144"
      ],
      "execution_count": 3,
      "outputs": []
    },
    {
      "cell_type": "code",
      "metadata": {
        "id": "z02XpEXUJ7gm"
      },
      "source": [
        "import expectexception"
      ],
      "execution_count": 4,
      "outputs": []
    },
    {
      "cell_type": "markdown",
      "metadata": {
        "id": "oNwBiNnkJ7gm"
      },
      "source": [
        "# Algorithms"
      ]
    },
    {
      "cell_type": "markdown",
      "metadata": {
        "id": "-rlC5q_sJ7gn"
      },
      "source": [
        "We have learned a bit about how to program in Python and some ways in which we can make our code more Pythonic.  However, programming is not only about making the computer do work for us, its about optimizing the amount of work the computer needs to do.  There are multiple types of work we can consider, but here we will consider three major bottlenecks in code:\n",
        "\n",
        "1. _Computational Complexity_ - how many instructions are executed?\n",
        "2. _Memory Needs_ - how much memory is needed?\n",
        "3. _I/O_ - How many reads and writes or network requests do I need to make?\n",
        "\n",
        "An *Algorithm* is a procedure for solving a problem.  It describes a sequence of operations then when performed will result in a solution to a problem.  There are many types of algorithms, some are guaranteed find a solution, some do not. Often we are interested in understanding the performance of of an algorithm in terms of the three bottlenecks listed above (as well as others).  In order to analyze these algorithms, we need to develop some tools to understand how algorithms behave as a function of the problem size.\n",
        "\n",
        "## Big O\n",
        "\n",
        "In order to quantify the complexity of a particular algorithm, we can consider how the algorithm grows with respect to the size of the problem.  For the purposes of this notebook we will only consider problems that are one dimensional, so we can quantify the algorithm with respect to a single number, which we will denote as $N$.  Remember that a problem itself does not have a complexity, rather it is the algorithmic solution which has complexity.  For example, lets consider the problem of summing all the numbers between 1 and $N$ (inclusive).  On way to sum this might be to take the of all of these numbers."
      ]
    },
    {
      "cell_type": "code",
      "metadata": {
        "id": "lNXmqP8ZJ7go"
      },
      "source": [
        "def sum_num(N):\n",
        "    sum_ = 0\n",
        "    for n in range(N + 1):\n",
        "        sum_ += n\n",
        "    return sum_"
      ],
      "execution_count": 5,
      "outputs": []
    },
    {
      "cell_type": "markdown",
      "metadata": {
        "id": "skN4Lqr8J7gp"
      },
      "source": [
        "This algorithm will be $O(N)$ because we need to perform about $N$ operations.  Note that we only care about the dominant function of $N$ in the expansion so for our purposes $O(N) \\approx O(N+1) \\approx O(2N)$.\n",
        "\n",
        "However, if we remember think a bit about how numbers sum, we can invoke a summation rule often attributed to Gauss which says that \n",
        "$$\\sum_{n=1}^{N} n = \\frac{N(N+1)}{2}$$"
      ]
    },
    {
      "cell_type": "code",
      "metadata": {
        "id": "j1tobwhtJ7gq"
      },
      "source": [
        "def sum_gauss(N):\n",
        "    return N*(N+1)//2 # We can use integer division here, why?"
      ],
      "execution_count": 6,
      "outputs": []
    },
    {
      "cell_type": "markdown",
      "metadata": {
        "id": "kw8mtE9GJ7gr"
      },
      "source": [
        "This algorithm is $O(1)$ because it does not depend on how the size of $N$!.  Lets just check that it gives the same answer."
      ]
    },
    {
      "cell_type": "code",
      "metadata": {
        "id": "f4KfzinPJ7gs"
      },
      "source": [
        "for N in range(100):\n",
        "    assert sum_num(N) == sum_gauss(N)"
      ],
      "execution_count": 7,
      "outputs": []
    },
    {
      "cell_type": "markdown",
      "metadata": {
        "id": "Zr7vMUH5J7gt"
      },
      "source": [
        "Now lets plot the time it takes to compute these functions as a function of $N$.  We will use a package called `matplotlib` to do some plotting, don't worry, we will learn about it later!\n",
        "\n",
        "We will time how long it takes to perform both of these algorithms.  We will take the mean of several runs."
      ]
    },
    {
      "cell_type": "code",
      "metadata": {
        "id": "yHaWA3z7J7gt"
      },
      "source": [
        "import matplotlib.pyplot as plt\n",
        "import time\n",
        "\n",
        "def compute(n_avgs, func, N):\n",
        "    times = []\n",
        "    for _ in range(n_avgs):\n",
        "        ts = time.time()\n",
        "        func(N)\n",
        "        times.append(time.time() - ts)\n",
        "    return sum(times)/float(len(times)) * 1000 # milliseconds\n",
        "\n",
        "n_avgs = 100\n",
        "time_sum = []\n",
        "time_gauss = []\n",
        "N_range = range(10,100000, 5000)\n",
        "for N in N_range:\n",
        "    time_sum.append(compute(n_avgs, sum_num, N))\n",
        "    time_gauss.append(compute(n_avgs, sum_gauss, N))"
      ],
      "execution_count": 8,
      "outputs": []
    },
    {
      "cell_type": "code",
      "metadata": {
        "colab": {
          "base_uri": "https://localhost:8080/",
          "height": 302
        },
        "id": "OHuUd9OvJ7gu",
        "outputId": "b477868b-850e-4418-999f-14f4bf8ac073"
      },
      "source": [
        "plt.plot(N_range, time_sum, 'o-', label='Sum Numbers')\n",
        "plt.plot(N_range, time_gauss, 'o-', label='Gauss')\n",
        "plt.xlabel('N')\n",
        "plt.ylabel('Average time (ms)')\n",
        "plt.legend()"
      ],
      "execution_count": 9,
      "outputs": [
        {
          "output_type": "execute_result",
          "data": {
            "text/plain": [
              "<matplotlib.legend.Legend at 0x7f9a62e66198>"
            ]
          },
          "metadata": {
            "tags": []
          },
          "execution_count": 9
        },
        {
          "output_type": "display_data",
          "data": {
            "image/png": "[encoded data removed]",
            "text/plain": [
              "<Figure size 432x288 with 1 Axes>"
            ]
          },
          "metadata": {
            "tags": [],
            "needs_background": "light"
          }
        }
      ]
    },
    {
      "cell_type": "markdown",
      "metadata": {
        "id": "sgMXsc8tJ7gv"
      },
      "source": [
        "## Computational Complexity\n",
        "\n",
        "Lets solve a version of a common problem you might find as a data scientist, how should I store my data?  Lets take a very simple case where our data is just a list of numbers and we need to store this in a list?  In there any way to optimize the storage?\n",
        "\n",
        "Lets consider the tradeoffs for various things we might want to do in the list.  \n",
        "\n",
        "### Finding an element\n",
        "\n",
        "If we want to find an element in a list and we know nothing about that list, then we need to check every element in the list to see if that element is there.  Lets write a function to do this."
      ]
    },
    {
      "cell_type": "code",
      "metadata": {
        "id": "_2PoceFhJ7gy"
      },
      "source": [
        "def find_ele(list_, ele):\n",
        "    for i in list_:\n",
        "        if i == ele:\n",
        "            return True\n",
        "    return False"
      ],
      "execution_count": 10,
      "outputs": []
    },
    {
      "cell_type": "markdown",
      "metadata": {
        "id": "SbAnav3qJ7gy"
      },
      "source": [
        "In order to test these, lets use the `random` module to generate a list of random numbers between $0$ and $10 *N$ where $N$ is the length of the list we want."
      ]
    },
    {
      "cell_type": "code",
      "metadata": {
        "id": "k-O6_LIOJ7gz"
      },
      "source": [
        "import random\n",
        "def random_list(N, sort=False):\n",
        "    list_ = [random.randint(0, 10*N) for _ in range(N)]\n",
        "    return sorted(list_) if sort else list_"
      ],
      "execution_count": 11,
      "outputs": []
    },
    {
      "cell_type": "code",
      "metadata": {
        "colab": {
          "base_uri": "https://localhost:8080/"
        },
        "id": "TCB0qwx6J7gz",
        "outputId": "4d645b79-4a52-4b28-e18f-6db80808d6a4"
      },
      "source": [
        "random_list(5)"
      ],
      "execution_count": 12,
      "outputs": [
        {
          "output_type": "execute_result",
          "data": {
            "text/plain": [
              "[35, 27, 6, 39, 21]"
            ]
          },
          "metadata": {
            "tags": []
          },
          "execution_count": 12
        }
      ]
    },
    {
      "cell_type": "code",
      "metadata": {
        "id": "GkpNmiB9orJO",
        "outputId": "ddb34e48-5a77-4d06-a40e-25e2f0b0b514",
        "colab": {
          "base_uri": "https://localhost:8080/"
        }
      },
      "source": [
        "for i in range(10, 100000, 10000):\n",
        "  print(i)"
      ],
      "execution_count": 37,
      "outputs": [
        {
          "output_type": "stream",
          "text": [
            "10\n",
            "10010\n",
            "20010\n",
            "30010\n",
            "40010\n",
            "50010\n",
            "60010\n",
            "70010\n",
            "80010\n",
            "90010\n"
          ],
          "name": "stdout"
        }
      ]
    },
    {
      "cell_type": "code",
      "metadata": {
        "id": "HKjpbeWrJ7g0"
      },
      "source": [
        "import numpy as np\n",
        "\n",
        "def time_func(func, *args):\n",
        "    ts = time.time()\n",
        "    func(*args)\n",
        "    return time.time() - ts\n",
        "\n",
        "def compute_with_list(n_avgs, N, sort, *funcs):\n",
        "    ans = []\n",
        "    for _ in range(n_avgs):\n",
        "        list_r = random_list(N, sort)\n",
        "        n_to_find = random.randint(0, 10*N)\n",
        "        ans.append([time_func(func, list_r, n_to_find)\n",
        "                for func in funcs])\n",
        "    # now find avg\n",
        "    return np.array(ans).mean(axis=0)*1000\n",
        "    \n",
        "\n",
        "n_avgs = 40\n",
        "N_range = range(10, 100000, 10000)\n",
        "time_list = np.array([compute_with_list(n_avgs, N, False, find_ele) for N in N_range])"
      ],
      "execution_count": 34,
      "outputs": []
    },
    {
      "cell_type": "code",
      "metadata": {
        "colab": {
          "base_uri": "https://localhost:8080/",
          "height": 285
        },
        "id": "tXNoG9O7J7g1",
        "outputId": "5ee1f481-fba6-4eac-9688-b78e7fb85ed3"
      },
      "source": [
        "plt.plot(N_range, time_list, 'o-')"
      ],
      "execution_count": 14,
      "outputs": [
        {
          "output_type": "execute_result",
          "data": {
            "text/plain": [
              "[<matplotlib.lines.Line2D at 0x7f9a62956a58>]"
            ]
          },
          "metadata": {
            "tags": []
          },
          "execution_count": 14
        },
        {
          "output_type": "display_data",
          "data": {
            "image/png": "[encoded data removed]",
            "text/plain": [
              "<Figure size 432x288 with 1 Axes>"
            ]
          },
          "metadata": {
            "tags": [],
            "needs_background": "light"
          }
        }
      ]
    },
    {
      "cell_type": "markdown",
      "metadata": {
        "id": "2TTFO1iPJ7g1"
      },
      "source": [
        "Let us take a slightly different approach where we know that this list sorted.  Note that sorting itself is $N\\log(N)$ complexity, so although we will be able to perform optimized searches on a sorted list, its not in general faster to sort and then find the elements.  However, if we know we will be searching often, we can build up the list as a sorted structure and for now we can assume that we have already done so.\n",
        "\n",
        "The most basic optimization we can perform is to only check until we have seen a number greater than what we are looking for.  Since we know the list is sorted, we are guaranteed to not find the number in the rest of the list."
      ]
    },
    {
      "cell_type": "code",
      "metadata": {
        "id": "4j8K_yqkJ7g2"
      },
      "source": [
        "def find_ele_sorted(list_, ele):\n",
        "    for i in list_:\n",
        "        if i == ele:\n",
        "            return True\n",
        "        if i > ele:\n",
        "            return False\n",
        "    return False\n",
        "\n",
        "n_avgs = 40\n",
        "N_range = range(10, 100000, 10000)\n",
        "time_list = np.array([compute_with_list(n_avgs, N, True, find_ele, find_ele_sorted) for N in N_range])"
      ],
      "execution_count": 15,
      "outputs": []
    },
    {
      "cell_type": "code",
      "metadata": {
        "colab": {
          "base_uri": "https://localhost:8080/",
          "height": 286
        },
        "id": "mQCx3MnsJ7g3",
        "outputId": "42fa7cbd-10ef-458f-8522-3cb4423f45b5"
      },
      "source": [
        "plt.plot(N_range, time_list[:,0], 'o-', label='find_ele')\n",
        "plt.plot(N_range, time_list[:,1], 'o-', label='find_ele_sorted')\n",
        "plt.legend()"
      ],
      "execution_count": 16,
      "outputs": [
        {
          "output_type": "execute_result",
          "data": {
            "text/plain": [
              "<matplotlib.legend.Legend at 0x7f9a628b3a58>"
            ]
          },
          "metadata": {
            "tags": []
          },
          "execution_count": 16
        },
        {
          "output_type": "display_data",
          "data": {
            "image/png": "[encoded data removed]",
            "text/plain": [
              "<Figure size 432x288 with 1 Axes>"
            ]
          },
          "metadata": {
            "tags": [],
            "needs_background": "light"
          }
        }
      ]
    },
    {
      "cell_type": "markdown",
      "metadata": {
        "id": "2IPbYe7WJ7g4"
      },
      "source": [
        "This does better on average, but it still has the same $O(N)$ runtime.  Such optimizations are useful, but we can do better.  Lets implement what is sometimes known as binary search.  This is a recursive algorithm that allows the list to be divided roughly in half on each recursive step.  this will yield logarithmic asymptotic run time.  Lets first illustrate the algorithm by walking through an example where `l_=[1,2,3,4,5,6,7,8,9,10,11]` and we want to check if 2 is contained in the list.\n",
        "\n",
        "First we check the midpoint of the list, which is 6.  We know that 2 does not equal 6, but since the list is sorted, we can immediately rule out the part of the list containing numbers greater than 6.  Thus we have already ruled out half the elements of the list. \n",
        "\n",
        "Now we can ask the question is 2 contained in list `[1,2,3,4,5]`.  First we check the midpoint element of the list, which is 3.  We know that 3 is not 2, but again, since $3>2$, we can eliminate half the list.\n",
        "\n",
        "Now we can check if 2 is contained in the list `[1,2]`.  We will take midpoint of this list as the first element (since it has index $1=len(list)/2$), and this is equal to 2.  Thus 2 is in the original list.\n",
        "\n",
        "We can see we have performed this search in only three steps and up to an extra step, this did not depend on where 2 was in the list, only that it was sorted.  Since we are removing half the list each time, we expect that the number of steps will be roughly $log(N)$, where the logarithm is understood to be base 2.  Lets make a plot of this function compared to $N$."
      ]
    },
    {
      "cell_type": "code",
      "metadata": {
        "colab": {
          "base_uri": "https://localhost:8080/",
          "height": 302
        },
        "id": "eKy5SnM2J7g5",
        "outputId": "d78d126a-00ff-4d2c-c9db-6fdf11c64945"
      },
      "source": [
        "x = np.linspace(10, 2000, 200)\n",
        "plt.plot(x, np.log(x)/x)\n",
        "plt.xlabel('N')\n",
        "plt.ylabel(r'$\\log(x)/x$')"
      ],
      "execution_count": 17,
      "outputs": [
        {
          "output_type": "execute_result",
          "data": {
            "text/plain": [
              "Text(0, 0.5, '$\\\\log(x)/x$')"
            ]
          },
          "metadata": {
            "tags": []
          },
          "execution_count": 17
        },
        {
          "output_type": "display_data",
          "data": {
            "image/png": "[encoded data removed]",
            "text/plain": [
              "<Figure size 432x288 with 1 Axes>"
            ]
          },
          "metadata": {
            "tags": [],
            "needs_background": "light"
          }
        }
      ]
    },
    {
      "cell_type": "markdown",
      "metadata": {
        "id": "f3figEHgJ7g6"
      },
      "source": [
        "Now we can compare this to our other search algorithms."
      ]
    },
    {
      "cell_type": "code",
      "metadata": {
        "id": "5z1qNt9-J7g6"
      },
      "source": [
        "def find_ele_binary(l_, ele):\n",
        "    if len(l_) < 1:\n",
        "        return False\n",
        "    mid_point = len(l_)//2\n",
        "    if l_[mid_point] == ele:\n",
        "        return True\n",
        "    elif l_[mid_point] > ele:\n",
        "        return find_ele_binary(l_[:mid_point], ele)\n",
        "    else:\n",
        "        return find_ele_binary(l_[mid_point+1:], ele)"
      ],
      "execution_count": 18,
      "outputs": []
    },
    {
      "cell_type": "code",
      "metadata": {
        "id": "2agrOk8XJ7g8"
      },
      "source": [
        "n_avgs = 50\n",
        "N_range = np.arange(1000, 70000, 8000)\n",
        "time_list = np.array([compute_with_list(n_avgs, N, True, find_ele_sorted, find_ele_binary) for N in N_range])"
      ],
      "execution_count": 19,
      "outputs": []
    },
    {
      "cell_type": "code",
      "metadata": {
        "colab": {
          "base_uri": "https://localhost:8080/",
          "height": 285
        },
        "id": "Ak-W_WpKJ7g8",
        "outputId": "c6477d2c-e597-44a3-bd29-2f368110eb98"
      },
      "source": [
        "for i, func in enumerate(['find_ele_sorted', 'find_ele_binary']):\n",
        "    l, = plt.plot(N_range, 2**time_list[:, i], 'o-', label=func)\n",
        "    # fit a line to the exponent\n",
        "    p = np.polyfit(N_range, 2**time_list[:, i], 1)\n",
        "    plt.plot(N_range, N_range * p[0] + p[1], color=l.get_color())\n",
        "\n",
        "plt.legend()"
      ],
      "execution_count": 20,
      "outputs": [
        {
          "output_type": "execute_result",
          "data": {
            "text/plain": [
              "<matplotlib.legend.Legend at 0x7f9a62780eb8>"
            ]
          },
          "metadata": {
            "tags": []
          },
          "execution_count": 20
        },
        {
          "output_type": "display_data",
          "data": {
            "image/png": "[encoded data removed]",
            "text/plain": [
              "<Figure size 432x288 with 1 Axes>"
            ]
          },
          "metadata": {
            "tags": [],
            "needs_background": "light"
          }
        }
      ]
    },
    {
      "cell_type": "markdown",
      "metadata": {
        "id": "xkXUROUsJ7g9"
      },
      "source": [
        "Of course, if we are only keeping track of what numbers we have seen, we can use something like a `set` which will be $O(1)$ access."
      ]
    },
    {
      "cell_type": "markdown",
      "metadata": {
        "id": "GCHACnIjJ7g-"
      },
      "source": [
        "## Memoization\n",
        "\n",
        "Often we can get a performance increase just by not recomputing things we have already computed!  Let's look again at our recursive Fibonacci sequence defined in a previous notebook."
      ]
    },
    {
      "cell_type": "code",
      "metadata": {
        "id": "jZmMZqJJJ7g_"
      },
      "source": [
        "def fibonacci_recursive(n):\n",
        "    if n == 0:\n",
        "        return 0\n",
        "    elif n == 1:\n",
        "        return 1\n",
        "    else:\n",
        "        return fibonacci_recursive(n-1)  + fibonacci_recursive(n-2)"
      ],
      "execution_count": 21,
      "outputs": []
    },
    {
      "cell_type": "markdown",
      "metadata": {
        "id": "TJRb-zanJ7g_"
      },
      "source": [
        "Lets make a slightly different version which keeps track of how many times we call the function on each element."
      ]
    },
    {
      "cell_type": "code",
      "metadata": {
        "id": "Hm8fmSqqJ7hA"
      },
      "source": [
        "from collections import defaultdict\n",
        "def fibonacci_count(n, d):\n",
        "    d[n] += 1\n",
        "    if n == 0:\n",
        "        return 0, d\n",
        "    elif n == 1:\n",
        "        return 1, d\n",
        "    else:\n",
        "        n1, _ = fibonacci_count(n-1, d)\n",
        "        n2, _ = fibonacci_count(n-2, d)\n",
        "        return n1 + n2, d"
      ],
      "execution_count": 22,
      "outputs": []
    },
    {
      "cell_type": "markdown",
      "metadata": {
        "id": "zXdOfWoUJ7hA"
      },
      "source": [
        "Lets see this in action for $N=5$. "
      ]
    },
    {
      "cell_type": "code",
      "metadata": {
        "colab": {
          "base_uri": "https://localhost:8080/"
        },
        "id": "6lR9j5iSJ7hB",
        "outputId": "8a758ef6-df2b-4c86-8dac-e23fc62738b1"
      },
      "source": [
        "N = 5\n",
        "ans, d = fibonacci_count(N, defaultdict(int))\n",
        "for i in range(N):\n",
        "    print(i, d[i])"
      ],
      "execution_count": 23,
      "outputs": [
        {
          "output_type": "stream",
          "text": [
            "0 3\n",
            "1 5\n",
            "2 3\n",
            "3 2\n",
            "4 1\n"
          ],
          "name": "stdout"
        }
      ]
    },
    {
      "cell_type": "markdown",
      "metadata": {
        "id": "UVLeZX8xJ7hB"
      },
      "source": [
        "\n",
        "              5\n",
        "          4       3\n",
        "         3 2     2 1\n",
        "       2 1 1 0  1 0\n",
        "      1 0"
      ]
    },
    {
      "cell_type": "markdown",
      "metadata": {
        "id": "PI30XETSJ7hC"
      },
      "source": [
        "Now lets look for $N=25$."
      ]
    },
    {
      "cell_type": "code",
      "metadata": {
        "colab": {
          "base_uri": "https://localhost:8080/"
        },
        "id": "Jj4BQQ7CJ7hC",
        "outputId": "a78391e2-973d-460d-cc4f-1f572fc38d22"
      },
      "source": [
        "N = 25\n",
        "ans, d = fibonacci_count(N, defaultdict(int))\n",
        "print(ans)\n",
        "for i in range(N):\n",
        "    print(i, d[i])"
      ],
      "execution_count": 24,
      "outputs": [
        {
          "output_type": "stream",
          "text": [
            "75025\n",
            "0 46368\n",
            "1 75025\n",
            "2 46368\n",
            "3 28657\n",
            "4 17711\n",
            "5 10946\n",
            "6 6765\n",
            "7 4181\n",
            "8 2584\n",
            "9 1597\n",
            "10 987\n",
            "11 610\n",
            "12 377\n",
            "13 233\n",
            "14 144\n",
            "15 89\n",
            "16 55\n",
            "17 34\n",
            "18 21\n",
            "19 13\n",
            "20 8\n",
            "21 5\n",
            "22 3\n",
            "23 2\n",
            "24 1\n"
          ],
          "name": "stdout"
        }
      ]
    },
    {
      "cell_type": "markdown",
      "metadata": {
        "id": "ypf7q6LtJ7hD"
      },
      "source": [
        "Notice that we are calling some of these functions with the same argument thousands of time.  If we store the answer to the problem instead of recomputing it, can we do any better?"
      ]
    },
    {
      "cell_type": "code",
      "metadata": {
        "id": "O9kh65WzJ7hD"
      },
      "source": [
        "def fibonacci_mem(n, d):\n",
        "    if n in d:\n",
        "        return d[n]\n",
        "    elif n == 0:\n",
        "        ans = 0\n",
        "    elif n == 1:\n",
        "        ans = 1\n",
        "    else:\n",
        "        ans = fibonacci_mem(n-1, d) + fibonacci_mem(n-2, d)\n",
        "    d[n] = ans\n",
        "    return ans"
      ],
      "execution_count": 25,
      "outputs": []
    },
    {
      "cell_type": "code",
      "metadata": {
        "colab": {
          "base_uri": "https://localhost:8080/"
        },
        "id": "YlZn3EKDJ7hD",
        "outputId": "55d7c177-e9d7-4015-f9e3-1e57414e4592"
      },
      "source": [
        "%%timeit\n",
        "fibonacci_mem(33, {0:0,1:1})"
      ],
      "execution_count": 26,
      "outputs": [
        {
          "output_type": "stream",
          "text": [
            "100000 loops, best of 3: 11.1 µs per loop\n"
          ],
          "name": "stdout"
        }
      ]
    },
    {
      "cell_type": "code",
      "metadata": {
        "colab": {
          "base_uri": "https://localhost:8080/"
        },
        "id": "w-T7d9hCJ7hE",
        "outputId": "9f3c6a1e-7405-4ce5-a9b0-2bb43d503be1"
      },
      "source": [
        "%%timeit\n",
        "fibonacci_recursive(33)"
      ],
      "execution_count": 27,
      "outputs": [
        {
          "output_type": "stream",
          "text": [
            "1 loop, best of 3: 1.37 s per loop\n"
          ],
          "name": "stdout"
        }
      ]
    },
    {
      "cell_type": "code",
      "metadata": {
        "colab": {
          "base_uri": "https://localhost:8080/"
        },
        "id": "kyy3T5-DJ7hE",
        "outputId": "b2ee72bc-784e-42e7-dbf4-2129541de6f6"
      },
      "source": [
        "fibonacci_mem(33, {}) == fibonacci_recursive(33)"
      ],
      "execution_count": 28,
      "outputs": [
        {
          "output_type": "execute_result",
          "data": {
            "text/plain": [
              "True"
            ]
          },
          "metadata": {
            "tags": []
          },
          "execution_count": 28
        }
      ]
    },
    {
      "cell_type": "markdown",
      "metadata": {
        "id": "FMrvKMtoJ7hE"
      },
      "source": [
        "Our memoized solution does much better, it is several orders of magnitude faster than the bare recursive solution.  \n",
        "\n",
        "However, it does come at a cost, although we save computation, we must use more memory to store the previous result.  Often there will be a tradeoff between the two."
      ]
    },
    {
      "cell_type": "markdown",
      "metadata": {
        "id": "rmhyQLIbJ7hF"
      },
      "source": [
        "### Exercise\n",
        "\n",
        "1. Write the factorial function $f(n) = n!$ as a recursive function.\n",
        "2. Would memoization make this function faster?\n",
        "3. Now what if we needed to calculate the factorial often (perhaps we were computing probabilities of different selections), would memoization be useful in this case?"
      ]
    },
    {
      "cell_type": "markdown",
      "metadata": {
        "id": "kpwh2tvFJ7hF"
      },
      "source": [
        "## Memory\n",
        "As seen before memoization has a tradeoff in terms of memory.  Lets try to describe that here for the case of the Fibonacci sequence.  We have to keep track of a single element number (the computed solution) for all number less than $N$, the number we want to compute.  Thus the memory we need grows with problem size as $O(N)$.\n",
        "\n",
        "We can analyze our algorithms in terms of memory in a similar way.  Again remember, it is the algorithm (and its implementation) which has memory complexity, not the problem itself.  \n",
        "\n",
        "For our first problem, we will again look at summing the numbers between 0 and $N$, and we will take two different approaches.\n",
        "\n",
        "For the first we will build a list of these elements and then sum them."
      ]
    },
    {
      "cell_type": "code",
      "metadata": {
        "id": "hljWEUznJ7hF"
      },
      "source": [
        "def sum_list(n):\n",
        "    numbers = range(n)\n",
        "    return sum(numbers)"
      ],
      "execution_count": 29,
      "outputs": []
    },
    {
      "cell_type": "code",
      "metadata": {
        "id": "HqqI9LoXJ7hF"
      },
      "source": [
        "def sum_iter(n):\n",
        "    number = 0\n",
        "    sum_ = 0\n",
        "    while number < n:\n",
        "        sum_ += number\n",
        "        number += 1\n",
        "    return sum_"
      ],
      "execution_count": 30,
      "outputs": []
    },
    {
      "cell_type": "code",
      "metadata": {
        "colab": {
          "base_uri": "https://localhost:8080/"
        },
        "id": "HFLfhKP2J7hG",
        "outputId": "298848e9-1b44-477c-8b65-0af774657f6a"
      },
      "source": [
        "sum_list(100), sum_iter(100)"
      ],
      "execution_count": 31,
      "outputs": [
        {
          "output_type": "execute_result",
          "data": {
            "text/plain": [
              "(4950, 4950)"
            ]
          },
          "metadata": {
            "tags": []
          },
          "execution_count": 31
        }
      ]
    },
    {
      "cell_type": "markdown",
      "metadata": {
        "id": "10sukaeHJ7hG"
      },
      "source": [
        "## Choose a data structure wisely\n",
        "\n",
        "As we may have noticed in the sorting section, the type of data structure we use is often tied into our choice of algorithm.  For example, if we don't already have sorted data, we probably don't want to use binary search because we would need to sort the data first and then would negate any search improvement (sorting is worse than $O(N)$).  \n",
        "\n",
        "This can be mitigated by choosing our original structure wisely, especially when get to build it from raw data.  For example when building a list, inserting elements in a sorted manner can be done in $O(log(N))$ time (with almost the same as binary search).  \n",
        "\n",
        "Other data structures lend themselves to other algorithmic purposes..  For example, a `heap` (implemented in Python with the [`heapq`](https://docs.python.org/2/library/heapq.html) library) implements a tree like structure which is useful for order statistics, such as keeping track of the largest or smallest $N$ items in a collection.  You can read more about it [here](https://en.wikipedia.org/wiki/Binary_heap).\n",
        "\n",
        "Even as you work through your miniprojects, sometimes choosing a dictionary instead of a list will be the difference between minutes or seconds of computation.\n",
        "\n",
        "### Exercises\n",
        "\n",
        "1. Explain why sorting and then using binary search is slower than just searching.\n",
        "2. Implement insertion on a list using the same principles as binary search."
      ]
    },
    {
      "cell_type": "markdown",
      "metadata": {
        "id": "awQqhaOXJ7hG"
      },
      "source": [
        "*Copyright &copy; 2019 The Data Incubator.  All rights reserved.*"
      ]
    }
  ]
}